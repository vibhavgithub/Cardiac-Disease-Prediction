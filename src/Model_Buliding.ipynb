{
  "cells": [
    {
      "cell_type": "markdown",
      "metadata": {
        "id": "nxuEl-XVR9Z7"
      },
      "source": [
        "# Import CSV to dataframe\n"
      ]
    },
    {
      "cell_type": "code",
      "execution_count": 1,
      "metadata": {
        "id": "AdGMd4EVbyag",
        "colab": {
          "base_uri": "https://localhost:8080/"
        },
        "outputId": "941a0969-36c8-4406-e9d1-f2f654d0de0b"
      },
      "outputs": [
        {
          "output_type": "stream",
          "name": "stdout",
          "text": [
            "Mounted at /content/drive\n"
          ]
        }
      ],
      "source": [
        "from google.colab import drive\n",
        "drive.mount('/content/drive')"
      ]
    },
    {
      "cell_type": "code",
      "execution_count": 2,
      "metadata": {
        "id": "UkRVAIGCQ1LX"
      },
      "outputs": [],
      "source": [
        "import pandas as pd\n",
        "from sklearn.model_selection import GridSearchCV\n",
        "from sklearn.model_selection import train_test_split\n",
        "from sklearn.metrics import classification_report, confusion_matrix, roc_auc_score, log_loss\n",
        "import numpy as np\n",
        "import pickle"
      ]
    },
    {
      "cell_type": "code",
      "execution_count": 3,
      "metadata": {
        "colab": {
          "base_uri": "https://localhost:8080/"
        },
        "id": "IZ6p0EYlCuQe",
        "outputId": "98f037dd-d308-472c-ef6b-2ac359c7805a"
      },
      "outputs": [
        {
          "output_type": "stream",
          "name": "stdout",
          "text": [
            "<class 'pandas.core.frame.DataFrame'>\n",
            "RangeIndex: 308854 entries, 0 to 308853\n",
            "Data columns (total 21 columns):\n",
            " #   Column                        Non-Null Count   Dtype  \n",
            "---  ------                        --------------   -----  \n",
            " 0   Height_(cm)                   308854 non-null  float64\n",
            " 1   Weight_(kg)                   308854 non-null  float64\n",
            " 2   BMI                           308854 non-null  float64\n",
            " 3   Alcohol_Consumption           308854 non-null  float64\n",
            " 4   Fruit_Consumption             308854 non-null  float64\n",
            " 5   Green_Vegetables_Consumption  308854 non-null  float64\n",
            " 6   FriedPotato_Consumption       308854 non-null  float64\n",
            " 7   Age                           308854 non-null  int64  \n",
            " 8   Checkup_Encoded               308854 non-null  int64  \n",
            " 9   General_Health_Encoded        308854 non-null  int64  \n",
            " 10  Exercise_Encoded              308854 non-null  int64  \n",
            " 11  Heart_Disease_Encoded         308854 non-null  int64  \n",
            " 12  Skin_Cancer_Encoded           308854 non-null  int64  \n",
            " 13  Other_Cancer_Encoded          308854 non-null  int64  \n",
            " 14  Depression_Encoded            308854 non-null  int64  \n",
            " 15  Arthritis_Encoded             308854 non-null  int64  \n",
            " 16  Diabetes_Encoded              308854 non-null  int64  \n",
            " 17  Smoking_History_Encoded       308854 non-null  int64  \n",
            " 18  Female                        308854 non-null  int64  \n",
            " 19  Male                          308854 non-null  int64  \n",
            " 20  BMI_Category_Encoded          308854 non-null  int64  \n",
            "dtypes: float64(7), int64(14)\n",
            "memory usage: 49.5 MB\n"
          ]
        }
      ],
      "source": [
        "df=pd.read_csv(\"/content/drive/MyDrive/Project/Cardio_Cleaned.csv\")\n",
        "df.info()"
      ]
    },
    {
      "cell_type": "code",
      "execution_count": 4,
      "metadata": {
        "colab": {
          "base_uri": "https://localhost:8080/",
          "height": 178
        },
        "id": "JWND6n5EHver",
        "outputId": "1830af3e-a350-469e-fba2-6017aa1ad154"
      },
      "outputs": [
        {
          "output_type": "execute_result",
          "data": {
            "text/plain": [
              "Heart_Disease_Encoded\n",
              "0    283883\n",
              "1     24971\n",
              "Name: count, dtype: int64"
            ],
            "text/html": [
              "<div>\n",
              "<style scoped>\n",
              "    .dataframe tbody tr th:only-of-type {\n",
              "        vertical-align: middle;\n",
              "    }\n",
              "\n",
              "    .dataframe tbody tr th {\n",
              "        vertical-align: top;\n",
              "    }\n",
              "\n",
              "    .dataframe thead th {\n",
              "        text-align: right;\n",
              "    }\n",
              "</style>\n",
              "<table border=\"1\" class=\"dataframe\">\n",
              "  <thead>\n",
              "    <tr style=\"text-align: right;\">\n",
              "      <th></th>\n",
              "      <th>count</th>\n",
              "    </tr>\n",
              "    <tr>\n",
              "      <th>Heart_Disease_Encoded</th>\n",
              "      <th></th>\n",
              "    </tr>\n",
              "  </thead>\n",
              "  <tbody>\n",
              "    <tr>\n",
              "      <th>0</th>\n",
              "      <td>283883</td>\n",
              "    </tr>\n",
              "    <tr>\n",
              "      <th>1</th>\n",
              "      <td>24971</td>\n",
              "    </tr>\n",
              "  </tbody>\n",
              "</table>\n",
              "</div><br><label><b>dtype:</b> int64</label>"
            ]
          },
          "metadata": {},
          "execution_count": 4
        }
      ],
      "source": [
        "df.Heart_Disease_Encoded.value_counts()"
      ]
    },
    {
      "cell_type": "markdown",
      "metadata": {
        "id": "JEGOs78pSKtO"
      },
      "source": [
        "# Train Test Split"
      ]
    },
    {
      "cell_type": "code",
      "execution_count": 5,
      "metadata": {
        "colab": {
          "base_uri": "https://localhost:8080/"
        },
        "id": "bf08e605",
        "outputId": "39a166c7-0afe-4cff-ae35-147c69dc7454"
      },
      "outputs": [
        {
          "output_type": "stream",
          "name": "stdout",
          "text": [
            "Shape of X_train: (216197, 20)\n",
            "Shape of X_test: (92657, 20)\n",
            "Shape of y_train: (216197,)\n",
            "Shape of y_test: (92657,)\n",
            "Heart_Disease_Encoded\n",
            "0    198717\n",
            "1     17480\n",
            "Name: count, dtype: int64\n",
            "Heart_Disease_Encoded\n",
            "0    85166\n",
            "1     7491\n",
            "Name: count, dtype: int64\n"
          ]
        }
      ],
      "source": [
        "X = df.drop('Heart_Disease_Encoded', axis=1)\n",
        "y = df['Heart_Disease_Encoded']\n",
        "\n",
        "X_train, X_test, y_train, y_test = train_test_split(X, y, test_size=0.3, random_state=1, stratify=y)\n",
        "\n",
        "print(\"Shape of X_train:\", X_train.shape)\n",
        "print(\"Shape of X_test:\", X_test.shape)\n",
        "print(\"Shape of y_train:\", y_train.shape)\n",
        "print(\"Shape of y_test:\", y_test.shape)\n",
        "print(y_train.value_counts())\n",
        "print(y_test.value_counts())"
      ]
    },
    {
      "cell_type": "markdown",
      "metadata": {
        "id": "wfLCp8uJSPVl"
      },
      "source": [
        "# Scaling"
      ]
    },
    {
      "cell_type": "code",
      "execution_count": 6,
      "metadata": {
        "id": "0be93528"
      },
      "outputs": [],
      "source": [
        "from sklearn.preprocessing import StandardScaler\n",
        "\n",
        "scaler = StandardScaler()\n",
        "X_train_scaled = scaler.fit_transform(X_train)\n",
        "X_test_scaled = scaler.transform(X_test)"
      ]
    },
    {
      "cell_type": "markdown",
      "metadata": {
        "id": "FSfmdBOPSOwV"
      },
      "source": [
        "# AdaBoost Classifier"
      ]
    },
    {
      "cell_type": "code",
      "execution_count": null,
      "metadata": {
        "colab": {
          "base_uri": "https://localhost:8080/",
          "height": 231
        },
        "id": "N50XQD9hiQbN",
        "outputId": "cb8c59a1-9784-4fc4-9980-0d35f4d68d6d"
      },
      "outputs": [
        {
          "name": "stdout",
          "output_type": "stream",
          "text": [
            "Fitting 5 folds for each of 12 candidates, totalling 60 fits\n"
          ]
        },
        {
          "data": {
            "text/html": [
              "<style>#sk-container-id-2 {\n",
              "  /* Definition of color scheme common for light and dark mode */\n",
              "  --sklearn-color-text: #000;\n",
              "  --sklearn-color-text-muted: #666;\n",
              "  --sklearn-color-line: gray;\n",
              "  /* Definition of color scheme for unfitted estimators */\n",
              "  --sklearn-color-unfitted-level-0: #fff5e6;\n",
              "  --sklearn-color-unfitted-level-1: #f6e4d2;\n",
              "  --sklearn-color-unfitted-level-2: #ffe0b3;\n",
              "  --sklearn-color-unfitted-level-3: chocolate;\n",
              "  /* Definition of color scheme for fitted estimators */\n",
              "  --sklearn-color-fitted-level-0: #f0f8ff;\n",
              "  --sklearn-color-fitted-level-1: #d4ebff;\n",
              "  --sklearn-color-fitted-level-2: #b3dbfd;\n",
              "  --sklearn-color-fitted-level-3: cornflowerblue;\n",
              "\n",
              "  /* Specific color for light theme */\n",
              "  --sklearn-color-text-on-default-background: var(--sg-text-color, var(--theme-code-foreground, var(--jp-content-font-color1, black)));\n",
              "  --sklearn-color-background: var(--sg-background-color, var(--theme-background, var(--jp-layout-color0, white)));\n",
              "  --sklearn-color-border-box: var(--sg-text-color, var(--theme-code-foreground, var(--jp-content-font-color1, black)));\n",
              "  --sklearn-color-icon: #696969;\n",
              "\n",
              "  @media (prefers-color-scheme: dark) {\n",
              "    /* Redefinition of color scheme for dark theme */\n",
              "    --sklearn-color-text-on-default-background: var(--sg-text-color, var(--theme-code-foreground, var(--jp-content-font-color1, white)));\n",
              "    --sklearn-color-background: var(--sg-background-color, var(--theme-background, var(--jp-layout-color0, #111)));\n",
              "    --sklearn-color-border-box: var(--sg-text-color, var(--theme-code-foreground, var(--jp-content-font-color1, white)));\n",
              "    --sklearn-color-icon: #878787;\n",
              "  }\n",
              "}\n",
              "\n",
              "#sk-container-id-2 {\n",
              "  color: var(--sklearn-color-text);\n",
              "}\n",
              "\n",
              "#sk-container-id-2 pre {\n",
              "  padding: 0;\n",
              "}\n",
              "\n",
              "#sk-container-id-2 input.sk-hidden--visually {\n",
              "  border: 0;\n",
              "  clip: rect(1px 1px 1px 1px);\n",
              "  clip: rect(1px, 1px, 1px, 1px);\n",
              "  height: 1px;\n",
              "  margin: -1px;\n",
              "  overflow: hidden;\n",
              "  padding: 0;\n",
              "  position: absolute;\n",
              "  width: 1px;\n",
              "}\n",
              "\n",
              "#sk-container-id-2 div.sk-dashed-wrapped {\n",
              "  border: 1px dashed var(--sklearn-color-line);\n",
              "  margin: 0 0.4em 0.5em 0.4em;\n",
              "  box-sizing: border-box;\n",
              "  padding-bottom: 0.4em;\n",
              "  background-color: var(--sklearn-color-background);\n",
              "}\n",
              "\n",
              "#sk-container-id-2 div.sk-container {\n",
              "  /* jupyter's `normalize.less` sets `[hidden] { display: none; }`\n",
              "     but bootstrap.min.css set `[hidden] { display: none !important; }`\n",
              "     so we also need the `!important` here to be able to override the\n",
              "     default hidden behavior on the sphinx rendered scikit-learn.org.\n",
              "     See: https://github.com/scikit-learn/scikit-learn/issues/21755 */\n",
              "  display: inline-block !important;\n",
              "  position: relative;\n",
              "}\n",
              "\n",
              "#sk-container-id-2 div.sk-text-repr-fallback {\n",
              "  display: none;\n",
              "}\n",
              "\n",
              "div.sk-parallel-item,\n",
              "div.sk-serial,\n",
              "div.sk-item {\n",
              "  /* draw centered vertical line to link estimators */\n",
              "  background-image: linear-gradient(var(--sklearn-color-text-on-default-background), var(--sklearn-color-text-on-default-background));\n",
              "  background-size: 2px 100%;\n",
              "  background-repeat: no-repeat;\n",
              "  background-position: center center;\n",
              "}\n",
              "\n",
              "/* Parallel-specific style estimator block */\n",
              "\n",
              "#sk-container-id-2 div.sk-parallel-item::after {\n",
              "  content: \"\";\n",
              "  width: 100%;\n",
              "  border-bottom: 2px solid var(--sklearn-color-text-on-default-background);\n",
              "  flex-grow: 1;\n",
              "}\n",
              "\n",
              "#sk-container-id-2 div.sk-parallel {\n",
              "  display: flex;\n",
              "  align-items: stretch;\n",
              "  justify-content: center;\n",
              "  background-color: var(--sklearn-color-background);\n",
              "  position: relative;\n",
              "}\n",
              "\n",
              "#sk-container-id-2 div.sk-parallel-item {\n",
              "  display: flex;\n",
              "  flex-direction: column;\n",
              "}\n",
              "\n",
              "#sk-container-id-2 div.sk-parallel-item:first-child::after {\n",
              "  align-self: flex-end;\n",
              "  width: 50%;\n",
              "}\n",
              "\n",
              "#sk-container-id-2 div.sk-parallel-item:last-child::after {\n",
              "  align-self: flex-start;\n",
              "  width: 50%;\n",
              "}\n",
              "\n",
              "#sk-container-id-2 div.sk-parallel-item:only-child::after {\n",
              "  width: 0;\n",
              "}\n",
              "\n",
              "/* Serial-specific style estimator block */\n",
              "\n",
              "#sk-container-id-2 div.sk-serial {\n",
              "  display: flex;\n",
              "  flex-direction: column;\n",
              "  align-items: center;\n",
              "  background-color: var(--sklearn-color-background);\n",
              "  padding-right: 1em;\n",
              "  padding-left: 1em;\n",
              "}\n",
              "\n",
              "\n",
              "/* Toggleable style: style used for estimator/Pipeline/ColumnTransformer box that is\n",
              "clickable and can be expanded/collapsed.\n",
              "- Pipeline and ColumnTransformer use this feature and define the default style\n",
              "- Estimators will overwrite some part of the style using the `sk-estimator` class\n",
              "*/\n",
              "\n",
              "/* Pipeline and ColumnTransformer style (default) */\n",
              "\n",
              "#sk-container-id-2 div.sk-toggleable {\n",
              "  /* Default theme specific background. It is overwritten whether we have a\n",
              "  specific estimator or a Pipeline/ColumnTransformer */\n",
              "  background-color: var(--sklearn-color-background);\n",
              "}\n",
              "\n",
              "/* Toggleable label */\n",
              "#sk-container-id-2 label.sk-toggleable__label {\n",
              "  cursor: pointer;\n",
              "  display: flex;\n",
              "  width: 100%;\n",
              "  margin-bottom: 0;\n",
              "  padding: 0.5em;\n",
              "  box-sizing: border-box;\n",
              "  text-align: center;\n",
              "  align-items: start;\n",
              "  justify-content: space-between;\n",
              "  gap: 0.5em;\n",
              "}\n",
              "\n",
              "#sk-container-id-2 label.sk-toggleable__label .caption {\n",
              "  font-size: 0.6rem;\n",
              "  font-weight: lighter;\n",
              "  color: var(--sklearn-color-text-muted);\n",
              "}\n",
              "\n",
              "#sk-container-id-2 label.sk-toggleable__label-arrow:before {\n",
              "  /* Arrow on the left of the label */\n",
              "  content: \"▸\";\n",
              "  float: left;\n",
              "  margin-right: 0.25em;\n",
              "  color: var(--sklearn-color-icon);\n",
              "}\n",
              "\n",
              "#sk-container-id-2 label.sk-toggleable__label-arrow:hover:before {\n",
              "  color: var(--sklearn-color-text);\n",
              "}\n",
              "\n",
              "/* Toggleable content - dropdown */\n",
              "\n",
              "#sk-container-id-2 div.sk-toggleable__content {\n",
              "  max-height: 0;\n",
              "  max-width: 0;\n",
              "  overflow: hidden;\n",
              "  text-align: left;\n",
              "  /* unfitted */\n",
              "  background-color: var(--sklearn-color-unfitted-level-0);\n",
              "}\n",
              "\n",
              "#sk-container-id-2 div.sk-toggleable__content.fitted {\n",
              "  /* fitted */\n",
              "  background-color: var(--sklearn-color-fitted-level-0);\n",
              "}\n",
              "\n",
              "#sk-container-id-2 div.sk-toggleable__content pre {\n",
              "  margin: 0.2em;\n",
              "  border-radius: 0.25em;\n",
              "  color: var(--sklearn-color-text);\n",
              "  /* unfitted */\n",
              "  background-color: var(--sklearn-color-unfitted-level-0);\n",
              "}\n",
              "\n",
              "#sk-container-id-2 div.sk-toggleable__content.fitted pre {\n",
              "  /* unfitted */\n",
              "  background-color: var(--sklearn-color-fitted-level-0);\n",
              "}\n",
              "\n",
              "#sk-container-id-2 input.sk-toggleable__control:checked~div.sk-toggleable__content {\n",
              "  /* Expand drop-down */\n",
              "  max-height: 200px;\n",
              "  max-width: 100%;\n",
              "  overflow: auto;\n",
              "}\n",
              "\n",
              "#sk-container-id-2 input.sk-toggleable__control:checked~label.sk-toggleable__label-arrow:before {\n",
              "  content: \"▾\";\n",
              "}\n",
              "\n",
              "/* Pipeline/ColumnTransformer-specific style */\n",
              "\n",
              "#sk-container-id-2 div.sk-label input.sk-toggleable__control:checked~label.sk-toggleable__label {\n",
              "  color: var(--sklearn-color-text);\n",
              "  background-color: var(--sklearn-color-unfitted-level-2);\n",
              "}\n",
              "\n",
              "#sk-container-id-2 div.sk-label.fitted input.sk-toggleable__control:checked~label.sk-toggleable__label {\n",
              "  background-color: var(--sklearn-color-fitted-level-2);\n",
              "}\n",
              "\n",
              "/* Estimator-specific style */\n",
              "\n",
              "/* Colorize estimator box */\n",
              "#sk-container-id-2 div.sk-estimator input.sk-toggleable__control:checked~label.sk-toggleable__label {\n",
              "  /* unfitted */\n",
              "  background-color: var(--sklearn-color-unfitted-level-2);\n",
              "}\n",
              "\n",
              "#sk-container-id-2 div.sk-estimator.fitted input.sk-toggleable__control:checked~label.sk-toggleable__label {\n",
              "  /* fitted */\n",
              "  background-color: var(--sklearn-color-fitted-level-2);\n",
              "}\n",
              "\n",
              "#sk-container-id-2 div.sk-label label.sk-toggleable__label,\n",
              "#sk-container-id-2 div.sk-label label {\n",
              "  /* The background is the default theme color */\n",
              "  color: var(--sklearn-color-text-on-default-background);\n",
              "}\n",
              "\n",
              "/* On hover, darken the color of the background */\n",
              "#sk-container-id-2 div.sk-label:hover label.sk-toggleable__label {\n",
              "  color: var(--sklearn-color-text);\n",
              "  background-color: var(--sklearn-color-unfitted-level-2);\n",
              "}\n",
              "\n",
              "/* Label box, darken color on hover, fitted */\n",
              "#sk-container-id-2 div.sk-label.fitted:hover label.sk-toggleable__label.fitted {\n",
              "  color: var(--sklearn-color-text);\n",
              "  background-color: var(--sklearn-color-fitted-level-2);\n",
              "}\n",
              "\n",
              "/* Estimator label */\n",
              "\n",
              "#sk-container-id-2 div.sk-label label {\n",
              "  font-family: monospace;\n",
              "  font-weight: bold;\n",
              "  display: inline-block;\n",
              "  line-height: 1.2em;\n",
              "}\n",
              "\n",
              "#sk-container-id-2 div.sk-label-container {\n",
              "  text-align: center;\n",
              "}\n",
              "\n",
              "/* Estimator-specific */\n",
              "#sk-container-id-2 div.sk-estimator {\n",
              "  font-family: monospace;\n",
              "  border: 1px dotted var(--sklearn-color-border-box);\n",
              "  border-radius: 0.25em;\n",
              "  box-sizing: border-box;\n",
              "  margin-bottom: 0.5em;\n",
              "  /* unfitted */\n",
              "  background-color: var(--sklearn-color-unfitted-level-0);\n",
              "}\n",
              "\n",
              "#sk-container-id-2 div.sk-estimator.fitted {\n",
              "  /* fitted */\n",
              "  background-color: var(--sklearn-color-fitted-level-0);\n",
              "}\n",
              "\n",
              "/* on hover */\n",
              "#sk-container-id-2 div.sk-estimator:hover {\n",
              "  /* unfitted */\n",
              "  background-color: var(--sklearn-color-unfitted-level-2);\n",
              "}\n",
              "\n",
              "#sk-container-id-2 div.sk-estimator.fitted:hover {\n",
              "  /* fitted */\n",
              "  background-color: var(--sklearn-color-fitted-level-2);\n",
              "}\n",
              "\n",
              "/* Specification for estimator info (e.g. \"i\" and \"?\") */\n",
              "\n",
              "/* Common style for \"i\" and \"?\" */\n",
              "\n",
              ".sk-estimator-doc-link,\n",
              "a:link.sk-estimator-doc-link,\n",
              "a:visited.sk-estimator-doc-link {\n",
              "  float: right;\n",
              "  font-size: smaller;\n",
              "  line-height: 1em;\n",
              "  font-family: monospace;\n",
              "  background-color: var(--sklearn-color-background);\n",
              "  border-radius: 1em;\n",
              "  height: 1em;\n",
              "  width: 1em;\n",
              "  text-decoration: none !important;\n",
              "  margin-left: 0.5em;\n",
              "  text-align: center;\n",
              "  /* unfitted */\n",
              "  border: var(--sklearn-color-unfitted-level-1) 1pt solid;\n",
              "  color: var(--sklearn-color-unfitted-level-1);\n",
              "}\n",
              "\n",
              ".sk-estimator-doc-link.fitted,\n",
              "a:link.sk-estimator-doc-link.fitted,\n",
              "a:visited.sk-estimator-doc-link.fitted {\n",
              "  /* fitted */\n",
              "  border: var(--sklearn-color-fitted-level-1) 1pt solid;\n",
              "  color: var(--sklearn-color-fitted-level-1);\n",
              "}\n",
              "\n",
              "/* On hover */\n",
              "div.sk-estimator:hover .sk-estimator-doc-link:hover,\n",
              ".sk-estimator-doc-link:hover,\n",
              "div.sk-label-container:hover .sk-estimator-doc-link:hover,\n",
              ".sk-estimator-doc-link:hover {\n",
              "  /* unfitted */\n",
              "  background-color: var(--sklearn-color-unfitted-level-3);\n",
              "  color: var(--sklearn-color-background);\n",
              "  text-decoration: none;\n",
              "}\n",
              "\n",
              "div.sk-estimator.fitted:hover .sk-estimator-doc-link.fitted:hover,\n",
              ".sk-estimator-doc-link.fitted:hover,\n",
              "div.sk-label-container:hover .sk-estimator-doc-link.fitted:hover,\n",
              ".sk-estimator-doc-link.fitted:hover {\n",
              "  /* fitted */\n",
              "  background-color: var(--sklearn-color-fitted-level-3);\n",
              "  color: var(--sklearn-color-background);\n",
              "  text-decoration: none;\n",
              "}\n",
              "\n",
              "/* Span, style for the box shown on hovering the info icon */\n",
              ".sk-estimator-doc-link span {\n",
              "  display: none;\n",
              "  z-index: 9999;\n",
              "  position: relative;\n",
              "  font-weight: normal;\n",
              "  right: .2ex;\n",
              "  padding: .5ex;\n",
              "  margin: .5ex;\n",
              "  width: min-content;\n",
              "  min-width: 20ex;\n",
              "  max-width: 50ex;\n",
              "  color: var(--sklearn-color-text);\n",
              "  box-shadow: 2pt 2pt 4pt #999;\n",
              "  /* unfitted */\n",
              "  background: var(--sklearn-color-unfitted-level-0);\n",
              "  border: .5pt solid var(--sklearn-color-unfitted-level-3);\n",
              "}\n",
              "\n",
              ".sk-estimator-doc-link.fitted span {\n",
              "  /* fitted */\n",
              "  background: var(--sklearn-color-fitted-level-0);\n",
              "  border: var(--sklearn-color-fitted-level-3);\n",
              "}\n",
              "\n",
              ".sk-estimator-doc-link:hover span {\n",
              "  display: block;\n",
              "}\n",
              "\n",
              "/* \"?\"-specific style due to the `<a>` HTML tag */\n",
              "\n",
              "#sk-container-id-2 a.estimator_doc_link {\n",
              "  float: right;\n",
              "  font-size: 1rem;\n",
              "  line-height: 1em;\n",
              "  font-family: monospace;\n",
              "  background-color: var(--sklearn-color-background);\n",
              "  border-radius: 1rem;\n",
              "  height: 1rem;\n",
              "  width: 1rem;\n",
              "  text-decoration: none;\n",
              "  /* unfitted */\n",
              "  color: var(--sklearn-color-unfitted-level-1);\n",
              "  border: var(--sklearn-color-unfitted-level-1) 1pt solid;\n",
              "}\n",
              "\n",
              "#sk-container-id-2 a.estimator_doc_link.fitted {\n",
              "  /* fitted */\n",
              "  border: var(--sklearn-color-fitted-level-1) 1pt solid;\n",
              "  color: var(--sklearn-color-fitted-level-1);\n",
              "}\n",
              "\n",
              "/* On hover */\n",
              "#sk-container-id-2 a.estimator_doc_link:hover {\n",
              "  /* unfitted */\n",
              "  background-color: var(--sklearn-color-unfitted-level-3);\n",
              "  color: var(--sklearn-color-background);\n",
              "  text-decoration: none;\n",
              "}\n",
              "\n",
              "#sk-container-id-2 a.estimator_doc_link.fitted:hover {\n",
              "  /* fitted */\n",
              "  background-color: var(--sklearn-color-fitted-level-3);\n",
              "}\n",
              "</style><div id=\"sk-container-id-2\" class=\"sk-top-container\"><div class=\"sk-text-repr-fallback\"><pre>GridSearchCV(cv=5,\n",
              "             estimator=AdaBoostClassifier(estimator=DecisionTreeClassifier(random_state=42),\n",
              "                                          random_state=42),\n",
              "             n_jobs=-1,\n",
              "             param_grid={&#x27;estimator__class_weight&#x27;: [&#x27;balanced&#x27;],\n",
              "                         &#x27;estimator__max_depth&#x27;: [3, 4, 5],\n",
              "                         &#x27;learning_rate&#x27;: [0.01, 0.1],\n",
              "                         &#x27;n_estimators&#x27;: [50, 100]},\n",
              "             scoring=&#x27;f1&#x27;, verbose=2)</pre><b>In a Jupyter environment, please rerun this cell to show the HTML representation or trust the notebook. <br />On GitHub, the HTML representation is unable to render, please try loading this page with nbviewer.org.</b></div><div class=\"sk-container\" hidden><div class=\"sk-item sk-dashed-wrapped\"><div class=\"sk-label-container\"><div class=\"sk-label fitted sk-toggleable\"><input class=\"sk-toggleable__control sk-hidden--visually\" id=\"sk-estimator-id-5\" type=\"checkbox\" ><label for=\"sk-estimator-id-5\" class=\"sk-toggleable__label fitted sk-toggleable__label-arrow\"><div><div>GridSearchCV</div></div><div><a class=\"sk-estimator-doc-link fitted\" rel=\"noreferrer\" target=\"_blank\" href=\"https://scikit-learn.org/1.6/modules/generated/sklearn.model_selection.GridSearchCV.html\">?<span>Documentation for GridSearchCV</span></a><span class=\"sk-estimator-doc-link fitted\">i<span>Fitted</span></span></div></label><div class=\"sk-toggleable__content fitted\"><pre>GridSearchCV(cv=5,\n",
              "             estimator=AdaBoostClassifier(estimator=DecisionTreeClassifier(random_state=42),\n",
              "                                          random_state=42),\n",
              "             n_jobs=-1,\n",
              "             param_grid={&#x27;estimator__class_weight&#x27;: [&#x27;balanced&#x27;],\n",
              "                         &#x27;estimator__max_depth&#x27;: [3, 4, 5],\n",
              "                         &#x27;learning_rate&#x27;: [0.01, 0.1],\n",
              "                         &#x27;n_estimators&#x27;: [50, 100]},\n",
              "             scoring=&#x27;f1&#x27;, verbose=2)</pre></div> </div></div><div class=\"sk-parallel\"><div class=\"sk-parallel-item\"><div class=\"sk-item\"><div class=\"sk-label-container\"><div class=\"sk-label fitted sk-toggleable\"><input class=\"sk-toggleable__control sk-hidden--visually\" id=\"sk-estimator-id-6\" type=\"checkbox\" ><label for=\"sk-estimator-id-6\" class=\"sk-toggleable__label fitted sk-toggleable__label-arrow\"><div><div>best_estimator_: AdaBoostClassifier</div></div></label><div class=\"sk-toggleable__content fitted\"><pre>AdaBoostClassifier(estimator=DecisionTreeClassifier(class_weight=&#x27;balanced&#x27;,\n",
              "                                                    max_depth=4,\n",
              "                                                    random_state=42),\n",
              "                   learning_rate=0.1, random_state=42)</pre></div> </div></div><div class=\"sk-serial\"><div class=\"sk-item sk-dashed-wrapped\"><div class=\"sk-parallel\"><div class=\"sk-parallel-item\"><div class=\"sk-item\"><div class=\"sk-label-container\"><div class=\"sk-label fitted sk-toggleable\"><input class=\"sk-toggleable__control sk-hidden--visually\" id=\"sk-estimator-id-7\" type=\"checkbox\" ><label for=\"sk-estimator-id-7\" class=\"sk-toggleable__label fitted sk-toggleable__label-arrow\"><div><div>estimator: DecisionTreeClassifier</div></div></label><div class=\"sk-toggleable__content fitted\"><pre>DecisionTreeClassifier(class_weight=&#x27;balanced&#x27;, max_depth=4, random_state=42)</pre></div> </div></div><div class=\"sk-serial\"><div class=\"sk-item\"><div class=\"sk-estimator fitted sk-toggleable\"><input class=\"sk-toggleable__control sk-hidden--visually\" id=\"sk-estimator-id-8\" type=\"checkbox\" ><label for=\"sk-estimator-id-8\" class=\"sk-toggleable__label fitted sk-toggleable__label-arrow\"><div><div>DecisionTreeClassifier</div></div><div><a class=\"sk-estimator-doc-link fitted\" rel=\"noreferrer\" target=\"_blank\" href=\"https://scikit-learn.org/1.6/modules/generated/sklearn.tree.DecisionTreeClassifier.html\">?<span>Documentation for DecisionTreeClassifier</span></a></div></label><div class=\"sk-toggleable__content fitted\"><pre>DecisionTreeClassifier(class_weight=&#x27;balanced&#x27;, max_depth=4, random_state=42)</pre></div> </div></div></div></div></div></div></div></div></div></div></div></div></div></div>"
            ],
            "text/plain": [
              "GridSearchCV(cv=5,\n",
              "             estimator=AdaBoostClassifier(estimator=DecisionTreeClassifier(random_state=42),\n",
              "                                          random_state=42),\n",
              "             n_jobs=-1,\n",
              "             param_grid={'estimator__class_weight': ['balanced'],\n",
              "                         'estimator__max_depth': [3, 4, 5],\n",
              "                         'learning_rate': [0.01, 0.1],\n",
              "                         'n_estimators': [50, 100]},\n",
              "             scoring='f1', verbose=2)"
            ]
          },
          "execution_count": 15,
          "metadata": {},
          "output_type": "execute_result"
        }
      ],
      "source": [
        "from sklearn.ensemble import AdaBoostClassifier\n",
        "from sklearn.tree import DecisionTreeClassifier\n",
        "\n",
        "base_estimator = DecisionTreeClassifier(random_state=1)\n",
        "\n",
        "param_grid = {\n",
        "    'n_estimators': [50, 100, 200],\n",
        "    'learning_rate': [0.01, 0.1],\n",
        "    'estimator__max_depth': [3,4,5],\n",
        "    'estimator__class_weight': ['balanced']\n",
        "}\n",
        "\n",
        "# Define the AdaBoost classifier with a base estimator\n",
        "adaboost = AdaBoostClassifier(estimator=base_estimator, random_state=1)\n",
        "\n",
        "# GridSearchCV setup\n",
        "grid_search = GridSearchCV(\n",
        "    estimator=adaboost,\n",
        "    param_grid=param_grid,\n",
        "    scoring='f1',\n",
        "    cv=5,\n",
        "    verbose=2,\n",
        "    n_jobs=-1\n",
        ")\n",
        "\n",
        "# Fit to your training data\n",
        "grid_search.fit(X_train_scaled, y_train)"
      ]
    },
    {
      "cell_type": "code",
      "execution_count": null,
      "metadata": {
        "colab": {
          "base_uri": "https://localhost:8080/"
        },
        "id": "aMD45zTsouO7",
        "outputId": "69685731-df41-4501-ad4c-ce1441481633"
      },
      "outputs": [
        {
          "name": "stdout",
          "output_type": "stream",
          "text": [
            "Best parameters: {'estimator__class_weight': 'balanced', 'estimator__max_depth': 4, 'learning_rate': 0.1, 'n_estimators': 50}\n",
            "Best recall score: 0.3178142022982561\n"
          ]
        }
      ],
      "source": [
        "print(\"Best parameters:\", grid_search.best_params_)\n",
        "print(\"Best f1 score:\", grid_search.best_score_)"
      ]
    },
    {
      "cell_type": "code",
      "execution_count": null,
      "metadata": {
        "colab": {
          "base_uri": "https://localhost:8080/"
        },
        "id": "afa139af",
        "outputId": "77ff4859-7f3b-4fe2-cf64-ed9357dadcb6"
      },
      "outputs": [
        {
          "name": "stdout",
          "output_type": "stream",
          "text": [
            "Confusion Matrix:\n",
            " [[61741 23425]\n",
            " [ 1622  5869]]\n",
            "\n",
            "Classification Report:\n",
            "               precision    recall  f1-score   support\n",
            "\n",
            "           0       0.97      0.72      0.83     85166\n",
            "           1       0.20      0.78      0.32      7491\n",
            "\n",
            "    accuracy                           0.73     92657\n",
            "   macro avg       0.59      0.75      0.58     92657\n",
            "weighted avg       0.91      0.73      0.79     92657\n",
            "\n"
          ]
        }
      ],
      "source": [
        "best_adaboost_model = grid_search.best_estimator_\n",
        "\n",
        "y_pred = best_adaboost_model.predict(X_test_scaled)\n",
        "\n",
        "print(\"Confusion Matrix:\\n\", confusion_matrix(y_test, y_pred))\n",
        "print(\"\\nClassification Report:\\n\", classification_report(y_test, y_pred))"
      ]
    },
    {
      "cell_type": "code",
      "execution_count": null,
      "metadata": {
        "colab": {
          "base_uri": "https://localhost:8080/"
        },
        "id": "ObzJTW0oqlP_",
        "outputId": "97fd366a-6b41-4117-d22f-27e83b55788e"
      },
      "outputs": [
        {
          "name": "stdout",
          "output_type": "stream",
          "text": [
            "AdaBoostClassifier(estimator=DecisionTreeClassifier(class_weight='balanced',\n",
            "                                                    max_depth=4,\n",
            "                                                    random_state=42),\n",
            "                   learning_rate=0.1, random_state=42)\n"
          ]
        }
      ],
      "source": [
        "print(best_adaboost_model)"
      ]
    },
    {
      "cell_type": "markdown",
      "metadata": {
        "id": "P5tp200wSYba"
      },
      "source": [
        "# Saving Adaboost model"
      ]
    },
    {
      "cell_type": "code",
      "execution_count": null,
      "metadata": {
        "colab": {
          "base_uri": "https://localhost:8080/"
        },
        "id": "09d7c6c2",
        "outputId": "26c1a19a-9e75-4fe2-bd34-be30f28f238c"
      },
      "outputs": [
        {
          "name": "stdout",
          "output_type": "stream",
          "text": [
            "Model saved to best_adaboost_model.pkl\n"
          ]
        }
      ],
      "source": [
        "filename = 'best_adaboost_model.pkl'\n",
        "pickle.dump(best_adaboost_model, open(filename, 'wb'))\n",
        "\n",
        "print(f\"Model saved to {filename}\")"
      ]
    },
    {
      "cell_type": "markdown",
      "metadata": {
        "id": "UjZmdxtqScZf"
      },
      "source": [
        "# Saving scaler to pickle file"
      ]
    },
    {
      "cell_type": "code",
      "execution_count": null,
      "metadata": {
        "colab": {
          "base_uri": "https://localhost:8080/"
        },
        "id": "d869dcf9",
        "outputId": "4d7ff256-3ef7-49ea-cd0a-81fab66fea16"
      },
      "outputs": [
        {
          "name": "stdout",
          "output_type": "stream",
          "text": [
            "Scaler saved to scaler.pkl\n"
          ]
        }
      ],
      "source": [
        "filename = 'scaler.pkl'\n",
        "pickle.dump(scaler, open(filename, 'wb'))\n",
        "\n",
        "print(f\"Scaler saved to {filename}\")"
      ]
    },
    {
      "cell_type": "markdown",
      "metadata": {
        "id": "bP7gIoSvSkPo"
      },
      "source": [
        "# Feature Importance"
      ]
    },
    {
      "cell_type": "code",
      "execution_count": null,
      "metadata": {
        "colab": {
          "base_uri": "https://localhost:8080/"
        },
        "id": "8WtJh4DsyAZC",
        "outputId": "95bab962-6168-4d85-c251-837fa34fd46e"
      },
      "outputs": [
        {
          "name": "stdout",
          "output_type": "stream",
          "text": [
            "                         Feature  Importance\n",
            "7                            age    0.602878\n",
            "9                 general_health    0.311735\n",
            "18                          male    0.027912\n",
            "14                     arthritis    0.020061\n",
            "15                      diabetes    0.018055\n",
            "17                        female    0.015258\n",
            "16               smoking_history    0.002849\n",
            "11                   skin_cancer    0.001140\n",
            "8                        checkup    0.000066\n",
            "13                    depression    0.000045\n",
            "1                         weight    0.000000\n",
            "0                         height    0.000000\n",
            "3            alcohol_consumption    0.000000\n",
            "2                            bmi    0.000000\n",
            "5   green_vegetables_consumption    0.000000\n",
            "6       fried_potato_consumption    0.000000\n",
            "10                      exercise    0.000000\n",
            "4              fruit_consumption    0.000000\n",
            "12                  other_cancer    0.000000\n",
            "19                  bmi_category    0.000000\n"
          ]
        }
      ],
      "source": [
        "feature_names = [\n",
        "    'height', 'weight', 'bmi', 'alcohol_consumption', 'fruit_consumption',\n",
        "    'green_vegetables_consumption', 'fried_potato_consumption', 'age',\n",
        "    'checkup', 'general_health', 'exercise', 'skin_cancer', 'other_cancer',\n",
        "    'depression', 'arthritis', 'diabetes', 'smoking_history', 'female', 'male',\n",
        "    'bmi_category'\n",
        "]\n",
        "\n",
        "importances = best_adaboost_model.feature_importances_\n",
        "\n",
        "feature_df = pd.DataFrame({\n",
        "    \"Feature\": feature_names,\n",
        "    \"Importance\": importances\n",
        "}).sort_values(by=\"Importance\", ascending=False)\n",
        "\n",
        "print(feature_df)"
      ]
    },
    {
      "cell_type": "code",
      "execution_count": null,
      "metadata": {
        "colab": {
          "base_uri": "https://localhost:8080/"
        },
        "id": "U6TZZV5-RW_o",
        "outputId": "1ac68d4f-1315-4ee1-ca1c-6a716cc6b42d"
      },
      "outputs": [
        {
          "name": "stdout",
          "output_type": "stream",
          "text": [
            "Collecting catboost\n",
            "  Downloading catboost-1.2.8-cp311-cp311-manylinux2014_x86_64.whl.metadata (1.2 kB)\n",
            "Requirement already satisfied: graphviz in /usr/local/lib/python3.11/dist-packages (from catboost) (0.21)\n",
            "Requirement already satisfied: matplotlib in /usr/local/lib/python3.11/dist-packages (from catboost) (3.10.0)\n",
            "Requirement already satisfied: numpy<3.0,>=1.16.0 in /usr/local/lib/python3.11/dist-packages (from catboost) (2.0.2)\n",
            "Requirement already satisfied: pandas>=0.24 in /usr/local/lib/python3.11/dist-packages (from catboost) (2.2.2)\n",
            "Requirement already satisfied: scipy in /usr/local/lib/python3.11/dist-packages (from catboost) (1.16.1)\n",
            "Requirement already satisfied: plotly in /usr/local/lib/python3.11/dist-packages (from catboost) (5.24.1)\n",
            "Requirement already satisfied: six in /usr/local/lib/python3.11/dist-packages (from catboost) (1.17.0)\n",
            "Requirement already satisfied: python-dateutil>=2.8.2 in /usr/local/lib/python3.11/dist-packages (from pandas>=0.24->catboost) (2.9.0.post0)\n",
            "Requirement already satisfied: pytz>=2020.1 in /usr/local/lib/python3.11/dist-packages (from pandas>=0.24->catboost) (2025.2)\n",
            "Requirement already satisfied: tzdata>=2022.7 in /usr/local/lib/python3.11/dist-packages (from pandas>=0.24->catboost) (2025.2)\n",
            "Requirement already satisfied: contourpy>=1.0.1 in /usr/local/lib/python3.11/dist-packages (from matplotlib->catboost) (1.3.3)\n",
            "Requirement already satisfied: cycler>=0.10 in /usr/local/lib/python3.11/dist-packages (from matplotlib->catboost) (0.12.1)\n",
            "Requirement already satisfied: fonttools>=4.22.0 in /usr/local/lib/python3.11/dist-packages (from matplotlib->catboost) (4.59.0)\n",
            "Requirement already satisfied: kiwisolver>=1.3.1 in /usr/local/lib/python3.11/dist-packages (from matplotlib->catboost) (1.4.8)\n",
            "Requirement already satisfied: packaging>=20.0 in /usr/local/lib/python3.11/dist-packages (from matplotlib->catboost) (25.0)\n",
            "Requirement already satisfied: pillow>=8 in /usr/local/lib/python3.11/dist-packages (from matplotlib->catboost) (11.3.0)\n",
            "Requirement already satisfied: pyparsing>=2.3.1 in /usr/local/lib/python3.11/dist-packages (from matplotlib->catboost) (3.2.3)\n",
            "Requirement already satisfied: tenacity>=6.2.0 in /usr/local/lib/python3.11/dist-packages (from plotly->catboost) (8.5.0)\n",
            "Downloading catboost-1.2.8-cp311-cp311-manylinux2014_x86_64.whl (99.2 MB)\n",
            "\u001b[2K   \u001b[90m━━━━━━━━━━━━━━━━━━━━━━━━━━━━━━━━━━━━━━━━\u001b[0m \u001b[32m99.2/99.2 MB\u001b[0m \u001b[31m8.1 MB/s\u001b[0m eta \u001b[36m0:00:00\u001b[0m\n",
            "\u001b[?25hInstalling collected packages: catboost\n",
            "Successfully installed catboost-1.2.8\n"
          ]
        }
      ],
      "source": [
        "!pip install catboost"
      ]
    },
    {
      "cell_type": "markdown",
      "metadata": {
        "id": "uKmMpHgCSv5M"
      },
      "source": [
        "# CatBoost Model Training & Fine Tuning using GridsearchCV"
      ]
    },
    {
      "cell_type": "code",
      "execution_count": null,
      "metadata": {
        "colab": {
          "background_save": true,
          "base_uri": "https://localhost:8080/"
        },
        "id": "5e0b1f7a",
        "outputId": "488eaa6e-4ed5-4070-ac27-7babb490f0e8"
      },
      "outputs": [
        {
          "name": "stdout",
          "output_type": "stream",
          "text": [
            "Starting GridSearchCV for CatBoost hyperparameter tuning...\n",
            "GridSearchCV complete.\n",
            "Best parameters found: {'depth': 8, 'iterations': 500, 'l2_leaf_reg': 1, 'learning_rate': 0.1}\n",
            "Best cross-validation accuracy: 0.7769\n",
            "<catboost.core.CatBoostClassifier object at 0x78d55578c5d0>\n"
          ]
        }
      ],
      "source": [
        "from catboost import CatBoostClassifier\n",
        "\n",
        "# Define the parameter grid for GridSearchCV\n",
        "param_grid = {\n",
        "    'iterations': [100, 250, 500],\n",
        "    'learning_rate': [0.01, 0.05, 0.1],\n",
        "    'depth': [4, 6, 8],\n",
        "    'l2_leaf_reg': [1, 3, 5] # L2 regularization\n",
        "}\n",
        "\n",
        "# Initialize CatBoost Classifier\n",
        "catboost_base = CatBoostClassifier(\n",
        "    loss_function='Logloss',\n",
        "    eval_metric='Accuracy',\n",
        "    random_seed=1,\n",
        "    verbose=0,\n",
        "    auto_class_weights='Balanced'\n",
        ")\n",
        "\n",
        "# Initialize GridSearchCV\n",
        "grid_search = GridSearchCV(\n",
        "    estimator=catboost_base,\n",
        "    param_grid=param_grid,\n",
        "    cv=3,\n",
        "    scoring='accuracy',\n",
        "    n_jobs=-1\n",
        ")\n",
        "\n",
        "print(\"Starting GridSearchCV for CatBoost hyperparameter tuning...\")\n",
        "# Fit GridSearchCV to the training data\n",
        "grid_search.fit(X_train_scaled, y_train)\n",
        "\n",
        "print(\"GridSearchCV complete.\")\n",
        "\n",
        "# Get the best parameters and best score\n",
        "best_params = grid_search.best_params_\n",
        "best_score = grid_search.best_score_\n",
        "\n",
        "print(f\"Best parameters found: {best_params}\")\n",
        "print(f\"Best cross-validation accuracy: {best_score:.4f}\")\n",
        "\n",
        "best_catboost_model = grid_search.best_estimator_\n",
        "print(best_catboost_model)"
      ]
    },
    {
      "cell_type": "markdown",
      "metadata": {
        "id": "BktEBxu6UUMw"
      },
      "source": [
        "# CatBoost Report"
      ]
    },
    {
      "cell_type": "code",
      "execution_count": null,
      "metadata": {
        "colab": {
          "base_uri": "https://localhost:8080/"
        },
        "id": "5jV2A4_3RxC_",
        "outputId": "75c9d668-dcb7-45f7-bae6-5b66d403e97a"
      },
      "outputs": [
        {
          "name": "stdout",
          "output_type": "stream",
          "text": [
            "Confusion Matrix:\n",
            " [[65149 20017]\n",
            " [ 2041  5450]]\n",
            "\n",
            "Classification Report:\n",
            "               precision    recall  f1-score   support\n",
            "\n",
            "           0       0.97      0.76      0.86     85166\n",
            "           1       0.21      0.73      0.33      7491\n",
            "\n",
            "    accuracy                           0.76     92657\n",
            "   macro avg       0.59      0.75      0.59     92657\n",
            "weighted avg       0.91      0.76      0.81     92657\n",
            "\n"
          ]
        }
      ],
      "source": [
        "from sklearn.metrics import classification_report, confusion_matrix\n",
        "\n",
        "# Make predictions on the scaled test data\n",
        "y_pred = best_catboost_model.predict(X_test_scaled)\n",
        "\n",
        "# Evaluate the model\n",
        "print(\"Confusion Matrix:\\n\", confusion_matrix(y_test, y_pred))\n",
        "print(\"\\nClassification Report:\\n\", classification_report(y_test, y_pred))"
      ]
    },
    {
      "cell_type": "markdown",
      "metadata": {
        "id": "0jyNFcwzUWTG"
      },
      "source": [
        "# Feature Importances"
      ]
    },
    {
      "cell_type": "code",
      "execution_count": null,
      "metadata": {
        "colab": {
          "base_uri": "https://localhost:8080/"
        },
        "id": "eyM8U21NUXLD",
        "outputId": "62820279-f34f-4eee-f1e1-794dbf7ef0cc"
      },
      "outputs": [
        {
          "name": "stdout",
          "output_type": "stream",
          "text": [
            "                         Feature  Importance\n",
            "7                            age   16.162024\n",
            "2                            bmi   10.400043\n",
            "1                         weight    8.754322\n",
            "9                 general_health    8.682649\n",
            "6       fried_potato_consumption    7.561811\n",
            "5   green_vegetables_consumption    7.514105\n",
            "3            alcohol_consumption    6.945360\n",
            "4              fruit_consumption    6.827687\n",
            "0                         height    6.326867\n",
            "8                        checkup    4.101227\n",
            "16               smoking_history    2.891472\n",
            "14                     arthritis    2.550504\n",
            "18                          male    2.377869\n",
            "13                    depression    1.813917\n",
            "10                      exercise    1.687607\n",
            "15                      diabetes    1.585604\n",
            "19                  bmi_category    1.072013\n",
            "17                        female    0.982421\n",
            "12                  other_cancer    0.944639\n",
            "11                   skin_cancer    0.817859\n"
          ]
        }
      ],
      "source": [
        "feature_names = [\n",
        "    'height', 'weight', 'bmi', 'alcohol_consumption', 'fruit_consumption',\n",
        "    'green_vegetables_consumption', 'fried_potato_consumption', 'age',\n",
        "    'checkup', 'general_health', 'exercise', 'skin_cancer', 'other_cancer',\n",
        "    'depression', 'arthritis', 'diabetes', 'smoking_history', 'female', 'male',\n",
        "    'bmi_category'\n",
        "]\n",
        "importances = best_catboost_model.feature_importances_\n",
        "\n",
        "feature_df = pd.DataFrame({\n",
        "    \"Feature\": feature_names,\n",
        "    \"Importance\": importances\n",
        "}).sort_values(by=\"Importance\", ascending=False)\n",
        "\n",
        "print(feature_df)"
      ]
    },
    {
      "cell_type": "markdown",
      "metadata": {
        "id": "lLkSw7uUnqw9"
      },
      "source": [
        "# Saving catboost model"
      ]
    },
    {
      "cell_type": "code",
      "execution_count": null,
      "metadata": {
        "colab": {
          "base_uri": "https://localhost:8080/"
        },
        "id": "UdC6hDV2nqw9",
        "outputId": "fe191218-b261-4b3f-e097-4479796a1ae0"
      },
      "outputs": [
        {
          "name": "stdout",
          "output_type": "stream",
          "text": [
            "Model saved to best_catboost_model.pkl\n"
          ]
        }
      ],
      "source": [
        "filename = 'best_catboost_model.pkl'\n",
        "pickle.dump(best_catboost_model, open(filename, 'wb'))\n",
        "\n",
        "print(f\"Model saved to {filename}\")"
      ]
    },
    {
      "cell_type": "markdown",
      "metadata": {
        "id": "0p9Shb-ODmoQ"
      },
      "source": [
        "# XGBoost Model Training & Fine Tuning using GridsearchCV"
      ]
    },
    {
      "cell_type": "code",
      "execution_count": null,
      "metadata": {
        "colab": {
          "background_save": true,
          "base_uri": "https://localhost:8080/"
        },
        "id": "e16a6dbc",
        "outputId": "e3477b12-1e79-47fc-f9c3-01749945908d"
      },
      "outputs": [
        {
          "name": "stdout",
          "output_type": "stream",
          "text": [
            "Starting GridSearchCV for XGBoost hyperparameter tuning...\n"
          ]
        },
        {
          "name": "stderr",
          "output_type": "stream",
          "text": [
            "/usr/local/lib/python3.11/dist-packages/xgboost/training.py:183: UserWarning: [06:31:31] WARNING: /workspace/src/learner.cc:738: \n",
            "Parameters: { \"use_label_encoder\" } are not used.\n",
            "\n",
            "  bst.update(dtrain, iteration=i, fobj=obj)\n"
          ]
        },
        {
          "name": "stdout",
          "output_type": "stream",
          "text": [
            "GridSearchCV complete.\n",
            "Best parameters found for XGBoost: {'colsample_bytree': 0.6, 'learning_rate': 0.05, 'max_depth': 5, 'n_estimators': 200, 'subsample': 0.6}\n",
            "Best cross-validation accuracy for XGBoost: 0.9196\n",
            "XGBClassifier(base_score=None, booster=None, callbacks=None,\n",
            "              colsample_bylevel=None, colsample_bynode=None,\n",
            "              colsample_bytree=0.6, device=None, early_stopping_rounds=None,\n",
            "              enable_categorical=False, eval_metric='logloss',\n",
            "              feature_types=None, feature_weights=None, gamma=None,\n",
            "              grow_policy=None, importance_type=None,\n",
            "              interaction_constraints=None, learning_rate=0.05, max_bin=None,\n",
            "              max_cat_threshold=None, max_cat_to_onehot=None,\n",
            "              max_delta_step=None, max_depth=5, max_leaves=None,\n",
            "              min_child_weight=None, missing=nan, monotone_constraints=None,\n",
            "              multi_strategy=None, n_estimators=200, n_jobs=None,\n",
            "              num_parallel_tree=None, ...)\n"
          ]
        }
      ],
      "source": [
        "from xgboost import XGBClassifier\n",
        "param_grid_xgb = {\n",
        "    'n_estimators': [100, 200, 500],\n",
        "    'learning_rate': [0.01, 0.05, 0.1],\n",
        "    'max_depth': [3, 5, 7],\n",
        "    'subsample': [0.6, 0.8, 1.0],\n",
        "    'colsample_bytree': [0.6, 0.8, 1.0]\n",
        "}\n",
        "\n",
        "xgb_base = XGBClassifier(random_state=1, use_label_encoder=False, eval_metric='recall')\n",
        "\n",
        "grid_search_xgb = GridSearchCV(\n",
        "    estimator=xgb_base,\n",
        "    param_grid=param_grid_xgb,\n",
        "    cv=3,\n",
        "    scoring='recall',\n",
        "    n_jobs=-1\n",
        ")\n",
        "\n",
        "print(\"Starting GridSearchCV for XGBoost hyperparameter tuning...\")\n",
        "grid_search_xgb.fit(X_train_scaled, y_train)\n",
        "\n",
        "print(\"GridSearchCV complete.\")\n",
        "\n",
        "best_params_xgb = grid_search_xgb.best_params_\n",
        "best_score_xgb = grid_search_xgb.best_score_\n",
        "\n",
        "print(f\"Best parameters found for XGBoost: {best_params_xgb}\")\n",
        "print(f\"Best cross-validation accuracy for XGBoost: {best_score_xgb:.4f}\")\n",
        "\n",
        "best_xgboost_model = grid_search_xgb.best_estimator_\n",
        "print(best_xgboost_model)"
      ]
    },
    {
      "cell_type": "markdown",
      "metadata": {
        "id": "qPHj-JoeD3TJ"
      },
      "source": [
        "# XGBoost Report & Feature Importances"
      ]
    },
    {
      "cell_type": "code",
      "execution_count": null,
      "metadata": {
        "colab": {
          "base_uri": "https://localhost:8080/"
        },
        "id": "FKHYbmtyD3TK",
        "outputId": "77203e37-4f4d-4fa9-ec7a-96ce8f6697f1"
      },
      "outputs": [
        {
          "name": "stdout",
          "output_type": "stream",
          "text": [
            "Confusion Matrix:\n",
            " [[84945   221]\n",
            " [ 7215   276]]\n",
            "\n",
            "Classification Report:\n",
            "               precision    recall  f1-score   support\n",
            "\n",
            "           0       0.92      1.00      0.96     85166\n",
            "           1       0.56      0.04      0.07      7491\n",
            "\n",
            "    accuracy                           0.92     92657\n",
            "   macro avg       0.74      0.52      0.51     92657\n",
            "weighted avg       0.89      0.92      0.89     92657\n",
            "\n",
            "                         Feature  Importance\n",
            "7                            age    0.192897\n",
            "9                 general_health    0.184772\n",
            "15                      diabetes    0.161239\n",
            "14                     arthritis    0.093448\n",
            "17                        female    0.074359\n",
            "16               smoking_history    0.049046\n",
            "8                        checkup    0.037969\n",
            "18                          male    0.035696\n",
            "11                   skin_cancer    0.033623\n",
            "10                      exercise    0.023250\n",
            "12                  other_cancer    0.017508\n",
            "3            alcohol_consumption    0.016956\n",
            "13                    depression    0.016629\n",
            "2                            bmi    0.009912\n",
            "1                         weight    0.009726\n",
            "0                         height    0.009516\n",
            "6       fried_potato_consumption    0.009006\n",
            "19                  bmi_category    0.008689\n",
            "5   green_vegetables_consumption    0.008068\n",
            "4              fruit_consumption    0.007690\n"
          ]
        }
      ],
      "source": [
        "y_pred_xg = best_xgboost_model.predict(X_test_scaled)\n",
        "\n",
        "print(\"Confusion Matrix:\\n\", confusion_matrix(y_test, y_pred_xg))\n",
        "print(\"\\nClassification Report:\\n\", classification_report(y_test, y_pred_xg))\n",
        "\n",
        "feature_names = [\n",
        "    'height', 'weight', 'bmi', 'alcohol_consumption', 'fruit_consumption',\n",
        "    'green_vegetables_consumption', 'fried_potato_consumption', 'age',\n",
        "    'checkup', 'general_health', 'exercise', 'skin_cancer', 'other_cancer',\n",
        "    'depression', 'arthritis', 'diabetes', 'smoking_history', 'female', 'male',\n",
        "    'bmi_category'\n",
        "]\n",
        "\n",
        "importances = best_xgboost_model.feature_importances_\n",
        "\n",
        "feature_df = pd.DataFrame({\n",
        "    \"Feature\": feature_names,\n",
        "    \"Importance\": importances\n",
        "}).sort_values(by=\"Importance\", ascending=False)\n",
        "\n",
        "print(feature_df)"
      ]
    },
    {
      "cell_type": "markdown",
      "metadata": {
        "id": "K7rxaZxSEf-4"
      },
      "source": [
        "# Saving xgboost model"
      ]
    },
    {
      "cell_type": "code",
      "execution_count": null,
      "metadata": {
        "colab": {
          "base_uri": "https://localhost:8080/"
        },
        "id": "ZGl9viBcEf-5",
        "outputId": "867b950f-6cab-4b91-c21f-1df59068eb22"
      },
      "outputs": [
        {
          "name": "stdout",
          "output_type": "stream",
          "text": [
            "Model saved to best_xgboost_model.pkl\n"
          ]
        }
      ],
      "source": [
        "filename = 'best_xgboost_model.pkl'\n",
        "pickle.dump(best_xgboost_model, open(filename, 'wb'))\n",
        "\n",
        "print(f\"Model saved to {filename}\")"
      ]
    },
    {
      "cell_type": "markdown",
      "metadata": {
        "id": "7KMy80jGU2E3"
      },
      "source": [
        "# RandomForest training and Fine Tuning"
      ]
    },
    {
      "cell_type": "code",
      "execution_count": null,
      "metadata": {
        "colab": {
          "base_uri": "https://localhost:8080/"
        },
        "id": "18ab0c99",
        "outputId": "c889b57a-19bf-4e00-9cb5-a6a8c2ad847d"
      },
      "outputs": [
        {
          "name": "stdout",
          "output_type": "stream",
          "text": [
            "Starting GridSearchCV for Random Forest hyperparameter tuning...\n",
            "GridSearchCV complete.\n",
            "Best parameters found for Random Forest: {'max_depth': 10, 'min_samples_leaf': 2, 'min_samples_split': 2, 'n_estimators': 200}\n",
            "Best cross-validation accuracy for Random Forest: 0.7520\n",
            "RandomForestClassifier(class_weight='balanced', max_depth=10,\n",
            "                       min_samples_leaf=2, n_estimators=200, random_state=1)\n"
          ]
        }
      ],
      "source": [
        "from sklearn.ensemble import RandomForestClassifier\n",
        "param_grid_rf = {\n",
        "    'n_estimators': [100, 200],\n",
        "    'max_depth': [5, 10],\n",
        "    'min_samples_split': [2, 5],\n",
        "    'min_samples_leaf': [2, 4],\n",
        "\n",
        "}\n",
        "rf_base = RandomForestClassifier(random_state=1,class_weight='balanced')\n",
        "\n",
        "grid_search_rf = GridSearchCV(\n",
        "    estimator=rf_base,\n",
        "    param_grid=param_grid_rf,\n",
        "    cv=3,\n",
        "    scoring='accuracy',\n",
        "    n_jobs=-1\n",
        ")\n",
        "\n",
        "print(\"Starting GridSearchCV for Random Forest hyperparameter tuning...\")\n",
        "grid_search_rf.fit(X_train_scaled, y_train)\n",
        "\n",
        "print(\"GridSearchCV complete.\")\n",
        "\n",
        "best_params_rf = grid_search_rf.best_params_\n",
        "best_score_rf = grid_search_rf.best_score_\n",
        "\n",
        "print(f\"Best parameters found for Random Forest: {best_params_rf}\")\n",
        "print(f\"Best cross-validation accuracy for Random Forest: {best_score_rf:.4f}\")\n",
        "\n",
        "best_rf_model = grid_search_rf.best_estimator_\n",
        "print(best_rf_model)"
      ]
    },
    {
      "cell_type": "markdown",
      "metadata": {
        "id": "CAtt0LS0VkV3"
      },
      "source": [
        "# RandomForest Report & Feature Importances"
      ]
    },
    {
      "cell_type": "code",
      "execution_count": null,
      "metadata": {
        "colab": {
          "base_uri": "https://localhost:8080/"
        },
        "id": "66REa3fOVkV4",
        "outputId": "20bde5c5-831b-4261-fae0-c688f8528251"
      },
      "outputs": [
        {
          "name": "stdout",
          "output_type": "stream",
          "text": [
            "Confusion Matrix:\n",
            " [[63059 22107]\n",
            " [ 1725  5766]]\n",
            "\n",
            "Classification Report:\n",
            "               precision    recall  f1-score   support\n",
            "\n",
            "           0       0.97      0.74      0.84     85166\n",
            "           1       0.21      0.77      0.33      7491\n",
            "\n",
            "    accuracy                           0.74     92657\n",
            "   macro avg       0.59      0.76      0.58     92657\n",
            "weighted avg       0.91      0.74      0.80     92657\n",
            "\n",
            "                         Feature  Importance\n",
            "7                            age    0.326447\n",
            "9                 general_health    0.219256\n",
            "15                      diabetes    0.081987\n",
            "14                     arthritis    0.073772\n",
            "16               smoking_history    0.040802\n",
            "8                        checkup    0.036058\n",
            "17                        female    0.027387\n",
            "2                            bmi    0.023685\n",
            "18                          male    0.022840\n",
            "3            alcohol_consumption    0.021356\n",
            "1                         weight    0.021273\n",
            "0                         height    0.018321\n",
            "10                      exercise    0.015443\n",
            "5   green_vegetables_consumption    0.013306\n",
            "6       fried_potato_consumption    0.013211\n",
            "11                   skin_cancer    0.012434\n",
            "4              fruit_consumption    0.011745\n",
            "12                  other_cancer    0.010926\n",
            "13                    depression    0.005485\n",
            "19                  bmi_category    0.004269\n"
          ]
        }
      ],
      "source": [
        "y_pred_rf = best_rf_model.predict(X_test_scaled)\n",
        "\n",
        "print(\"Confusion Matrix:\\n\", confusion_matrix(y_test, y_pred_rf))\n",
        "print(\"\\nClassification Report:\\n\", classification_report(y_test, y_pred_rf))\n",
        "\n",
        "feature_names = [\n",
        "    'height', 'weight', 'bmi', 'alcohol_consumption', 'fruit_consumption',\n",
        "    'green_vegetables_consumption', 'fried_potato_consumption', 'age',\n",
        "    'checkup', 'general_health', 'exercise', 'skin_cancer', 'other_cancer',\n",
        "    'depression', 'arthritis', 'diabetes', 'smoking_history', 'female', 'male',\n",
        "    'bmi_category'\n",
        "]\n",
        "\n",
        "importances = best_rf_model.feature_importances_\n",
        "\n",
        "feature_df = pd.DataFrame({\n",
        "    \"Feature\": feature_names,\n",
        "    \"Importance\": importances\n",
        "}).sort_values(by=\"Importance\", ascending=False)\n",
        "\n",
        "print(feature_df)"
      ]
    },
    {
      "cell_type": "markdown",
      "metadata": {
        "id": "fLvloDqWVkV4"
      },
      "source": [
        "# Saving RandomForest model"
      ]
    },
    {
      "cell_type": "code",
      "execution_count": null,
      "metadata": {
        "colab": {
          "base_uri": "https://localhost:8080/"
        },
        "id": "e5pRItF0VkV5",
        "outputId": "552a1b57-fc64-4c9a-83ea-b0d3ff85e515"
      },
      "outputs": [
        {
          "name": "stdout",
          "output_type": "stream",
          "text": [
            "Model saved to best_rf_model.pkl\n"
          ]
        }
      ],
      "source": [
        "filename = 'best_rf_model.pkl'\n",
        "pickle.dump(best_rf_model, open(filename, 'wb'))\n",
        "\n",
        "print(f\"Model saved to {filename}\")"
      ]
    },
    {
      "cell_type": "markdown",
      "metadata": {
        "id": "NPp-TcdpY4Br"
      },
      "source": [
        "# Decision Tree Model Fine Tuning"
      ]
    },
    {
      "cell_type": "code",
      "execution_count": null,
      "metadata": {
        "colab": {
          "base_uri": "https://localhost:8080/"
        },
        "id": "aeaa5547",
        "outputId": "c6251725-a03f-4d88-d226-239b99bd905b"
      },
      "outputs": [
        {
          "name": "stdout",
          "output_type": "stream",
          "text": [
            "Starting GridSearchCV for Decision Tree hyperparameter tuning...\n",
            "GridSearchCV complete.\n",
            "Best parameters found for Decision Tree: {'criterion': 'gini', 'max_depth': 15, 'min_samples_leaf': 1, 'min_samples_split': 2}\n",
            "Best cross-validation accuracy for Decision Tree: 0.7558\n",
            "DecisionTreeClassifier(class_weight='balanced', max_depth=15, random_state=1)\n"
          ]
        }
      ],
      "source": [
        "from sklearn.tree import DecisionTreeClassifier\n",
        "param_grid_dt = {\n",
        "    'max_depth': [3, 5, 10, 15],\n",
        "    'min_samples_split': [2, 5, 10],\n",
        "    'min_samples_leaf': [1, 2, 4],\n",
        "    'criterion': ['gini', 'entropy']\n",
        "}\n",
        "dt_base = DecisionTreeClassifier(random_state=1,class_weight='balanced')\n",
        "\n",
        "grid_search_dt = GridSearchCV(\n",
        "    estimator=dt_base,\n",
        "    param_grid=param_grid_dt,\n",
        "    cv=3,\n",
        "    scoring='accuracy',\n",
        "    n_jobs=-1\n",
        ")\n",
        "\n",
        "print(\"Starting GridSearchCV for Decision Tree hyperparameter tuning...\")\n",
        "grid_search_dt.fit(X_train_scaled, y_train)\n",
        "\n",
        "print(\"GridSearchCV complete.\")\n",
        "\n",
        "best_params_dt = grid_search_dt.best_params_\n",
        "best_score_dt = grid_search_dt.best_score_\n",
        "\n",
        "print(f\"Best parameters found for Decision Tree: {best_params_dt}\")\n",
        "print(f\"Best cross-validation accuracy for Decision Tree: {best_score_dt:.4f}\")\n",
        "\n",
        "best_dt_model = grid_search_dt.best_estimator_\n",
        "print(best_dt_model)"
      ]
    },
    {
      "cell_type": "markdown",
      "metadata": {
        "id": "X3aManeJZGZs"
      },
      "source": [
        "# Decision Tree Report & Feature Importances"
      ]
    },
    {
      "cell_type": "code",
      "execution_count": null,
      "metadata": {
        "colab": {
          "base_uri": "https://localhost:8080/"
        },
        "id": "wdTpeoLdZFNG",
        "outputId": "63175cc6-9ca5-4cf2-c6db-93ac6f5c329e"
      },
      "outputs": [
        {
          "name": "stdout",
          "output_type": "stream",
          "text": [
            "Confusion Matrix:\n",
            " [[63059 22107]\n",
            " [ 1725  5766]]\n",
            "\n",
            "Classification Report:\n",
            "               precision    recall  f1-score   support\n",
            "\n",
            "           0       0.97      0.74      0.84     85166\n",
            "           1       0.21      0.77      0.33      7491\n",
            "\n",
            "    accuracy                           0.74     92657\n",
            "   macro avg       0.59      0.76      0.58     92657\n",
            "weighted avg       0.91      0.74      0.80     92657\n",
            "\n",
            "                         Feature  Importance\n",
            "7                            age    0.326447\n",
            "9                 general_health    0.219256\n",
            "15                      diabetes    0.081987\n",
            "14                     arthritis    0.073772\n",
            "16               smoking_history    0.040802\n",
            "8                        checkup    0.036058\n",
            "17                        female    0.027387\n",
            "2                            bmi    0.023685\n",
            "18                          male    0.022840\n",
            "3            alcohol_consumption    0.021356\n",
            "1                         weight    0.021273\n",
            "0                         height    0.018321\n",
            "10                      exercise    0.015443\n",
            "5   green_vegetables_consumption    0.013306\n",
            "6       fried_potato_consumption    0.013211\n",
            "11                   skin_cancer    0.012434\n",
            "4              fruit_consumption    0.011745\n",
            "12                  other_cancer    0.010926\n",
            "13                    depression    0.005485\n",
            "19                  bmi_category    0.004269\n"
          ]
        }
      ],
      "source": [
        "y_pred_rf = best_rf_model.predict(X_test_scaled)\n",
        "\n",
        "print(\"Confusion Matrix:\\n\", confusion_matrix(y_test, y_pred_rf))\n",
        "print(\"\\nClassification Report:\\n\", classification_report(y_test, y_pred_rf))\n",
        "\n",
        "feature_names = [\n",
        "    'height', 'weight', 'bmi', 'alcohol_consumption', 'fruit_consumption',\n",
        "    'green_vegetables_consumption', 'fried_potato_consumption', 'age',\n",
        "    'checkup', 'general_health', 'exercise', 'skin_cancer', 'other_cancer',\n",
        "    'depression', 'arthritis', 'diabetes', 'smoking_history', 'female', 'male',\n",
        "    'bmi_category'\n",
        "]\n",
        "importances = best_rf_model.feature_importances_\n",
        "\n",
        "feature_df = pd.DataFrame({\n",
        "    \"Feature\": feature_names,\n",
        "    \"Importance\": importances\n",
        "}).sort_values(by=\"Importance\", ascending=False)\n",
        "\n",
        "print(feature_df)"
      ]
    },
    {
      "cell_type": "markdown",
      "metadata": {
        "id": "qMgnGdCcZQzC"
      },
      "source": [
        "# Saving Decision Tree Model"
      ]
    },
    {
      "cell_type": "code",
      "execution_count": null,
      "metadata": {
        "colab": {
          "base_uri": "https://localhost:8080/"
        },
        "id": "wtwglc0gZS32",
        "outputId": "488a859b-cb68-4d47-95c0-c1c3f31ed8ee"
      },
      "outputs": [
        {
          "name": "stdout",
          "output_type": "stream",
          "text": [
            "model saved to best_dt_model.pkl\n"
          ]
        }
      ],
      "source": [
        "filename = 'best_dt_model.pkl'\n",
        "pickle.dump(best_dt_model, open(filename, 'wb'))\n",
        "\n",
        "print(f'model saved to {filename}')"
      ]
    },
    {
      "cell_type": "markdown",
      "metadata": {
        "id": "79953b05"
      },
      "source": [
        "# Logistic Regression Model Training & Fine Tuning using GridsearchCV"
      ]
    },
    {
      "cell_type": "code",
      "execution_count": null,
      "metadata": {
        "colab": {
          "base_uri": "https://localhost:8080/"
        },
        "id": "ff81fd58",
        "outputId": "2c5b7b40-32cd-492b-b305-f7b379ee1208"
      },
      "outputs": [
        {
          "name": "stdout",
          "output_type": "stream",
          "text": [
            "Starting GridSearchCV for Logistic Regression hyperparameter tuning...\n",
            "GridSearchCV complete.\n",
            "Best parameters found for Logistic Regression: {'C': 0.001, 'class_weight': 'balanced', 'penalty': 'l2', 'solver': 'lbfgs'}\n",
            "Best cross-validation accuracy for Logistic Regression: 0.7363\n",
            "LogisticRegression(C=0.001, class_weight='balanced', random_state=1)\n"
          ]
        }
      ],
      "source": [
        "from sklearn.linear_model import LogisticRegression\n",
        "from sklearn.model_selection import GridSearchCV\n",
        "import pickle\n",
        "\n",
        "param_grid_lr = {\n",
        "    'C': [0.001, 0.01, 0.1, 1, 10, 100],\n",
        "    'penalty': ['l2'],\n",
        "    'solver': ['liblinear', 'lbfgs'],\n",
        "    'class_weight': ['balanced']\n",
        "}\n",
        "\n",
        "lr_base = LogisticRegression(random_state=1)\n",
        "\n",
        "grid_search_lr = GridSearchCV(\n",
        "    estimator=lr_base,\n",
        "    param_grid=param_grid_lr,\n",
        "    cv=3,\n",
        "    scoring='accuracy',\n",
        "    n_jobs=-1\n",
        ")\n",
        "\n",
        "print(\"Starting GridSearchCV for Logistic Regression hyperparameter tuning...\")\n",
        "grid_search_lr.fit(X_train_scaled, y_train)\n",
        "\n",
        "print(\"GridSearchCV complete.\")\n",
        "\n",
        "best_params_lr = grid_search_lr.best_params_\n",
        "best_score_lr = grid_search_lr.best_score_\n",
        "\n",
        "print(f\"Best parameters found for Logistic Regression: {best_params_lr}\")\n",
        "print(f\"Best cross-validation accuracy for Logistic Regression: {best_score_lr:.4f}\")\n",
        "\n",
        "best_lr_model = grid_search_lr.best_estimator_\n",
        "print(best_lr_model)"
      ]
    },
    {
      "cell_type": "markdown",
      "metadata": {
        "id": "1d74e903"
      },
      "source": [
        "# Logistic Regression Report & feature importances"
      ]
    },
    {
      "cell_type": "code",
      "execution_count": null,
      "metadata": {
        "colab": {
          "base_uri": "https://localhost:8080/"
        },
        "id": "b9e5f5a4",
        "outputId": "1fed8c03-c5a9-441c-df9f-13cbc9291bc6"
      },
      "outputs": [
        {
          "name": "stdout",
          "output_type": "stream",
          "text": [
            "Confusion Matrix:\n",
            " [[62186 22980]\n",
            " [ 1633  5858]]\n",
            "\n",
            "Classification Report:\n",
            "               precision    recall  f1-score   support\n",
            "\n",
            "           0       0.97      0.73      0.83     85166\n",
            "           1       0.20      0.78      0.32      7491\n",
            "\n",
            "    accuracy                           0.73     92657\n",
            "   macro avg       0.59      0.76      0.58     92657\n",
            "weighted avg       0.91      0.73      0.79     92657\n",
            "\n",
            "ROC-AUC Score: 0.8326064906644363\n",
            "Feature Coefficients: \n",
            "Age                             0.962858\n",
            "Male                            0.226399\n",
            "Smoking_History_Encoded         0.207286\n",
            "Diabetes_Encoded                0.197190\n",
            "Checkup_Encoded                 0.162950\n",
            "Arthritis_Encoded               0.142796\n",
            "Depression_Encoded              0.105307\n",
            "Skin_Cancer_Encoded             0.038618\n",
            "Other_Cancer_Encoded            0.034726\n",
            "Green_Vegetables_Consumption    0.019137\n",
            "BMI                             0.005974\n",
            "Fruit_Consumption              -0.009111\n",
            "Exercise_Encoded               -0.018065\n",
            "FriedPotato_Consumption        -0.022724\n",
            "Weight_(kg)                    -0.032991\n",
            "BMI_Category_Encoded           -0.051882\n",
            "Height_(cm)                    -0.061071\n",
            "Alcohol_Consumption            -0.087522\n",
            "Female                         -0.226399\n",
            "General_Health_Encoded         -0.602404\n",
            "dtype: float64\n"
          ]
        }
      ],
      "source": [
        "from sklearn.metrics import roc_auc_score\n",
        "\n",
        "y_pred_lr = best_lr_model.predict(X_test_scaled)\n",
        "roc_auc = roc_auc_score(y_test, best_lr_model.predict_proba(X_test_scaled)[:,1])\n",
        "\n",
        "print(\"Confusion Matrix:\\n\", confusion_matrix(y_test, y_pred_lr))\n",
        "print(\"\\nClassification Report:\\n\", classification_report(y_test, y_pred_lr))\n",
        "print(\"ROC-AUC Score:\", roc_auc)\n",
        "\n",
        "importances = pd.Series(best_lr_model.coef_[0], index=X_train.columns).sort_values(ascending=False)\n",
        "print(\"Feature Coefficients: \")\n",
        "print(importances)"
      ]
    },
    {
      "cell_type": "markdown",
      "metadata": {
        "id": "e3a20212"
      },
      "source": [
        "# Saving Logistic Regression Model"
      ]
    },
    {
      "cell_type": "code",
      "execution_count": null,
      "metadata": {
        "colab": {
          "base_uri": "https://localhost:8080/"
        },
        "id": "79e58764",
        "outputId": "8675dc7b-cfc5-4434-e95a-185d96cf6cff"
      },
      "outputs": [
        {
          "name": "stdout",
          "output_type": "stream",
          "text": [
            "model saved to best_lr_model.pkl\n"
          ]
        }
      ],
      "source": [
        "filename = 'best_lr_model.pkl'\n",
        "pickle.dump(best_lr_model, open(filename, 'wb'))\n",
        "\n",
        "print(f'model saved to {filename}')"
      ]
    },
    {
      "cell_type": "markdown",
      "metadata": {
        "id": "f82f4d5b"
      },
      "source": [
        "# K-Nearest Neighbors (KNN) Model Training & Fine Tuning using GridsearchCV"
      ]
    },
    {
      "cell_type": "code",
      "execution_count": null,
      "metadata": {
        "colab": {
          "base_uri": "https://localhost:8080/"
        },
        "id": "a70c661d",
        "outputId": "94cb7ec3-2e08-457e-e229-9c29a6abcaf4"
      },
      "outputs": [
        {
          "name": "stdout",
          "output_type": "stream",
          "text": [
            "Starting GridSearchCV for KNN hyperparameter tuning...\n",
            "GridSearchCV complete.\n",
            "Best parameters found for KNN: {'metric': 'manhattan', 'n_neighbors': 3, 'weights': 'distance'}\n",
            "Best cross-validation ROC AUC for KNN: 0.1359\n",
            "KNeighborsClassifier(metric='manhattan', n_neighbors=3, weights='distance')\n"
          ]
        }
      ],
      "source": [
        "from sklearn.neighbors import KNeighborsClassifier\n",
        "param_grid_knn = {\n",
        "    'n_neighbors': [3, 5, 7, 9],\n",
        "    'weights': ['uniform', 'distance'],\n",
        "    'metric': ['euclidean', 'manhattan']\n",
        "}\n",
        "\n",
        "knn_base = KNeighborsClassifier()\n",
        "\n",
        "grid_search_knn = GridSearchCV(\n",
        "    estimator=knn_base,\n",
        "    param_grid=param_grid_knn,\n",
        "    cv=3,\n",
        "    scoring='recall',\n",
        "    n_jobs=-1\n",
        ")\n",
        "\n",
        "print(\"Starting GridSearchCV for KNN hyperparameter tuning...\")\n",
        "grid_search_knn.fit(X_train_scaled, y_train)\n",
        "\n",
        "print(\"GridSearchCV complete.\")\n",
        "best_params_knn = grid_search_knn.best_params_\n",
        "best_score_knn = grid_search_knn.best_score_\n",
        "\n",
        "print(f\"Best parameters found for KNN: {best_params_knn}\")\n",
        "print(f\"Best cross-validation ROC AUC for KNN: {best_score_knn:.4f}\")\n",
        "\n",
        "best_knn_model = grid_search_knn.best_estimator_\n",
        "print(best_knn_model)"
      ]
    },
    {
      "cell_type": "markdown",
      "metadata": {
        "id": "ea3d2773"
      },
      "source": [
        "# KNN Report"
      ]
    },
    {
      "cell_type": "code",
      "execution_count": null,
      "metadata": {
        "colab": {
          "base_uri": "https://localhost:8080/"
        },
        "id": "ec04c726",
        "outputId": "abb2f833-64f6-447f-cb2f-747a833434e1"
      },
      "outputs": [
        {
          "name": "stdout",
          "output_type": "stream",
          "text": [
            "Confusion Matrix:\n",
            " [[82402  2764]\n",
            " [ 6542   949]]\n",
            "\n",
            "Classification Report:\n",
            "               precision    recall  f1-score   support\n",
            "\n",
            "           0       0.93      0.97      0.95     85166\n",
            "           1       0.26      0.13      0.17      7491\n",
            "\n",
            "    accuracy                           0.90     92657\n",
            "   macro avg       0.59      0.55      0.56     92657\n",
            "weighted avg       0.87      0.90      0.88     92657\n",
            "\n",
            "ROC-AUC Score: 0.6382877011847168\n"
          ]
        }
      ],
      "source": [
        "y_pred_knn = best_knn_model.predict(X_test_scaled)\n",
        "\n",
        "print(\"Confusion Matrix:\\n\", confusion_matrix(y_test, y_pred_knn))\n",
        "print(\"\\nClassification Report:\\n\", classification_report(y_test, y_pred_knn))\n",
        "print(\"ROC-AUC Score:\", roc_auc_score(y_test, best_knn_model.predict_proba(X_test_scaled)[:,1]))"
      ]
    },
    {
      "cell_type": "markdown",
      "metadata": {
        "id": "bc325f16"
      },
      "source": [
        "# Saving KNN Model"
      ]
    },
    {
      "cell_type": "code",
      "execution_count": null,
      "metadata": {
        "colab": {
          "base_uri": "https://localhost:8080/"
        },
        "id": "27ad1075",
        "outputId": "4bf55cde-d65f-4e7e-ab0d-6873ee360538"
      },
      "outputs": [
        {
          "name": "stdout",
          "output_type": "stream",
          "text": [
            "model saved to best_knn_model.pkl\n"
          ]
        }
      ],
      "source": [
        "filename = 'best_knn_model.pkl'\n",
        "pickle.dump(best_knn_model, open(filename, 'wb'))\n",
        "\n",
        "print(f'model saved to {filename}')"
      ]
    },
    {
      "cell_type": "markdown",
      "metadata": {
        "id": "9a4b4e52"
      },
      "source": [
        "# Naive Bayes Model Training & Fine Tuning using GridsearchCV"
      ]
    },
    {
      "cell_type": "code",
      "execution_count": null,
      "metadata": {
        "colab": {
          "base_uri": "https://localhost:8080/"
        },
        "id": "9f7218c3",
        "outputId": "26cea37d-ef97-4ef9-f7e3-ba845ba96700"
      },
      "outputs": [
        {
          "name": "stdout",
          "output_type": "stream",
          "text": [
            "Starting GridSearchCV for Naive Bayes hyperparameter tuning...\n",
            "GridSearchCV complete.\n",
            "Best parameters found for Naive Bayes: {'var_smoothing': np.float64(1.0)}\n",
            "Best cross-validation ROC AUC for Naive Bayes: 0.3521\n",
            "GaussianNB(var_smoothing=np.float64(1.0))\n"
          ]
        }
      ],
      "source": [
        "from sklearn.naive_bayes import GaussianNB\n",
        "import numpy as np\n",
        "\n",
        "param_grid_nb = {\n",
        "    'var_smoothing': np.logspace(0, -9, num=100)\n",
        "}\n",
        "\n",
        "nb_base = GaussianNB()\n",
        "\n",
        "grid_search_nb = GridSearchCV(\n",
        "    estimator=nb_base,\n",
        "    param_grid=param_grid_nb,\n",
        "    cv=3,\n",
        "    scoring='precision', # Using roc_auc for scoring\n",
        "    n_jobs=-1\n",
        ")\n",
        "\n",
        "print(\"Starting GridSearchCV for Naive Bayes hyperparameter tuning...\")\n",
        "grid_search_nb.fit(X_train_scaled, y_train)\n",
        "\n",
        "print(\"GridSearchCV complete.\")\n",
        "\n",
        "best_params_nb = grid_search_nb.best_params_\n",
        "best_score_nb = grid_search_nb.best_score_\n",
        "\n",
        "print(f\"Best parameters found for Naive Bayes: {best_params_nb}\")\n",
        "print(f\"Best cross-validation ROC AUC for Naive Bayes: {best_score_nb:.4f}\")\n",
        "\n",
        "best_nb_model = grid_search_nb.best_estimator_\n",
        "print(best_nb_model)"
      ]
    },
    {
      "cell_type": "markdown",
      "metadata": {
        "id": "54cd810d"
      },
      "source": [
        "# Naive Bayes Report"
      ]
    },
    {
      "cell_type": "code",
      "execution_count": null,
      "metadata": {
        "colab": {
          "base_uri": "https://localhost:8080/"
        },
        "id": "eb20ff12",
        "outputId": "c8c3207a-640e-439a-a1f3-5a49731ff116"
      },
      "outputs": [
        {
          "name": "stdout",
          "output_type": "stream",
          "text": [
            "Confusion Matrix:\n",
            " [[82888  2278]\n",
            " [ 6256  1235]]\n",
            "\n",
            "Classification Report:\n",
            "               precision    recall  f1-score   support\n",
            "\n",
            "           0       0.93      0.97      0.95     85166\n",
            "           1       0.35      0.16      0.22      7491\n",
            "\n",
            "    accuracy                           0.91     92657\n",
            "   macro avg       0.64      0.57      0.59     92657\n",
            "weighted avg       0.88      0.91      0.89     92657\n",
            "\n",
            "ROC-AUC Score: 0.8053019594989302\n"
          ]
        }
      ],
      "source": [
        "y_pred_nb = best_nb_model.predict(X_test_scaled)\n",
        "\n",
        "print(\"Confusion Matrix:\\n\", confusion_matrix(y_test, y_pred_nb))\n",
        "print(\"\\nClassification Report:\\n\", classification_report(y_test, y_pred_nb))\n",
        "print(\"ROC-AUC Score:\", roc_auc_score(y_test, best_nb_model.predict_proba(X_test_scaled)[:,1]))"
      ]
    },
    {
      "cell_type": "markdown",
      "metadata": {
        "id": "1e85696d"
      },
      "source": [
        "# Saving Naive Bayes Model"
      ]
    },
    {
      "cell_type": "code",
      "execution_count": null,
      "metadata": {
        "colab": {
          "base_uri": "https://localhost:8080/"
        },
        "id": "0d97f565",
        "outputId": "73c5fdef-7d9a-4a31-ca50-467da1ccb073"
      },
      "outputs": [
        {
          "name": "stdout",
          "output_type": "stream",
          "text": [
            "model saved to best_nb_model.pkl\n"
          ]
        }
      ],
      "source": [
        "filename = 'best_nb_model.pkl'\n",
        "pickle.dump(best_nb_model, open(filename, 'wb'))\n",
        "\n",
        "print(f'model saved to {filename}')"
      ]
    },
    {
      "cell_type": "markdown",
      "metadata": {
        "id": "96f29076"
      },
      "source": [
        "# Support Vector Machine (SVM) Model Training"
      ]
    },
    {
      "cell_type": "code",
      "metadata": {
        "colab": {
          "base_uri": "https://localhost:8080/"
        },
        "id": "39cc4f80",
        "outputId": "f8432713-b590-47e9-d6ea-b93a861f0325"
      },
      "source": [
        "from imblearn.under_sampling import RandomUnderSampler\n",
        "\n",
        "rus = RandomUnderSampler(random_state=1)\n",
        "X_train_undersampled, y_train_undersampled = rus.fit_resample(X_train_scaled, y_train)\n",
        "\n",
        "print(\"Shape of original X_train_scaled:\", X_train_scaled.shape)\n",
        "print(\"Shape of undersampled X_train_scaled:\", X_train_undersampled.shape)\n",
        "print(\"Shape of original y_train:\", y_train.shape)\n",
        "print(\"Shape of undersampled y_train:\", y_train_undersampled.shape)\n",
        "print(\"\\nValue counts of original y_train:\\n\", y_train.value_counts())\n",
        "print(\"\\nValue counts of undersampled y_train:\\n\", y_train_undersampled.value_counts())"
      ],
      "execution_count": null,
      "outputs": [
        {
          "output_type": "stream",
          "name": "stdout",
          "text": [
            "Shape of original X_train_scaled: (216197, 20)\n",
            "Shape of undersampled X_train_scaled: (34960, 20)\n",
            "Shape of original y_train: (216197,)\n",
            "Shape of undersampled y_train: (34960,)\n",
            "\n",
            "Value counts of original y_train:\n",
            " Heart_Disease_Encoded\n",
            "0    198717\n",
            "1     17480\n",
            "Name: count, dtype: int64\n",
            "\n",
            "Value counts of undersampled y_train:\n",
            " Heart_Disease_Encoded\n",
            "0    17480\n",
            "1    17480\n",
            "Name: count, dtype: int64\n"
          ]
        }
      ]
    },
    {
      "cell_type": "code",
      "source": [
        "from sklearn.svm import SVC\n",
        "\n",
        "best_svm_model = SVC(C=1, gamma='scale', kernel='rbf', class_weight='balanced',random_state=1, probability=True)\n",
        "\n",
        "best_svm_model.fit(X_train_undersampled, y_train_undersampled)\n",
        "print(best_svm_model)"
      ],
      "metadata": {
        "id": "emtaqlbbf7fA",
        "colab": {
          "base_uri": "https://localhost:8080/"
        },
        "outputId": "90788a3b-cfe2-48d3-a37d-0f8c335fbfdb"
      },
      "execution_count": null,
      "outputs": [
        {
          "output_type": "stream",
          "name": "stdout",
          "text": [
            "SVC(C=1, class_weight='balanced', probability=True, random_state=1)\n"
          ]
        }
      ]
    },
    {
      "cell_type": "markdown",
      "metadata": {
        "id": "29221642"
      },
      "source": [
        "# SVM Report"
      ]
    },
    {
      "cell_type": "code",
      "execution_count": null,
      "metadata": {
        "id": "6a82b74a",
        "colab": {
          "base_uri": "https://localhost:8080/"
        },
        "outputId": "e5856ad5-8081-45c6-9f5e-ab75987d9478"
      },
      "outputs": [
        {
          "output_type": "stream",
          "name": "stdout",
          "text": [
            "Confusion Matrix:\n",
            " [[59492 25674]\n",
            " [ 1382  6109]]\n",
            "\n",
            "Classification Report:\n",
            "               precision    recall  f1-score   support\n",
            "\n",
            "           0       0.98      0.70      0.81     85166\n",
            "           1       0.19      0.82      0.31      7491\n",
            "\n",
            "    accuracy                           0.71     92657\n",
            "   macro avg       0.58      0.76      0.56     92657\n",
            "weighted avg       0.91      0.71      0.77     92657\n",
            "\n",
            "ROC-AUC Score: 0.8252058949459342\n"
          ]
        }
      ],
      "source": [
        "y_pred_svm = best_svm_model.predict(X_test_scaled)\n",
        "print(\"Confusion Matrix:\\n\", confusion_matrix(y_test, y_pred_svm))\n",
        "print(\"\\nClassification Report:\\n\", classification_report(y_test, y_pred_svm))\n",
        "print(\"ROC-AUC Score:\", roc_auc_score(y_test, best_svm_model.predict_proba(X_test_scaled)[:,1]))"
      ]
    },
    {
      "cell_type": "markdown",
      "metadata": {
        "id": "0bbb6c58"
      },
      "source": [
        "# Saving SVM Model"
      ]
    },
    {
      "cell_type": "code",
      "execution_count": null,
      "metadata": {
        "id": "157cc8a9",
        "colab": {
          "base_uri": "https://localhost:8080/"
        },
        "outputId": "b1a2f82c-e992-464a-fb9f-441e9af8c505"
      },
      "outputs": [
        {
          "output_type": "stream",
          "name": "stdout",
          "text": [
            "model saved to best_svm_model.pkl\n"
          ]
        }
      ],
      "source": [
        "filename = 'best_svm_model.pkl'\n",
        "pickle.dump(best_svm_model, open(filename, 'wb'))\n",
        "\n",
        "print(f'model saved to {filename}')"
      ]
    },
    {
      "cell_type": "code",
      "source": [
        "filename = '/content/drive/MyDrive/Project/best_adaboost_model.pkl'\n",
        "loaded_model = pickle.load(open(filename, 'rb'))\n",
        "\n",
        "y_pred_proba = loaded_model.predict_proba(X_test_scaled)[:, 1]\n",
        "\n",
        "logloss = log_loss(y_test, y_pred_proba)\n",
        "print(f\"LogLoss : {logloss:.4f}\")\n",
        "\n",
        "roc_auc = roc_auc_score(y_test, y_pred_proba)\n",
        "print(f\"ROC AUC : {roc_auc:.4f}\")"
      ],
      "metadata": {
        "colab": {
          "base_uri": "https://localhost:8080/"
        },
        "id": "KbDDQL9INKwn",
        "outputId": "28f9e93f-2917-41a8-ad1b-723c5217cf01"
      },
      "execution_count": null,
      "outputs": [
        {
          "output_type": "stream",
          "name": "stdout",
          "text": [
            "LogLoss : 0.5668\n",
            "ROC AUC : 0.8147\n"
          ]
        }
      ]
    },
    {
      "cell_type": "code",
      "source": [
        "!pip install catboost\n",
        "import catboost\n",
        "filename = '/content/drive/MyDrive/Project/best_catboost_model.pkl'\n",
        "loaded_model = pickle.load(open(filename, 'rb'))\n",
        "\n",
        "y_pred_proba = loaded_model.predict_proba(X_test_scaled)[:, 1]\n",
        "\n",
        "logloss = log_loss(y_test, y_pred_proba)\n",
        "print(f\"LogLoss : {logloss:.4f}\")\n",
        "\n",
        "roc_auc = roc_auc_score(y_test, y_pred_proba)\n",
        "print(f\"ROC AUC : {roc_auc:.4f}\")"
      ],
      "metadata": {
        "colab": {
          "base_uri": "https://localhost:8080/"
        },
        "id": "q40kEOSOPTm8",
        "outputId": "0de7ecee-1b1e-4cd1-b852-51f6a3b191c1"
      },
      "execution_count": null,
      "outputs": [
        {
          "output_type": "stream",
          "name": "stdout",
          "text": [
            "Collecting catboost\n",
            "  Downloading catboost-1.2.8-cp311-cp311-manylinux2014_x86_64.whl.metadata (1.2 kB)\n",
            "Requirement already satisfied: graphviz in /usr/local/lib/python3.11/dist-packages (from catboost) (0.21)\n",
            "Requirement already satisfied: matplotlib in /usr/local/lib/python3.11/dist-packages (from catboost) (3.10.0)\n",
            "Requirement already satisfied: numpy<3.0,>=1.16.0 in /usr/local/lib/python3.11/dist-packages (from catboost) (2.0.2)\n",
            "Requirement already satisfied: pandas>=0.24 in /usr/local/lib/python3.11/dist-packages (from catboost) (2.2.2)\n",
            "Requirement already satisfied: scipy in /usr/local/lib/python3.11/dist-packages (from catboost) (1.16.1)\n",
            "Requirement already satisfied: plotly in /usr/local/lib/python3.11/dist-packages (from catboost) (5.24.1)\n",
            "Requirement already satisfied: six in /usr/local/lib/python3.11/dist-packages (from catboost) (1.17.0)\n",
            "Requirement already satisfied: python-dateutil>=2.8.2 in /usr/local/lib/python3.11/dist-packages (from pandas>=0.24->catboost) (2.9.0.post0)\n",
            "Requirement already satisfied: pytz>=2020.1 in /usr/local/lib/python3.11/dist-packages (from pandas>=0.24->catboost) (2025.2)\n",
            "Requirement already satisfied: tzdata>=2022.7 in /usr/local/lib/python3.11/dist-packages (from pandas>=0.24->catboost) (2025.2)\n",
            "Requirement already satisfied: contourpy>=1.0.1 in /usr/local/lib/python3.11/dist-packages (from matplotlib->catboost) (1.3.3)\n",
            "Requirement already satisfied: cycler>=0.10 in /usr/local/lib/python3.11/dist-packages (from matplotlib->catboost) (0.12.1)\n",
            "Requirement already satisfied: fonttools>=4.22.0 in /usr/local/lib/python3.11/dist-packages (from matplotlib->catboost) (4.59.0)\n",
            "Requirement already satisfied: kiwisolver>=1.3.1 in /usr/local/lib/python3.11/dist-packages (from matplotlib->catboost) (1.4.8)\n",
            "Requirement already satisfied: packaging>=20.0 in /usr/local/lib/python3.11/dist-packages (from matplotlib->catboost) (25.0)\n",
            "Requirement already satisfied: pillow>=8 in /usr/local/lib/python3.11/dist-packages (from matplotlib->catboost) (11.3.0)\n",
            "Requirement already satisfied: pyparsing>=2.3.1 in /usr/local/lib/python3.11/dist-packages (from matplotlib->catboost) (3.2.3)\n",
            "Requirement already satisfied: tenacity>=6.2.0 in /usr/local/lib/python3.11/dist-packages (from plotly->catboost) (8.5.0)\n",
            "Downloading catboost-1.2.8-cp311-cp311-manylinux2014_x86_64.whl (99.2 MB)\n",
            "\u001b[2K   \u001b[90m━━━━━━━━━━━━━━━━━━━━━━━━━━━━━━━━━━━━━━━━\u001b[0m \u001b[32m99.2/99.2 MB\u001b[0m \u001b[31m8.4 MB/s\u001b[0m eta \u001b[36m0:00:00\u001b[0m\n",
            "\u001b[?25hInstalling collected packages: catboost\n",
            "Successfully installed catboost-1.2.8\n",
            "LogLoss : 0.4476\n",
            "ROC AUC : 0.8210\n"
          ]
        }
      ]
    },
    {
      "cell_type": "code",
      "source": [
        "filename = '/content/drive/MyDrive/Project/best_xgboost_model.pkl'\n",
        "loaded_model = pickle.load(open(filename, 'rb'))\n",
        "\n",
        "y_pred_proba = loaded_model.predict_proba(X_test_scaled)[:, 1]\n",
        "\n",
        "logloss = log_loss(y_test, y_pred_proba)\n",
        "print(f\"LogLoss : {logloss:.4f}\")\n",
        "\n",
        "roc_auc = roc_auc_score(y_test, y_pred_proba)\n",
        "print(f\"ROC AUC : {roc_auc:.4f}\")"
      ],
      "metadata": {
        "colab": {
          "base_uri": "https://localhost:8080/"
        },
        "id": "MMvaJijXPy8m",
        "outputId": "a565de7d-0377-4a86-fa28-b3b576bbd404"
      },
      "execution_count": null,
      "outputs": [
        {
          "output_type": "stream",
          "name": "stdout",
          "text": [
            "LogLoss : 0.4973\n",
            "ROC AUC : 0.8353\n"
          ]
        }
      ]
    },
    {
      "cell_type": "code",
      "source": [
        "filename = '/content/drive/MyDrive/Project/best_rf_model.pkl'\n",
        "loaded_model = pickle.load(open(filename, 'rb'))\n",
        "\n",
        "y_pred_proba = loaded_model.predict_proba(X_test_scaled)[:, 1]\n",
        "\n",
        "logloss = log_loss(y_test, y_pred_proba)\n",
        "print(f\"LogLoss : {logloss:.4f}\")\n",
        "\n",
        "roc_auc = roc_auc_score(y_test, y_pred_proba)\n",
        "print(f\"ROC AUC : {roc_auc:.4f}\")"
      ],
      "metadata": {
        "colab": {
          "base_uri": "https://localhost:8080/"
        },
        "id": "_Q2KAaKgP2wY",
        "outputId": "81ce7c77-38b1-4a4e-a5fc-1553e87ee25d"
      },
      "execution_count": null,
      "outputs": [
        {
          "output_type": "stream",
          "name": "stdout",
          "text": [
            "LogLoss : 0.4767\n",
            "ROC AUC : 0.8314\n"
          ]
        }
      ]
    },
    {
      "cell_type": "code",
      "source": [
        "filename = '/content/drive/MyDrive/Project/best_dt_model.pkl'\n",
        "loaded_model = pickle.load(open(filename, 'rb'))\n",
        "\n",
        "y_pred_proba = loaded_model.predict_proba(X_test_scaled)[:, 1]\n",
        "\n",
        "logloss = log_loss(y_test, y_pred_proba)\n",
        "print(f\"LogLoss : {logloss:.4f}\")\n",
        "\n",
        "roc_auc = roc_auc_score(y_test, y_pred_proba)\n",
        "print(f\"ROC AUC : {roc_auc:.4f}\")"
      ],
      "metadata": {
        "colab": {
          "base_uri": "https://localhost:8080/"
        },
        "id": "K4EDwlNLQARh",
        "outputId": "c9b19353-7a59-41d1-be0f-71662dfc4cc5"
      },
      "execution_count": null,
      "outputs": [
        {
          "output_type": "stream",
          "name": "stdout",
          "text": [
            "LogLoss : 1.3250\n",
            "ROC AUC : 0.7192\n"
          ]
        }
      ]
    },
    {
      "cell_type": "code",
      "source": [
        "filename = '/content/drive/MyDrive/Project/best_lr_model.pkl'\n",
        "loaded_model = pickle.load(open(filename, 'rb'))\n",
        "\n",
        "y_pred_proba = loaded_model.predict_proba(X_test_scaled)[:, 1]\n",
        "\n",
        "logloss = log_loss(y_test, y_pred_proba)\n",
        "print(f\"LogLoss : {logloss:.4f}\")\n",
        "\n",
        "roc_auc = roc_auc_score(y_test, y_pred_proba)\n",
        "print(f\"ROC AUC : {roc_auc:.4f}\")"
      ],
      "metadata": {
        "colab": {
          "base_uri": "https://localhost:8080/"
        },
        "id": "wcyhKhpAQHiH",
        "outputId": "aa0f2f20-d08b-4abc-a837-e124516a0ba3"
      },
      "execution_count": null,
      "outputs": [
        {
          "output_type": "stream",
          "name": "stdout",
          "text": [
            "LogLoss : 0.5095\n",
            "ROC AUC : 0.8326\n"
          ]
        }
      ]
    },
    {
      "cell_type": "code",
      "source": [
        "filename = '/content/drive/MyDrive/Project/best_nb_model.pkl'\n",
        "loaded_model = pickle.load(open(filename, 'rb'))\n",
        "\n",
        "y_pred_proba = loaded_model.predict_proba(X_test_scaled)[:, 1]\n",
        "\n",
        "logloss = log_loss(y_test, y_pred_proba)\n",
        "print(f\"LogLoss : {logloss:.4f}\")\n",
        "\n",
        "roc_auc = roc_auc_score(y_test, y_pred_proba)\n",
        "print(f\"ROC AUC : {roc_auc:.4f}\")"
      ],
      "metadata": {
        "colab": {
          "base_uri": "https://localhost:8080/"
        },
        "id": "MCNZIoI6QSmM",
        "outputId": "17cf20f9-ab8a-4fca-8bb3-a77b12b223cf"
      },
      "execution_count": 7,
      "outputs": [
        {
          "output_type": "stream",
          "name": "stdout",
          "text": [
            "LogLoss : 0.2462\n",
            "ROC AUC : 0.8053\n"
          ]
        }
      ]
    },
    {
      "cell_type": "code",
      "source": [
        "filename = '/content/drive/MyDrive/Project/best_svm_model.pkl'\n",
        "loaded_model = pickle.load(open(filename, 'rb'))\n",
        "\n",
        "y_pred_proba = loaded_model.predict_proba(X_test_scaled)[:, 1]\n",
        "\n",
        "logloss = log_loss(y_test, y_pred_proba)\n",
        "print(f\"LogLoss : {logloss:.4f}\")\n",
        "\n",
        "roc_auc = roc_auc_score(y_test, y_pred_proba)\n",
        "print(f\"ROC AUC : {roc_auc:.4f}\")"
      ],
      "metadata": {
        "colab": {
          "base_uri": "https://localhost:8080/"
        },
        "id": "JxMVhDjht_hL",
        "outputId": "ba52a4d7-ea75-45b9-82fa-697c5b662700"
      },
      "execution_count": 8,
      "outputs": [
        {
          "output_type": "stream",
          "name": "stdout",
          "text": [
            "LogLoss : 0.5211\n",
            "ROC AUC : 0.8252\n"
          ]
        }
      ]
    },
    {
      "cell_type": "code",
      "source": [
        "filename = '/content/drive/MyDrive/Project/best_knn_model.pkl'\n",
        "loaded_model = pickle.load(open(filename, 'rb'))\n",
        "\n",
        "y_pred_proba = loaded_model.predict_proba(X_test_scaled)[:, 1]\n",
        "\n",
        "logloss = log_loss(y_test, y_pred_proba)\n",
        "print(f\"LogLoss : {logloss:.4f}\")\n",
        "\n",
        "roc_auc = roc_auc_score(y_test, y_pred_proba)\n",
        "print(f\"ROC AUC : {roc_auc:.4f}\")"
      ],
      "metadata": {
        "colab": {
          "base_uri": "https://localhost:8080/"
        },
        "id": "91CgvW2dwax-",
        "outputId": "2103b8e9-c778-4ef1-9a49-27a9883381e9"
      },
      "execution_count": 9,
      "outputs": [
        {
          "output_type": "stream",
          "name": "stdout",
          "text": [
            "LogLoss : 1.8308\n",
            "ROC AUC : 0.6383\n"
          ]
        }
      ]
    }
  ],
  "metadata": {
    "colab": {
      "provenance": []
    },
    "kernelspec": {
      "display_name": "Python 3",
      "name": "python3"
    },
    "language_info": {
      "name": "python"
    }
  },
  "nbformat": 4,
  "nbformat_minor": 0
}