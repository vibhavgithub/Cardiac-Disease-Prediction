{
  "cells": [
    {
      "cell_type": "code",
      "execution_count": null,
      "metadata": {
        "colab": {
          "base_uri": "https://localhost:8080/"
        },
        "id": "4Qgw8wchrPcq",
        "outputId": "d47b99bb-dc03-4ced-855c-85d714b1a7ec"
      },
      "outputs": [
        {
          "name": "stdout",
          "output_type": "stream",
          "text": [
            "Drive already mounted at /content/drive; to attempt to forcibly remount, call drive.mount(\"/content/drive\", force_remount=True).\n"
          ]
        }
      ],
      "source": [
        "from google.colab import drive\n",
        "drive.mount('/content/drive')"
      ]
    },
    {
      "cell_type": "code",
      "execution_count": null,
      "metadata": {
        "colab": {
          "base_uri": "https://localhost:8080/"
        },
        "id": "144e239f",
        "outputId": "6f903fad-aaed-4d8f-94f3-26b004a9d092"
      },
      "outputs": [
        {
          "name": "stdout",
          "output_type": "stream",
          "text": [
            "Requirement already satisfied: pyspark in /usr/local/lib/python3.11/dist-packages (3.5.1)\n",
            "Requirement already satisfied: py4j==0.10.9.7 in /usr/local/lib/python3.11/dist-packages (from pyspark) (0.10.9.7)\n"
          ]
        }
      ],
      "source": [
        "!pip install pyspark"
      ]
    },
    {
      "cell_type": "code",
      "execution_count": null,
      "metadata": {
        "id": "0eeb1da5"
      },
      "outputs": [],
      "source": [
        "from pyspark.sql import SparkSession\n",
        "\n",
        "spark = SparkSession.builder.appName(\"CardiovascularRiskPrediction\").getOrCreate()"
      ]
    },
    {
      "cell_type": "code",
      "execution_count": null,
      "metadata": {
        "colab": {
          "base_uri": "https://localhost:8080/"
        },
        "id": "522e2a14",
        "outputId": "380ebd72-64d6-485a-df9a-2582e34e8b06"
      },
      "outputs": [
        {
          "name": "stdout",
          "output_type": "stream",
          "text": [
            "+--------------+--------------------+--------+-------------+-----------+------------+----------+--------+---------+------+------------+-----------+-----------+-----+---------------+-------------------+-----------------+----------------------------+-----------------------+\n",
            "|General_Health|             Checkup|Exercise|Heart_Disease|Skin_Cancer|Other_Cancer|Depression|Diabetes|Arthritis|   Sex|Age_Category|Height_(cm)|Weight_(kg)|  BMI|Smoking_History|Alcohol_Consumption|Fruit_Consumption|Green_Vegetables_Consumption|FriedPotato_Consumption|\n",
            "+--------------+--------------------+--------+-------------+-----------+------------+----------+--------+---------+------+------------+-----------+-----------+-----+---------------+-------------------+-----------------+----------------------------+-----------------------+\n",
            "|          Poor|Within the past 2...|      No|           No|         No|          No|        No|      No|      Yes|Female|       70-74|        150|      32.66|14.54|            Yes|                  0|               30|                          16|                     12|\n",
            "|     Very Good|Within the past year|      No|          Yes|         No|          No|        No|     Yes|       No|Female|       70-74|        165|      77.11|28.29|             No|                  0|               30|                           0|                      4|\n",
            "|     Very Good|Within the past year|     Yes|           No|         No|          No|        No|     Yes|       No|Female|       60-64|        163|      88.45|33.47|             No|                  4|               12|                           3|                     16|\n",
            "|          Poor|Within the past year|     Yes|          Yes|         No|          No|        No|     Yes|       No|  Male|       75-79|        180|      93.44|28.73|             No|                  0|               30|                          30|                      8|\n",
            "|          Good|Within the past year|      No|           No|         No|          No|        No|      No|       No|  Male|         80+|        191|      88.45|24.37|            Yes|                  0|                8|                           4|                      0|\n",
            "|          Good|Within the past year|      No|           No|         No|          No|       Yes|      No|      Yes|  Male|       60-64|        183|     154.22|46.11|             No|                  0|               12|                          12|                     12|\n",
            "|          Fair|Within the past year|     Yes|          Yes|         No|          No|        No|      No|      Yes|  Male|       60-64|        175|      69.85|22.74|            Yes|                  0|               16|                           8|                      0|\n",
            "|          Good|Within the past year|     Yes|           No|         No|          No|        No|      No|      Yes|Female|       65-69|        165|     108.86|39.94|            Yes|                  3|               30|                           8|                      8|\n",
            "|          Fair|Within the past year|      No|           No|         No|          No|       Yes|      No|       No|Female|       65-69|        163|      72.57|27.46|            Yes|                  0|               12|                          12|                      4|\n",
            "|          Fair|Within the past year|      No|           No|         No|          No|        No|     Yes|      Yes|Female|       70-74|        163|      91.63|34.67|             No|                  0|               12|                          12|                      1|\n",
            "|          Fair|Within the past year|     Yes|          Yes|         No|          No|        No|      No|      Yes|Female|       75-79|        160|      74.84|29.23|             No|                  0|               30|                          20|                      2|\n",
            "|          Fair|Within the past year|      No|          Yes|        Yes|          No|        No|     Yes|       No|  Male|       75-79|        175|      73.48|23.92|             No|                  0|                2|                           8|                     30|\n",
            "|     Very Good|Within the past year|      No|           No|         No|          No|       Yes|      No|       No|Female|       50-54|        168|      83.91|29.86|             No|                  8|                8|                           0|                      2|\n",
            "|          Fair|Within the past year|      No|           No|        Yes|          No|        No|      No|       No|  Male|       65-69|        178|      113.4|35.87|            Yes|                  4|                2|                           3|                      4|\n",
            "|     Excellent|Within the past 2...|     Yes|           No|         No|          No|        No|      No|       No|Female|       70-74|        152|      52.16|22.46|             No|                  0|               30|                           4|                      0|\n",
            "|          Fair|Within the past year|      No|           No|         No|          No|        No|     Yes|      Yes|Female|       70-74|        163|     116.12|43.94|             No|                  0|                8|                           8|                      4|\n",
            "|          Good|Within the past year|      No|           No|         No|          No|        No|      No|       No|  Male|         80+|        183|      99.79|29.84|             No|                  0|                1|                           4|                     20|\n",
            "|     Very Good|Within the past year|     Yes|           No|         No|          No|        No|      No|      Yes|  Male|         80+|        168|      81.65|29.05|             No|                 30|               30|                          12|                      8|\n",
            "|          Fair|Within the past year|     Yes|           No|         No|          No|        No|     Yes|       No|  Male|       45-49|        178|     104.33| 33.0|            Yes|                  2|               16|                          12|                      8|\n",
            "|          Good|Within the past year|      No|           No|        Yes|         Yes|        No|     Yes|      Yes|Female|       70-74|        163|      79.38|30.04|             No|                  0|               12|                           8|                      4|\n",
            "+--------------+--------------------+--------+-------------+-----------+------------+----------+--------+---------+------+------------+-----------+-----------+-----+---------------+-------------------+-----------------+----------------------------+-----------------------+\n",
            "only showing top 20 rows\n",
            "\n"
          ]
        }
      ],
      "source": [
        "file_path = '/content/drive/MyDrive/Project/Cardiovascular Diseases.csv'\n",
        "df = spark.read.csv(file_path, header=True, inferSchema=True)\n",
        "df.show()"
      ]
    },
    {
      "cell_type": "code",
      "execution_count": null,
      "metadata": {
        "colab": {
          "base_uri": "https://localhost:8080/"
        },
        "id": "e6a1ea14",
        "outputId": "0ba5a3ef-2aa6-4176-910a-697a8b6a4617"
      },
      "outputs": [
        {
          "name": "stdout",
          "output_type": "stream",
          "text": [
            "root\n",
            " |-- General_Health: string (nullable = true)\n",
            " |-- Checkup: string (nullable = true)\n",
            " |-- Exercise: string (nullable = true)\n",
            " |-- Heart_Disease: string (nullable = true)\n",
            " |-- Skin_Cancer: string (nullable = true)\n",
            " |-- Other_Cancer: string (nullable = true)\n",
            " |-- Depression: string (nullable = true)\n",
            " |-- Diabetes: string (nullable = true)\n",
            " |-- Arthritis: string (nullable = true)\n",
            " |-- Sex: string (nullable = true)\n",
            " |-- Age_Category: string (nullable = true)\n",
            " |-- Height_(cm): integer (nullable = true)\n",
            " |-- Weight_(kg): double (nullable = true)\n",
            " |-- BMI: double (nullable = true)\n",
            " |-- Smoking_History: string (nullable = true)\n",
            " |-- Alcohol_Consumption: integer (nullable = true)\n",
            " |-- Fruit_Consumption: integer (nullable = true)\n",
            " |-- Green_Vegetables_Consumption: integer (nullable = true)\n",
            " |-- FriedPotato_Consumption: integer (nullable = true)\n",
            "\n",
            "+--------------+-------+--------+-------------+-----------+------------+----------+--------+---------+---+------------+-----------+-----------+---+---------------+-------------------+-----------------+----------------------------+-----------------------+\n",
            "|General_Health|Checkup|Exercise|Heart_Disease|Skin_Cancer|Other_Cancer|Depression|Diabetes|Arthritis|Sex|Age_Category|Height_(cm)|Weight_(kg)|BMI|Smoking_History|Alcohol_Consumption|Fruit_Consumption|Green_Vegetables_Consumption|FriedPotato_Consumption|\n",
            "+--------------+-------+--------+-------------+-----------+------------+----------+--------+---------+---+------------+-----------+-----------+---+---------------+-------------------+-----------------+----------------------------+-----------------------+\n",
            "|             0|      0|       0|            0|          0|           0|         0|       0|        0|  0|           0|          0|          0|  0|              0|                  0|                0|                           0|                      0|\n",
            "+--------------+-------+--------+-------------+-----------+------------+----------+--------+---------+---+------------+-----------+-----------+---+---------------+-------------------+-----------------+----------------------------+-----------------------+\n",
            "\n"
          ]
        }
      ],
      "source": [
        "df.printSchema()\n",
        "\n",
        "from pyspark.sql.functions import col, sum\n",
        "\n",
        "df.select([sum(col(c).isNull().cast(\"integer\")).alias(c) for c in df.columns]).show()"
      ]
    },
    {
      "cell_type": "code",
      "execution_count": null,
      "metadata": {
        "colab": {
          "base_uri": "https://localhost:8080/"
        },
        "id": "aa3ea82b",
        "outputId": "6078765d-f28e-4377-881b-cd7f114b7328"
      },
      "outputs": [
        {
          "name": "stdout",
          "output_type": "stream",
          "text": [
            "root\n",
            " |-- General_Health: string (nullable = true)\n",
            " |-- Checkup: string (nullable = true)\n",
            " |-- Exercise: string (nullable = true)\n",
            " |-- Heart_Disease: string (nullable = true)\n",
            " |-- Skin_Cancer: string (nullable = true)\n",
            " |-- Other_Cancer: string (nullable = true)\n",
            " |-- Depression: string (nullable = true)\n",
            " |-- Diabetes: string (nullable = true)\n",
            " |-- Arthritis: string (nullable = true)\n",
            " |-- Sex: string (nullable = true)\n",
            " |-- Age_Category: string (nullable = true)\n",
            " |-- Height_(cm): integer (nullable = true)\n",
            " |-- Weight_(kg): double (nullable = true)\n",
            " |-- BMI: double (nullable = true)\n",
            " |-- Smoking_History: string (nullable = true)\n",
            " |-- Alcohol_Consumption: integer (nullable = true)\n",
            " |-- Fruit_Consumption: integer (nullable = true)\n",
            " |-- Green_Vegetables_Consumption: integer (nullable = true)\n",
            " |-- FriedPotato_Consumption: integer (nullable = true)\n",
            "\n",
            "+--------------+--------------------+--------+-------------+-----------+------------+----------+--------+---------+------+------------+-----------+-----------+-----+---------------+-------------------+-----------------+----------------------------+-----------------------+\n",
            "|General_Health|             Checkup|Exercise|Heart_Disease|Skin_Cancer|Other_Cancer|Depression|Diabetes|Arthritis|   Sex|Age_Category|Height_(cm)|Weight_(kg)|  BMI|Smoking_History|Alcohol_Consumption|Fruit_Consumption|Green_Vegetables_Consumption|FriedPotato_Consumption|\n",
            "+--------------+--------------------+--------+-------------+-----------+------------+----------+--------+---------+------+------------+-----------+-----------+-----+---------------+-------------------+-----------------+----------------------------+-----------------------+\n",
            "|          Poor|Within the past 2...|      No|           No|         No|          No|        No|      No|      Yes|Female|       70-74|        150|      32.66|14.54|            Yes|                  0|               30|                          16|                     12|\n",
            "|     Very Good|Within the past year|      No|          Yes|         No|          No|        No|     Yes|       No|Female|       70-74|        165|      77.11|28.29|             No|                  0|               30|                           0|                      4|\n",
            "|     Very Good|Within the past year|     Yes|           No|         No|          No|        No|     Yes|       No|Female|       60-64|        163|      88.45|33.47|             No|                  4|               12|                           3|                     16|\n",
            "|          Poor|Within the past year|     Yes|          Yes|         No|          No|        No|     Yes|       No|  Male|       75-79|        180|      93.44|28.73|             No|                  0|               30|                          30|                      8|\n",
            "|          Good|Within the past year|      No|           No|         No|          No|        No|      No|       No|  Male|         80+|        191|      88.45|24.37|            Yes|                  0|                8|                           4|                      0|\n",
            "+--------------+--------------------+--------+-------------+-----------+------------+----------+--------+---------+------+------------+-----------+-----------+-----+---------------+-------------------+-----------------+----------------------------+-----------------------+\n",
            "only showing top 5 rows\n",
            "\n"
          ]
        }
      ],
      "source": [
        "df.printSchema()\n",
        "df.show(5)"
      ]
    },
    {
      "cell_type": "code",
      "execution_count": null,
      "metadata": {
        "colab": {
          "base_uri": "https://localhost:8080/"
        },
        "id": "8a946c51",
        "outputId": "4f17a864-29fa-4a6c-c7a4-8baf14786391"
      },
      "outputs": [
        {
          "name": "stdout",
          "output_type": "stream",
          "text": [
            "+------------+---+\n",
            "|Age_Category|Age|\n",
            "+------------+---+\n",
            "|       70-74| 72|\n",
            "|       70-74| 72|\n",
            "|       60-64| 62|\n",
            "|       75-79| 77|\n",
            "|         80+| 80|\n",
            "+------------+---+\n",
            "only showing top 5 rows\n",
            "\n"
          ]
        }
      ],
      "source": [
        "from pyspark.sql.functions import col, when\n",
        "\n",
        "df = df.withColumn(\n",
        "    'Age',\n",
        "    when(col('Age_Category') == '18-24', 21)\n",
        "    .when(col('Age_Category') == '25-29', 27)\n",
        "    .when(col('Age_Category') == '30-34', 32)\n",
        "    .when(col('Age_Category') == '35-39', 37)\n",
        "    .when(col('Age_Category') == '40-44', 42)\n",
        "    .when(col('Age_Category') == '45-49', 47)\n",
        "    .when(col('Age_Category') == '50-54', 52)\n",
        "    .when(col('Age_Category') == '55-59', 57)\n",
        "    .when(col('Age_Category') == '60-64', 62)\n",
        "    .when(col('Age_Category') == '65-69', 67)\n",
        "    .when(col('Age_Category') == '70-74', 72)\n",
        "    .when(col('Age_Category') == '75-79', 77)\n",
        "    .when(col('Age_Category') == '80+', 80) # Keep 80 for 80+\n",
        "    .otherwise(None) # Handle any unexpected categories\n",
        ")\n",
        "df.select('Age_Category', 'Age').show(5)"
      ]
    },
    {
      "cell_type": "code",
      "execution_count": null,
      "metadata": {
        "colab": {
          "base_uri": "https://localhost:8080/"
        },
        "id": "ccffc41b",
        "outputId": "216a4edd-5c98-4003-f5cb-c16cd3cf4ed2"
      },
      "outputs": [
        {
          "name": "stdout",
          "output_type": "stream",
          "text": [
            "+-------+-------+\n",
            "|min_age|max_age|\n",
            "+-------+-------+\n",
            "|     21|     80|\n",
            "+-------+-------+\n",
            "\n"
          ]
        }
      ],
      "source": [
        "from pyspark.sql.functions import min, max\n",
        "\n",
        "age_stats = df.agg(min(\"Age\").alias(\"min_age\"), max(\"Age\").alias(\"max_age\"))\n",
        "age_stats.show()"
      ]
    },
    {
      "cell_type": "code",
      "execution_count": null,
      "metadata": {
        "colab": {
          "base_uri": "https://localhost:8080/"
        },
        "id": "5daf9c1e",
        "outputId": "4ed646bc-59f9-468b-aeca-ce4002e040a6"
      },
      "outputs": [
        {
          "name": "stdout",
          "output_type": "stream",
          "text": [
            "+-------+-------+\n",
            "|min_age|max_age|\n",
            "+-------+-------+\n",
            "|     21|     80|\n",
            "+-------+-------+\n",
            "\n"
          ]
        }
      ],
      "source": [
        "age_stats.show()"
      ]
    },
    {
      "cell_type": "code",
      "execution_count": null,
      "metadata": {
        "colab": {
          "base_uri": "https://localhost:8080/"
        },
        "id": "DBImjhCizX1H",
        "outputId": "12dd93c1-bdf5-4da9-d1b0-9eb2043cbd0b"
      },
      "outputs": [
        {
          "name": "stdout",
          "output_type": "stream",
          "text": [
            "+--------------+--------------------+--------+-------------+-----------+------------+----------+--------+---------+------+------------+-----------+-----------+-----+---------------+-------------------+-----------------+----------------------------+-----------------------+---+\n",
            "|General_Health|             Checkup|Exercise|Heart_Disease|Skin_Cancer|Other_Cancer|Depression|Diabetes|Arthritis|   Sex|Age_Category|Height_(cm)|Weight_(kg)|  BMI|Smoking_History|Alcohol_Consumption|Fruit_Consumption|Green_Vegetables_Consumption|FriedPotato_Consumption|Age|\n",
            "+--------------+--------------------+--------+-------------+-----------+------------+----------+--------+---------+------+------------+-----------+-----------+-----+---------------+-------------------+-----------------+----------------------------+-----------------------+---+\n",
            "|          Poor|Within the past 2...|      No|           No|         No|          No|        No|      No|      Yes|Female|       70-74|        150|      32.66|14.54|            Yes|                  0|               30|                          16|                     12| 72|\n",
            "|     Very Good|Within the past year|      No|          Yes|         No|          No|        No|     Yes|       No|Female|       70-74|        165|      77.11|28.29|             No|                  0|               30|                           0|                      4| 72|\n",
            "|     Very Good|Within the past year|     Yes|           No|         No|          No|        No|     Yes|       No|Female|       60-64|        163|      88.45|33.47|             No|                  4|               12|                           3|                     16| 62|\n",
            "|          Poor|Within the past year|     Yes|          Yes|         No|          No|        No|     Yes|       No|  Male|       75-79|        180|      93.44|28.73|             No|                  0|               30|                          30|                      8| 77|\n",
            "|          Good|Within the past year|      No|           No|         No|          No|        No|      No|       No|  Male|         80+|        191|      88.45|24.37|            Yes|                  0|                8|                           4|                      0| 80|\n",
            "|          Good|Within the past year|      No|           No|         No|          No|       Yes|      No|      Yes|  Male|       60-64|        183|     154.22|46.11|             No|                  0|               12|                          12|                     12| 62|\n",
            "|          Fair|Within the past year|     Yes|          Yes|         No|          No|        No|      No|      Yes|  Male|       60-64|        175|      69.85|22.74|            Yes|                  0|               16|                           8|                      0| 62|\n",
            "|          Good|Within the past year|     Yes|           No|         No|          No|        No|      No|      Yes|Female|       65-69|        165|     108.86|39.94|            Yes|                  3|               30|                           8|                      8| 67|\n",
            "|          Fair|Within the past year|      No|           No|         No|          No|       Yes|      No|       No|Female|       65-69|        163|      72.57|27.46|            Yes|                  0|               12|                          12|                      4| 67|\n",
            "|          Fair|Within the past year|      No|           No|         No|          No|        No|     Yes|      Yes|Female|       70-74|        163|      91.63|34.67|             No|                  0|               12|                          12|                      1| 72|\n",
            "|          Fair|Within the past year|     Yes|          Yes|         No|          No|        No|      No|      Yes|Female|       75-79|        160|      74.84|29.23|             No|                  0|               30|                          20|                      2| 77|\n",
            "|          Fair|Within the past year|      No|          Yes|        Yes|          No|        No|     Yes|       No|  Male|       75-79|        175|      73.48|23.92|             No|                  0|                2|                           8|                     30| 77|\n",
            "|     Very Good|Within the past year|      No|           No|         No|          No|       Yes|      No|       No|Female|       50-54|        168|      83.91|29.86|             No|                  8|                8|                           0|                      2| 52|\n",
            "|          Fair|Within the past year|      No|           No|        Yes|          No|        No|      No|       No|  Male|       65-69|        178|      113.4|35.87|            Yes|                  4|                2|                           3|                      4| 67|\n",
            "|     Excellent|Within the past 2...|     Yes|           No|         No|          No|        No|      No|       No|Female|       70-74|        152|      52.16|22.46|             No|                  0|               30|                           4|                      0| 72|\n",
            "|          Fair|Within the past year|      No|           No|         No|          No|        No|     Yes|      Yes|Female|       70-74|        163|     116.12|43.94|             No|                  0|                8|                           8|                      4| 72|\n",
            "|          Good|Within the past year|      No|           No|         No|          No|        No|      No|       No|  Male|         80+|        183|      99.79|29.84|             No|                  0|                1|                           4|                     20| 80|\n",
            "|     Very Good|Within the past year|     Yes|           No|         No|          No|        No|      No|      Yes|  Male|         80+|        168|      81.65|29.05|             No|                 30|               30|                          12|                      8| 80|\n",
            "|          Fair|Within the past year|     Yes|           No|         No|          No|        No|     Yes|       No|  Male|       45-49|        178|     104.33| 33.0|            Yes|                  2|               16|                          12|                      8| 47|\n",
            "|          Good|Within the past year|      No|           No|        Yes|         Yes|        No|     Yes|      Yes|Female|       70-74|        163|      79.38|30.04|             No|                  0|               12|                           8|                      4| 72|\n",
            "+--------------+--------------------+--------+-------------+-----------+------------+----------+--------+---------+------+------------+-----------+-----------+-----+---------------+-------------------+-----------------+----------------------------+-----------------------+---+\n",
            "only showing top 20 rows\n",
            "\n"
          ]
        }
      ],
      "source": [
        "df.show()"
      ]
    },
    {
      "cell_type": "code",
      "execution_count": null,
      "metadata": {
        "colab": {
          "base_uri": "https://localhost:8080/"
        },
        "id": "523f13e3",
        "outputId": "3d73955d-5017-4ef4-8410-29e2cbaf8fb0"
      },
      "outputs": [
        {
          "name": "stdout",
          "output_type": "stream",
          "text": [
            "root\n",
            " |-- General_Health: string (nullable = true)\n",
            " |-- Checkup: string (nullable = true)\n",
            " |-- Exercise: string (nullable = true)\n",
            " |-- Heart_Disease: string (nullable = true)\n",
            " |-- Skin_Cancer: string (nullable = true)\n",
            " |-- Other_Cancer: string (nullable = true)\n",
            " |-- Depression: string (nullable = true)\n",
            " |-- Diabetes: string (nullable = true)\n",
            " |-- Arthritis: string (nullable = true)\n",
            " |-- Sex: string (nullable = true)\n",
            " |-- Height_(cm): integer (nullable = true)\n",
            " |-- Weight_(kg): double (nullable = true)\n",
            " |-- BMI: double (nullable = true)\n",
            " |-- Smoking_History: string (nullable = true)\n",
            " |-- Alcohol_Consumption: integer (nullable = true)\n",
            " |-- Fruit_Consumption: integer (nullable = true)\n",
            " |-- Green_Vegetables_Consumption: integer (nullable = true)\n",
            " |-- FriedPotato_Consumption: integer (nullable = true)\n",
            " |-- Age: integer (nullable = true)\n",
            "\n"
          ]
        }
      ],
      "source": [
        "df = df.drop('Age_Category')\n",
        "df.printSchema()"
      ]
    },
    {
      "cell_type": "code",
      "execution_count": null,
      "metadata": {
        "colab": {
          "base_uri": "https://localhost:8080/"
        },
        "id": "rId1ApSj1NtV",
        "outputId": "44b3966c-c3a6-4b64-fd21-9c781058bd7c"
      },
      "outputs": [
        {
          "name": "stdout",
          "output_type": "stream",
          "text": [
            "+--------------+--------------------+--------+-------------+-----------+------------+----------+--------+---------+------+-----------+-----------+-----+---------------+-------------------+-----------------+----------------------------+-----------------------+---+\n",
            "|General_Health|             Checkup|Exercise|Heart_Disease|Skin_Cancer|Other_Cancer|Depression|Diabetes|Arthritis|   Sex|Height_(cm)|Weight_(kg)|  BMI|Smoking_History|Alcohol_Consumption|Fruit_Consumption|Green_Vegetables_Consumption|FriedPotato_Consumption|Age|\n",
            "+--------------+--------------------+--------+-------------+-----------+------------+----------+--------+---------+------+-----------+-----------+-----+---------------+-------------------+-----------------+----------------------------+-----------------------+---+\n",
            "|          Poor|Within the past 2...|      No|           No|         No|          No|        No|      No|      Yes|Female|        150|      32.66|14.54|            Yes|                  0|               30|                          16|                     12| 72|\n",
            "|     Very Good|Within the past year|      No|          Yes|         No|          No|        No|     Yes|       No|Female|        165|      77.11|28.29|             No|                  0|               30|                           0|                      4| 72|\n",
            "|     Very Good|Within the past year|     Yes|           No|         No|          No|        No|     Yes|       No|Female|        163|      88.45|33.47|             No|                  4|               12|                           3|                     16| 62|\n",
            "|          Poor|Within the past year|     Yes|          Yes|         No|          No|        No|     Yes|       No|  Male|        180|      93.44|28.73|             No|                  0|               30|                          30|                      8| 77|\n",
            "|          Good|Within the past year|      No|           No|         No|          No|        No|      No|       No|  Male|        191|      88.45|24.37|            Yes|                  0|                8|                           4|                      0| 80|\n",
            "|          Good|Within the past year|      No|           No|         No|          No|       Yes|      No|      Yes|  Male|        183|     154.22|46.11|             No|                  0|               12|                          12|                     12| 62|\n",
            "|          Fair|Within the past year|     Yes|          Yes|         No|          No|        No|      No|      Yes|  Male|        175|      69.85|22.74|            Yes|                  0|               16|                           8|                      0| 62|\n",
            "|          Good|Within the past year|     Yes|           No|         No|          No|        No|      No|      Yes|Female|        165|     108.86|39.94|            Yes|                  3|               30|                           8|                      8| 67|\n",
            "|          Fair|Within the past year|      No|           No|         No|          No|       Yes|      No|       No|Female|        163|      72.57|27.46|            Yes|                  0|               12|                          12|                      4| 67|\n",
            "|          Fair|Within the past year|      No|           No|         No|          No|        No|     Yes|      Yes|Female|        163|      91.63|34.67|             No|                  0|               12|                          12|                      1| 72|\n",
            "|          Fair|Within the past year|     Yes|          Yes|         No|          No|        No|      No|      Yes|Female|        160|      74.84|29.23|             No|                  0|               30|                          20|                      2| 77|\n",
            "|          Fair|Within the past year|      No|          Yes|        Yes|          No|        No|     Yes|       No|  Male|        175|      73.48|23.92|             No|                  0|                2|                           8|                     30| 77|\n",
            "|     Very Good|Within the past year|      No|           No|         No|          No|       Yes|      No|       No|Female|        168|      83.91|29.86|             No|                  8|                8|                           0|                      2| 52|\n",
            "|          Fair|Within the past year|      No|           No|        Yes|          No|        No|      No|       No|  Male|        178|      113.4|35.87|            Yes|                  4|                2|                           3|                      4| 67|\n",
            "|     Excellent|Within the past 2...|     Yes|           No|         No|          No|        No|      No|       No|Female|        152|      52.16|22.46|             No|                  0|               30|                           4|                      0| 72|\n",
            "|          Fair|Within the past year|      No|           No|         No|          No|        No|     Yes|      Yes|Female|        163|     116.12|43.94|             No|                  0|                8|                           8|                      4| 72|\n",
            "|          Good|Within the past year|      No|           No|         No|          No|        No|      No|       No|  Male|        183|      99.79|29.84|             No|                  0|                1|                           4|                     20| 80|\n",
            "|     Very Good|Within the past year|     Yes|           No|         No|          No|        No|      No|      Yes|  Male|        168|      81.65|29.05|             No|                 30|               30|                          12|                      8| 80|\n",
            "|          Fair|Within the past year|     Yes|           No|         No|          No|        No|     Yes|       No|  Male|        178|     104.33| 33.0|            Yes|                  2|               16|                          12|                      8| 47|\n",
            "|          Good|Within the past year|      No|           No|        Yes|         Yes|        No|     Yes|      Yes|Female|        163|      79.38|30.04|             No|                  0|               12|                           8|                      4| 72|\n",
            "+--------------+--------------------+--------+-------------+-----------+------------+----------+--------+---------+------+-----------+-----------+-----+---------------+-------------------+-----------------+----------------------------+-----------------------+---+\n",
            "only showing top 20 rows\n",
            "\n"
          ]
        }
      ],
      "source": [
        "df.show()"
      ]
    },
    {
      "cell_type": "code",
      "execution_count": null,
      "metadata": {
        "colab": {
          "base_uri": "https://localhost:8080/"
        },
        "id": "243c3282",
        "outputId": "f3716e84-aafd-415b-c0e5-a3bc0d4e72f8"
      },
      "outputs": [
        {
          "name": "stdout",
          "output_type": "stream",
          "text": [
            "+--------------------+\n",
            "|             Checkup|\n",
            "+--------------------+\n",
            "|               Never|\n",
            "|Within the past year|\n",
            "|Within the past 2...|\n",
            "|Within the past 5...|\n",
            "| 5 or more years ago|\n",
            "+--------------------+\n",
            "\n"
          ]
        }
      ],
      "source": [
        "df.select(\"Checkup\").distinct().show()"
      ]
    },
    {
      "cell_type": "markdown",
      "metadata": {
        "id": "c73c0b21"
      },
      "source": [
        "## Label Encode 'Checkup' Column"
      ]
    },
    {
      "cell_type": "code",
      "execution_count": null,
      "metadata": {
        "colab": {
          "base_uri": "https://localhost:8080/"
        },
        "id": "793a2172",
        "outputId": "4394a523-710c-4ed3-ca51-e9732e9aab6d"
      },
      "outputs": [
        {
          "name": "stdout",
          "output_type": "stream",
          "text": [
            "+--------------------+---------------+\n",
            "|             Checkup|Checkup_Encoded|\n",
            "+--------------------+---------------+\n",
            "|Within the past 2...|              3|\n",
            "|Within the past year|              4|\n",
            "|Within the past year|              4|\n",
            "|Within the past year|              4|\n",
            "|Within the past year|              4|\n",
            "|Within the past year|              4|\n",
            "|Within the past year|              4|\n",
            "|Within the past year|              4|\n",
            "|Within the past year|              4|\n",
            "|Within the past year|              4|\n",
            "+--------------------+---------------+\n",
            "only showing top 10 rows\n",
            "\n"
          ]
        }
      ],
      "source": [
        "from pyspark.sql.functions import col, when\n",
        "\n",
        "df = df.withColumn(\n",
        "    \"Checkup_Encoded\",\n",
        "    when(col(\"Checkup\") == \"Never\", 0)\n",
        "    .when(col(\"Checkup\") == \"Within the past year\", 4)\n",
        "    .when(col(\"Checkup\") == \"Within the past 2 years\", 3)\n",
        "    .when(col(\"Checkup\") == \"Within the past 5 years\", 2)\n",
        "    .when(col(\"Checkup\") == \"5 or more years ago\", 1)\n",
        "    .otherwise(None) # Handle any unexpected values\n",
        ")\n",
        "\n",
        "df.select(\"Checkup\", \"Checkup_Encoded\").show(10)"
      ]
    },
    {
      "cell_type": "code",
      "execution_count": null,
      "metadata": {
        "colab": {
          "base_uri": "https://localhost:8080/"
        },
        "id": "GTUZ-Y7A29PO",
        "outputId": "18730fc3-86a0-4ce1-98da-4cf700923ea0"
      },
      "outputs": [
        {
          "name": "stdout",
          "output_type": "stream",
          "text": [
            "+--------------+--------------------+--------+-------------+-----------+------------+----------+--------+---------+------+-----------+-----------+-----+---------------+-------------------+-----------------+----------------------------+-----------------------+---+---------------+\n",
            "|General_Health|             Checkup|Exercise|Heart_Disease|Skin_Cancer|Other_Cancer|Depression|Diabetes|Arthritis|   Sex|Height_(cm)|Weight_(kg)|  BMI|Smoking_History|Alcohol_Consumption|Fruit_Consumption|Green_Vegetables_Consumption|FriedPotato_Consumption|Age|Checkup_Encoded|\n",
            "+--------------+--------------------+--------+-------------+-----------+------------+----------+--------+---------+------+-----------+-----------+-----+---------------+-------------------+-----------------+----------------------------+-----------------------+---+---------------+\n",
            "|          Poor|Within the past 2...|      No|           No|         No|          No|        No|      No|      Yes|Female|        150|      32.66|14.54|            Yes|                  0|               30|                          16|                     12| 72|              3|\n",
            "|     Very Good|Within the past year|      No|          Yes|         No|          No|        No|     Yes|       No|Female|        165|      77.11|28.29|             No|                  0|               30|                           0|                      4| 72|              4|\n",
            "|     Very Good|Within the past year|     Yes|           No|         No|          No|        No|     Yes|       No|Female|        163|      88.45|33.47|             No|                  4|               12|                           3|                     16| 62|              4|\n",
            "|          Poor|Within the past year|     Yes|          Yes|         No|          No|        No|     Yes|       No|  Male|        180|      93.44|28.73|             No|                  0|               30|                          30|                      8| 77|              4|\n",
            "|          Good|Within the past year|      No|           No|         No|          No|        No|      No|       No|  Male|        191|      88.45|24.37|            Yes|                  0|                8|                           4|                      0| 80|              4|\n",
            "|          Good|Within the past year|      No|           No|         No|          No|       Yes|      No|      Yes|  Male|        183|     154.22|46.11|             No|                  0|               12|                          12|                     12| 62|              4|\n",
            "|          Fair|Within the past year|     Yes|          Yes|         No|          No|        No|      No|      Yes|  Male|        175|      69.85|22.74|            Yes|                  0|               16|                           8|                      0| 62|              4|\n",
            "|          Good|Within the past year|     Yes|           No|         No|          No|        No|      No|      Yes|Female|        165|     108.86|39.94|            Yes|                  3|               30|                           8|                      8| 67|              4|\n",
            "|          Fair|Within the past year|      No|           No|         No|          No|       Yes|      No|       No|Female|        163|      72.57|27.46|            Yes|                  0|               12|                          12|                      4| 67|              4|\n",
            "|          Fair|Within the past year|      No|           No|         No|          No|        No|     Yes|      Yes|Female|        163|      91.63|34.67|             No|                  0|               12|                          12|                      1| 72|              4|\n",
            "|          Fair|Within the past year|     Yes|          Yes|         No|          No|        No|      No|      Yes|Female|        160|      74.84|29.23|             No|                  0|               30|                          20|                      2| 77|              4|\n",
            "|          Fair|Within the past year|      No|          Yes|        Yes|          No|        No|     Yes|       No|  Male|        175|      73.48|23.92|             No|                  0|                2|                           8|                     30| 77|              4|\n",
            "|     Very Good|Within the past year|      No|           No|         No|          No|       Yes|      No|       No|Female|        168|      83.91|29.86|             No|                  8|                8|                           0|                      2| 52|              4|\n",
            "|          Fair|Within the past year|      No|           No|        Yes|          No|        No|      No|       No|  Male|        178|      113.4|35.87|            Yes|                  4|                2|                           3|                      4| 67|              4|\n",
            "|     Excellent|Within the past 2...|     Yes|           No|         No|          No|        No|      No|       No|Female|        152|      52.16|22.46|             No|                  0|               30|                           4|                      0| 72|              3|\n",
            "|          Fair|Within the past year|      No|           No|         No|          No|        No|     Yes|      Yes|Female|        163|     116.12|43.94|             No|                  0|                8|                           8|                      4| 72|              4|\n",
            "|          Good|Within the past year|      No|           No|         No|          No|        No|      No|       No|  Male|        183|      99.79|29.84|             No|                  0|                1|                           4|                     20| 80|              4|\n",
            "|     Very Good|Within the past year|     Yes|           No|         No|          No|        No|      No|      Yes|  Male|        168|      81.65|29.05|             No|                 30|               30|                          12|                      8| 80|              4|\n",
            "|          Fair|Within the past year|     Yes|           No|         No|          No|        No|     Yes|       No|  Male|        178|     104.33| 33.0|            Yes|                  2|               16|                          12|                      8| 47|              4|\n",
            "|          Good|Within the past year|      No|           No|        Yes|         Yes|        No|     Yes|      Yes|Female|        163|      79.38|30.04|             No|                  0|               12|                           8|                      4| 72|              4|\n",
            "+--------------+--------------------+--------+-------------+-----------+------------+----------+--------+---------+------+-----------+-----------+-----+---------------+-------------------+-----------------+----------------------------+-----------------------+---+---------------+\n",
            "only showing top 20 rows\n",
            "\n"
          ]
        }
      ],
      "source": [
        "df.show()"
      ]
    },
    {
      "cell_type": "code",
      "execution_count": null,
      "metadata": {
        "id": "73R1ebCr2_6y"
      },
      "outputs": [],
      "source": [
        "df=df.drop('Checkup')"
      ]
    },
    {
      "cell_type": "code",
      "execution_count": null,
      "metadata": {
        "colab": {
          "base_uri": "https://localhost:8080/"
        },
        "id": "iB91A_eJ3Yuy",
        "outputId": "dd34bc8d-5fa1-440f-918d-182e551642bb"
      },
      "outputs": [
        {
          "name": "stdout",
          "output_type": "stream",
          "text": [
            "+--------------+--------+-------------+-----------+------------+----------+--------+---------+------+-----------+-----------+-----+---------------+-------------------+-----------------+----------------------------+-----------------------+---+---------------+\n",
            "|General_Health|Exercise|Heart_Disease|Skin_Cancer|Other_Cancer|Depression|Diabetes|Arthritis|   Sex|Height_(cm)|Weight_(kg)|  BMI|Smoking_History|Alcohol_Consumption|Fruit_Consumption|Green_Vegetables_Consumption|FriedPotato_Consumption|Age|Checkup_Encoded|\n",
            "+--------------+--------+-------------+-----------+------------+----------+--------+---------+------+-----------+-----------+-----+---------------+-------------------+-----------------+----------------------------+-----------------------+---+---------------+\n",
            "|          Poor|      No|           No|         No|          No|        No|      No|      Yes|Female|        150|      32.66|14.54|            Yes|                  0|               30|                          16|                     12| 72|              3|\n",
            "|     Very Good|      No|          Yes|         No|          No|        No|     Yes|       No|Female|        165|      77.11|28.29|             No|                  0|               30|                           0|                      4| 72|              4|\n",
            "|     Very Good|     Yes|           No|         No|          No|        No|     Yes|       No|Female|        163|      88.45|33.47|             No|                  4|               12|                           3|                     16| 62|              4|\n",
            "|          Poor|     Yes|          Yes|         No|          No|        No|     Yes|       No|  Male|        180|      93.44|28.73|             No|                  0|               30|                          30|                      8| 77|              4|\n",
            "|          Good|      No|           No|         No|          No|        No|      No|       No|  Male|        191|      88.45|24.37|            Yes|                  0|                8|                           4|                      0| 80|              4|\n",
            "|          Good|      No|           No|         No|          No|       Yes|      No|      Yes|  Male|        183|     154.22|46.11|             No|                  0|               12|                          12|                     12| 62|              4|\n",
            "|          Fair|     Yes|          Yes|         No|          No|        No|      No|      Yes|  Male|        175|      69.85|22.74|            Yes|                  0|               16|                           8|                      0| 62|              4|\n",
            "|          Good|     Yes|           No|         No|          No|        No|      No|      Yes|Female|        165|     108.86|39.94|            Yes|                  3|               30|                           8|                      8| 67|              4|\n",
            "|          Fair|      No|           No|         No|          No|       Yes|      No|       No|Female|        163|      72.57|27.46|            Yes|                  0|               12|                          12|                      4| 67|              4|\n",
            "|          Fair|      No|           No|         No|          No|        No|     Yes|      Yes|Female|        163|      91.63|34.67|             No|                  0|               12|                          12|                      1| 72|              4|\n",
            "|          Fair|     Yes|          Yes|         No|          No|        No|      No|      Yes|Female|        160|      74.84|29.23|             No|                  0|               30|                          20|                      2| 77|              4|\n",
            "|          Fair|      No|          Yes|        Yes|          No|        No|     Yes|       No|  Male|        175|      73.48|23.92|             No|                  0|                2|                           8|                     30| 77|              4|\n",
            "|     Very Good|      No|           No|         No|          No|       Yes|      No|       No|Female|        168|      83.91|29.86|             No|                  8|                8|                           0|                      2| 52|              4|\n",
            "|          Fair|      No|           No|        Yes|          No|        No|      No|       No|  Male|        178|      113.4|35.87|            Yes|                  4|                2|                           3|                      4| 67|              4|\n",
            "|     Excellent|     Yes|           No|         No|          No|        No|      No|       No|Female|        152|      52.16|22.46|             No|                  0|               30|                           4|                      0| 72|              3|\n",
            "|          Fair|      No|           No|         No|          No|        No|     Yes|      Yes|Female|        163|     116.12|43.94|             No|                  0|                8|                           8|                      4| 72|              4|\n",
            "|          Good|      No|           No|         No|          No|        No|      No|       No|  Male|        183|      99.79|29.84|             No|                  0|                1|                           4|                     20| 80|              4|\n",
            "|     Very Good|     Yes|           No|         No|          No|        No|      No|      Yes|  Male|        168|      81.65|29.05|             No|                 30|               30|                          12|                      8| 80|              4|\n",
            "|          Fair|     Yes|           No|         No|          No|        No|     Yes|       No|  Male|        178|     104.33| 33.0|            Yes|                  2|               16|                          12|                      8| 47|              4|\n",
            "|          Good|      No|           No|        Yes|         Yes|        No|     Yes|      Yes|Female|        163|      79.38|30.04|             No|                  0|               12|                           8|                      4| 72|              4|\n",
            "+--------------+--------+-------------+-----------+------------+----------+--------+---------+------+-----------+-----------+-----+---------------+-------------------+-----------------+----------------------------+-----------------------+---+---------------+\n",
            "only showing top 20 rows\n",
            "\n"
          ]
        }
      ],
      "source": [
        "df.show()"
      ]
    },
    {
      "cell_type": "code",
      "execution_count": null,
      "metadata": {
        "colab": {
          "base_uri": "https://localhost:8080/"
        },
        "id": "UyuqVGtz3Z9Y",
        "outputId": "ef1d1d5b-44b5-42d3-d98e-93d3cd253c52"
      },
      "outputs": [
        {
          "name": "stdout",
          "output_type": "stream",
          "text": [
            "+--------------+\n",
            "|General_Health|\n",
            "+--------------+\n",
            "|     Excellent|\n",
            "|          Good|\n",
            "|          Fair|\n",
            "|     Very Good|\n",
            "|          Poor|\n",
            "+--------------+\n",
            "\n"
          ]
        }
      ],
      "source": [
        "df.select('General_Health').distinct().show()\n"
      ]
    },
    {
      "cell_type": "code",
      "execution_count": null,
      "metadata": {
        "colab": {
          "base_uri": "https://localhost:8080/"
        },
        "id": "8qsN85MM3ipz",
        "outputId": "df608881-9d8e-491a-84d0-254566ef8134"
      },
      "outputs": [
        {
          "name": "stdout",
          "output_type": "stream",
          "text": [
            "+--------------+----------------------+\n",
            "|General_Health|General_Health_Encoded|\n",
            "+--------------+----------------------+\n",
            "|          Poor|                     0|\n",
            "|     Very Good|                     3|\n",
            "|     Very Good|                     3|\n",
            "|          Poor|                     0|\n",
            "|          Good|                     2|\n",
            "|          Good|                     2|\n",
            "|          Fair|                     1|\n",
            "|          Good|                     2|\n",
            "|          Fair|                     1|\n",
            "|          Fair|                     1|\n",
            "+--------------+----------------------+\n",
            "only showing top 10 rows\n",
            "\n"
          ]
        }
      ],
      "source": [
        "\n",
        "df = df.withColumn(\n",
        "    \"General_Health_Encoded\",\n",
        "    when(col(\"General_Health\") == \"Poor\", 0)\n",
        "    .when(col(\"General_Health\") == \"Fair\", 1)\n",
        "    .when(col(\"General_Health\") == \"Good\", 2)\n",
        "    .when(col(\"General_Health\") == \"Very Good\", 3)\n",
        "    .when(col(\"General_Health\") == \"Excellent\", 4)\n",
        "    .otherwise(None) # Handle any unexpected values\n",
        ")\n",
        "\n",
        "df.select(\"General_Health\", \"General_Health_Encoded\").show(10)"
      ]
    },
    {
      "cell_type": "code",
      "execution_count": null,
      "metadata": {
        "id": "9gEDohY14Ct8"
      },
      "outputs": [],
      "source": [
        "df = df.drop('General_Health')"
      ]
    },
    {
      "cell_type": "code",
      "execution_count": null,
      "metadata": {
        "colab": {
          "base_uri": "https://localhost:8080/"
        },
        "id": "Ji2pDU2p4G72",
        "outputId": "0e46368c-7b60-4d09-e823-f3a4b13f12fc"
      },
      "outputs": [
        {
          "name": "stdout",
          "output_type": "stream",
          "text": [
            "+--------+-------------+-----------+------------+----------+--------+---------+------+-----------+-----------+-----+---------------+-------------------+-----------------+----------------------------+-----------------------+---+---------------+----------------------+\n",
            "|Exercise|Heart_Disease|Skin_Cancer|Other_Cancer|Depression|Diabetes|Arthritis|   Sex|Height_(cm)|Weight_(kg)|  BMI|Smoking_History|Alcohol_Consumption|Fruit_Consumption|Green_Vegetables_Consumption|FriedPotato_Consumption|Age|Checkup_Encoded|General_Health_Encoded|\n",
            "+--------+-------------+-----------+------------+----------+--------+---------+------+-----------+-----------+-----+---------------+-------------------+-----------------+----------------------------+-----------------------+---+---------------+----------------------+\n",
            "|      No|           No|         No|          No|        No|      No|      Yes|Female|        150|      32.66|14.54|            Yes|                  0|               30|                          16|                     12| 72|              3|                     0|\n",
            "|      No|          Yes|         No|          No|        No|     Yes|       No|Female|        165|      77.11|28.29|             No|                  0|               30|                           0|                      4| 72|              4|                     3|\n",
            "|     Yes|           No|         No|          No|        No|     Yes|       No|Female|        163|      88.45|33.47|             No|                  4|               12|                           3|                     16| 62|              4|                     3|\n",
            "|     Yes|          Yes|         No|          No|        No|     Yes|       No|  Male|        180|      93.44|28.73|             No|                  0|               30|                          30|                      8| 77|              4|                     0|\n",
            "|      No|           No|         No|          No|        No|      No|       No|  Male|        191|      88.45|24.37|            Yes|                  0|                8|                           4|                      0| 80|              4|                     2|\n",
            "|      No|           No|         No|          No|       Yes|      No|      Yes|  Male|        183|     154.22|46.11|             No|                  0|               12|                          12|                     12| 62|              4|                     2|\n",
            "|     Yes|          Yes|         No|          No|        No|      No|      Yes|  Male|        175|      69.85|22.74|            Yes|                  0|               16|                           8|                      0| 62|              4|                     1|\n",
            "|     Yes|           No|         No|          No|        No|      No|      Yes|Female|        165|     108.86|39.94|            Yes|                  3|               30|                           8|                      8| 67|              4|                     2|\n",
            "|      No|           No|         No|          No|       Yes|      No|       No|Female|        163|      72.57|27.46|            Yes|                  0|               12|                          12|                      4| 67|              4|                     1|\n",
            "|      No|           No|         No|          No|        No|     Yes|      Yes|Female|        163|      91.63|34.67|             No|                  0|               12|                          12|                      1| 72|              4|                     1|\n",
            "|     Yes|          Yes|         No|          No|        No|      No|      Yes|Female|        160|      74.84|29.23|             No|                  0|               30|                          20|                      2| 77|              4|                     1|\n",
            "|      No|          Yes|        Yes|          No|        No|     Yes|       No|  Male|        175|      73.48|23.92|             No|                  0|                2|                           8|                     30| 77|              4|                     1|\n",
            "|      No|           No|         No|          No|       Yes|      No|       No|Female|        168|      83.91|29.86|             No|                  8|                8|                           0|                      2| 52|              4|                     3|\n",
            "|      No|           No|        Yes|          No|        No|      No|       No|  Male|        178|      113.4|35.87|            Yes|                  4|                2|                           3|                      4| 67|              4|                     1|\n",
            "|     Yes|           No|         No|          No|        No|      No|       No|Female|        152|      52.16|22.46|             No|                  0|               30|                           4|                      0| 72|              3|                     4|\n",
            "|      No|           No|         No|          No|        No|     Yes|      Yes|Female|        163|     116.12|43.94|             No|                  0|                8|                           8|                      4| 72|              4|                     1|\n",
            "|      No|           No|         No|          No|        No|      No|       No|  Male|        183|      99.79|29.84|             No|                  0|                1|                           4|                     20| 80|              4|                     2|\n",
            "|     Yes|           No|         No|          No|        No|      No|      Yes|  Male|        168|      81.65|29.05|             No|                 30|               30|                          12|                      8| 80|              4|                     3|\n",
            "|     Yes|           No|         No|          No|        No|     Yes|       No|  Male|        178|     104.33| 33.0|            Yes|                  2|               16|                          12|                      8| 47|              4|                     1|\n",
            "|      No|           No|        Yes|         Yes|        No|     Yes|      Yes|Female|        163|      79.38|30.04|             No|                  0|               12|                           8|                      4| 72|              4|                     2|\n",
            "+--------+-------------+-----------+------------+----------+--------+---------+------+-----------+-----------+-----+---------------+-------------------+-----------------+----------------------------+-----------------------+---+---------------+----------------------+\n",
            "only showing top 20 rows\n",
            "\n"
          ]
        }
      ],
      "source": [
        "df.show()"
      ]
    },
    {
      "cell_type": "markdown",
      "metadata": {
        "id": "77d57e01"
      },
      "source": [
        "## Label Encode Binary Columns\n",
        "\n"
      ]
    },
    {
      "cell_type": "code",
      "execution_count": null,
      "metadata": {
        "colab": {
          "base_uri": "https://localhost:8080/"
        },
        "id": "7816b94c",
        "outputId": "61f4873c-4243-4942-c234-3fdd748ca8d3"
      },
      "outputs": [
        {
          "name": "stdout",
          "output_type": "stream",
          "text": [
            "+--------+-------------+-----------+------------+----------+---------+--------+---------------+----------------+---------------------+-------------------+--------------------+------------------+-----------------+----------------+-----------------------+\n",
            "|Exercise|Heart_Disease|Skin_Cancer|Other_Cancer|Depression|Arthritis|Diabetes|Smoking_History|Exercise_Encoded|Heart_Disease_Encoded|Skin_Cancer_Encoded|Other_Cancer_Encoded|Depression_Encoded|Arthritis_Encoded|Diabetes_Encoded|Smoking_History_Encoded|\n",
            "+--------+-------------+-----------+------------+----------+---------+--------+---------------+----------------+---------------------+-------------------+--------------------+------------------+-----------------+----------------+-----------------------+\n",
            "|      No|           No|         No|          No|        No|      Yes|      No|            Yes|               0|                    0|                  0|                   0|                 0|                1|               0|                      1|\n",
            "|      No|          Yes|         No|          No|        No|       No|     Yes|             No|               0|                    1|                  0|                   0|                 0|                0|               1|                      0|\n",
            "|     Yes|           No|         No|          No|        No|       No|     Yes|             No|               1|                    0|                  0|                   0|                 0|                0|               1|                      0|\n",
            "|     Yes|          Yes|         No|          No|        No|       No|     Yes|             No|               1|                    1|                  0|                   0|                 0|                0|               1|                      0|\n",
            "|      No|           No|         No|          No|        No|       No|      No|            Yes|               0|                    0|                  0|                   0|                 0|                0|               0|                      1|\n",
            "|      No|           No|         No|          No|       Yes|      Yes|      No|             No|               0|                    0|                  0|                   0|                 1|                1|               0|                      0|\n",
            "|     Yes|          Yes|         No|          No|        No|      Yes|      No|            Yes|               1|                    1|                  0|                   0|                 0|                1|               0|                      1|\n",
            "|     Yes|           No|         No|          No|        No|      Yes|      No|            Yes|               1|                    0|                  0|                   0|                 0|                1|               0|                      1|\n",
            "|      No|           No|         No|          No|       Yes|       No|      No|            Yes|               0|                    0|                  0|                   0|                 1|                0|               0|                      1|\n",
            "|      No|           No|         No|          No|        No|      Yes|     Yes|             No|               0|                    0|                  0|                   0|                 0|                1|               1|                      0|\n",
            "+--------+-------------+-----------+------------+----------+---------+--------+---------------+----------------+---------------------+-------------------+--------------------+------------------+-----------------+----------------+-----------------------+\n",
            "only showing top 10 rows\n",
            "\n"
          ]
        }
      ],
      "source": [
        "from pyspark.sql.functions import col, when\n",
        "\n",
        "binary_columns = [\n",
        "    \"Exercise\",\n",
        "    \"Heart_Disease\",\n",
        "    \"Skin_Cancer\",\n",
        "    \"Other_Cancer\",\n",
        "    \"Depression\",\n",
        "    \"Arthritis\",\n",
        "    \"Diabetes\",\n",
        "    \"Smoking_History\"\n",
        "]\n",
        "\n",
        "for column in binary_columns:\n",
        "    df = df.withColumn(\n",
        "        f\"{column}_Encoded\",\n",
        "        when(col(column) == \"Yes\", 1)\n",
        "        .when(col(column) == \"No\", 0)\n",
        "        .otherwise(None)  # Handle any unexpected values\n",
        "    )\n",
        "\n",
        "# Show the original and encoded columns for verification\n",
        "df.select(\n",
        "    *binary_columns,\n",
        "    *[f\"{column}_Encoded\" for column in binary_columns]\n",
        ").show(10)"
      ]
    },
    {
      "cell_type": "code",
      "execution_count": null,
      "metadata": {
        "colab": {
          "base_uri": "https://localhost:8080/"
        },
        "id": "GT3fQ4vI46Pg",
        "outputId": "a731894d-387d-4179-eaee-9f5b01f5011b"
      },
      "outputs": [
        {
          "name": "stdout",
          "output_type": "stream",
          "text": [
            "+--------+-------------+-----------+------------+----------+--------+---------+------+-----------+-----------+-----+---------------+-------------------+-----------------+----------------------------+-----------------------+---+---------------+----------------------+----------------+---------------------+-------------------+--------------------+------------------+-----------------+----------------+-----------------------+\n",
            "|Exercise|Heart_Disease|Skin_Cancer|Other_Cancer|Depression|Diabetes|Arthritis|   Sex|Height_(cm)|Weight_(kg)|  BMI|Smoking_History|Alcohol_Consumption|Fruit_Consumption|Green_Vegetables_Consumption|FriedPotato_Consumption|Age|Checkup_Encoded|General_Health_Encoded|Exercise_Encoded|Heart_Disease_Encoded|Skin_Cancer_Encoded|Other_Cancer_Encoded|Depression_Encoded|Arthritis_Encoded|Diabetes_Encoded|Smoking_History_Encoded|\n",
            "+--------+-------------+-----------+------------+----------+--------+---------+------+-----------+-----------+-----+---------------+-------------------+-----------------+----------------------------+-----------------------+---+---------------+----------------------+----------------+---------------------+-------------------+--------------------+------------------+-----------------+----------------+-----------------------+\n",
            "|      No|           No|         No|          No|        No|      No|      Yes|Female|        150|      32.66|14.54|            Yes|                  0|               30|                          16|                     12| 72|              3|                     0|               0|                    0|                  0|                   0|                 0|                1|               0|                      1|\n",
            "|      No|          Yes|         No|          No|        No|     Yes|       No|Female|        165|      77.11|28.29|             No|                  0|               30|                           0|                      4| 72|              4|                     3|               0|                    1|                  0|                   0|                 0|                0|               1|                      0|\n",
            "|     Yes|           No|         No|          No|        No|     Yes|       No|Female|        163|      88.45|33.47|             No|                  4|               12|                           3|                     16| 62|              4|                     3|               1|                    0|                  0|                   0|                 0|                0|               1|                      0|\n",
            "|     Yes|          Yes|         No|          No|        No|     Yes|       No|  Male|        180|      93.44|28.73|             No|                  0|               30|                          30|                      8| 77|              4|                     0|               1|                    1|                  0|                   0|                 0|                0|               1|                      0|\n",
            "|      No|           No|         No|          No|        No|      No|       No|  Male|        191|      88.45|24.37|            Yes|                  0|                8|                           4|                      0| 80|              4|                     2|               0|                    0|                  0|                   0|                 0|                0|               0|                      1|\n",
            "|      No|           No|         No|          No|       Yes|      No|      Yes|  Male|        183|     154.22|46.11|             No|                  0|               12|                          12|                     12| 62|              4|                     2|               0|                    0|                  0|                   0|                 1|                1|               0|                      0|\n",
            "|     Yes|          Yes|         No|          No|        No|      No|      Yes|  Male|        175|      69.85|22.74|            Yes|                  0|               16|                           8|                      0| 62|              4|                     1|               1|                    1|                  0|                   0|                 0|                1|               0|                      1|\n",
            "|     Yes|           No|         No|          No|        No|      No|      Yes|Female|        165|     108.86|39.94|            Yes|                  3|               30|                           8|                      8| 67|              4|                     2|               1|                    0|                  0|                   0|                 0|                1|               0|                      1|\n",
            "|      No|           No|         No|          No|       Yes|      No|       No|Female|        163|      72.57|27.46|            Yes|                  0|               12|                          12|                      4| 67|              4|                     1|               0|                    0|                  0|                   0|                 1|                0|               0|                      1|\n",
            "|      No|           No|         No|          No|        No|     Yes|      Yes|Female|        163|      91.63|34.67|             No|                  0|               12|                          12|                      1| 72|              4|                     1|               0|                    0|                  0|                   0|                 0|                1|               1|                      0|\n",
            "|     Yes|          Yes|         No|          No|        No|      No|      Yes|Female|        160|      74.84|29.23|             No|                  0|               30|                          20|                      2| 77|              4|                     1|               1|                    1|                  0|                   0|                 0|                1|               0|                      0|\n",
            "|      No|          Yes|        Yes|          No|        No|     Yes|       No|  Male|        175|      73.48|23.92|             No|                  0|                2|                           8|                     30| 77|              4|                     1|               0|                    1|                  1|                   0|                 0|                0|               1|                      0|\n",
            "|      No|           No|         No|          No|       Yes|      No|       No|Female|        168|      83.91|29.86|             No|                  8|                8|                           0|                      2| 52|              4|                     3|               0|                    0|                  0|                   0|                 1|                0|               0|                      0|\n",
            "|      No|           No|        Yes|          No|        No|      No|       No|  Male|        178|      113.4|35.87|            Yes|                  4|                2|                           3|                      4| 67|              4|                     1|               0|                    0|                  1|                   0|                 0|                0|               0|                      1|\n",
            "|     Yes|           No|         No|          No|        No|      No|       No|Female|        152|      52.16|22.46|             No|                  0|               30|                           4|                      0| 72|              3|                     4|               1|                    0|                  0|                   0|                 0|                0|               0|                      0|\n",
            "|      No|           No|         No|          No|        No|     Yes|      Yes|Female|        163|     116.12|43.94|             No|                  0|                8|                           8|                      4| 72|              4|                     1|               0|                    0|                  0|                   0|                 0|                1|               1|                      0|\n",
            "|      No|           No|         No|          No|        No|      No|       No|  Male|        183|      99.79|29.84|             No|                  0|                1|                           4|                     20| 80|              4|                     2|               0|                    0|                  0|                   0|                 0|                0|               0|                      0|\n",
            "|     Yes|           No|         No|          No|        No|      No|      Yes|  Male|        168|      81.65|29.05|             No|                 30|               30|                          12|                      8| 80|              4|                     3|               1|                    0|                  0|                   0|                 0|                1|               0|                      0|\n",
            "|     Yes|           No|         No|          No|        No|     Yes|       No|  Male|        178|     104.33| 33.0|            Yes|                  2|               16|                          12|                      8| 47|              4|                     1|               1|                    0|                  0|                   0|                 0|                0|               1|                      1|\n",
            "|      No|           No|        Yes|         Yes|        No|     Yes|      Yes|Female|        163|      79.38|30.04|             No|                  0|               12|                           8|                      4| 72|              4|                     2|               0|                    0|                  1|                   1|                 0|                1|               1|                      0|\n",
            "+--------+-------------+-----------+------------+----------+--------+---------+------+-----------+-----------+-----+---------------+-------------------+-----------------+----------------------------+-----------------------+---+---------------+----------------------+----------------+---------------------+-------------------+--------------------+------------------+-----------------+----------------+-----------------------+\n",
            "only showing top 20 rows\n",
            "\n"
          ]
        }
      ],
      "source": [
        "df.show()"
      ]
    },
    {
      "cell_type": "markdown",
      "metadata": {
        "id": "ed934306"
      },
      "source": [
        "## Drop Original Binary Columns\n",
        "\n"
      ]
    },
    {
      "cell_type": "code",
      "execution_count": null,
      "metadata": {
        "colab": {
          "base_uri": "https://localhost:8080/"
        },
        "id": "ac4f590d",
        "outputId": "044503f0-a3bd-4177-a00f-36d00f9a88fd"
      },
      "outputs": [
        {
          "name": "stdout",
          "output_type": "stream",
          "text": [
            "root\n",
            " |-- Sex: string (nullable = true)\n",
            " |-- Height_(cm): integer (nullable = true)\n",
            " |-- Weight_(kg): double (nullable = true)\n",
            " |-- BMI: double (nullable = true)\n",
            " |-- Alcohol_Consumption: integer (nullable = true)\n",
            " |-- Fruit_Consumption: integer (nullable = true)\n",
            " |-- Green_Vegetables_Consumption: integer (nullable = true)\n",
            " |-- FriedPotato_Consumption: integer (nullable = true)\n",
            " |-- Age: integer (nullable = true)\n",
            " |-- Checkup_Encoded: integer (nullable = true)\n",
            " |-- General_Health_Encoded: integer (nullable = true)\n",
            " |-- Exercise_Encoded: integer (nullable = true)\n",
            " |-- Heart_Disease_Encoded: integer (nullable = true)\n",
            " |-- Skin_Cancer_Encoded: integer (nullable = true)\n",
            " |-- Other_Cancer_Encoded: integer (nullable = true)\n",
            " |-- Depression_Encoded: integer (nullable = true)\n",
            " |-- Arthritis_Encoded: integer (nullable = true)\n",
            " |-- Diabetes_Encoded: integer (nullable = true)\n",
            " |-- Smoking_History_Encoded: integer (nullable = true)\n",
            "\n"
          ]
        }
      ],
      "source": [
        "# Original binary columns to drop\n",
        "original_binary_columns = [\n",
        "    \"Exercise\",\n",
        "    \"Heart_Disease\",\n",
        "    \"Skin_Cancer\",\n",
        "    \"Other_Cancer\",\n",
        "    \"Depression\",\n",
        "    \"Arthritis\",\n",
        "    \"Diabetes\",\n",
        "    \"Smoking_History\"\n",
        "]\n",
        "\n",
        "df = df.drop(*original_binary_columns)\n",
        "df.printSchema()"
      ]
    },
    {
      "cell_type": "code",
      "execution_count": null,
      "metadata": {
        "colab": {
          "base_uri": "https://localhost:8080/"
        },
        "id": "QnRREkDJ5MSX",
        "outputId": "4adcc324-e356-4cfb-a6df-a762ffccc94a"
      },
      "outputs": [
        {
          "name": "stdout",
          "output_type": "stream",
          "text": [
            "+------+-----------+-----------+-----+-------------------+-----------------+----------------------------+-----------------------+---+---------------+----------------------+----------------+---------------------+-------------------+--------------------+------------------+-----------------+----------------+-----------------------+\n",
            "|   Sex|Height_(cm)|Weight_(kg)|  BMI|Alcohol_Consumption|Fruit_Consumption|Green_Vegetables_Consumption|FriedPotato_Consumption|Age|Checkup_Encoded|General_Health_Encoded|Exercise_Encoded|Heart_Disease_Encoded|Skin_Cancer_Encoded|Other_Cancer_Encoded|Depression_Encoded|Arthritis_Encoded|Diabetes_Encoded|Smoking_History_Encoded|\n",
            "+------+-----------+-----------+-----+-------------------+-----------------+----------------------------+-----------------------+---+---------------+----------------------+----------------+---------------------+-------------------+--------------------+------------------+-----------------+----------------+-----------------------+\n",
            "|Female|        150|      32.66|14.54|                  0|               30|                          16|                     12| 72|              3|                     0|               0|                    0|                  0|                   0|                 0|                1|               0|                      1|\n",
            "|Female|        165|      77.11|28.29|                  0|               30|                           0|                      4| 72|              4|                     3|               0|                    1|                  0|                   0|                 0|                0|               1|                      0|\n",
            "|Female|        163|      88.45|33.47|                  4|               12|                           3|                     16| 62|              4|                     3|               1|                    0|                  0|                   0|                 0|                0|               1|                      0|\n",
            "|  Male|        180|      93.44|28.73|                  0|               30|                          30|                      8| 77|              4|                     0|               1|                    1|                  0|                   0|                 0|                0|               1|                      0|\n",
            "|  Male|        191|      88.45|24.37|                  0|                8|                           4|                      0| 80|              4|                     2|               0|                    0|                  0|                   0|                 0|                0|               0|                      1|\n",
            "|  Male|        183|     154.22|46.11|                  0|               12|                          12|                     12| 62|              4|                     2|               0|                    0|                  0|                   0|                 1|                1|               0|                      0|\n",
            "|  Male|        175|      69.85|22.74|                  0|               16|                           8|                      0| 62|              4|                     1|               1|                    1|                  0|                   0|                 0|                1|               0|                      1|\n",
            "|Female|        165|     108.86|39.94|                  3|               30|                           8|                      8| 67|              4|                     2|               1|                    0|                  0|                   0|                 0|                1|               0|                      1|\n",
            "|Female|        163|      72.57|27.46|                  0|               12|                          12|                      4| 67|              4|                     1|               0|                    0|                  0|                   0|                 1|                0|               0|                      1|\n",
            "|Female|        163|      91.63|34.67|                  0|               12|                          12|                      1| 72|              4|                     1|               0|                    0|                  0|                   0|                 0|                1|               1|                      0|\n",
            "|Female|        160|      74.84|29.23|                  0|               30|                          20|                      2| 77|              4|                     1|               1|                    1|                  0|                   0|                 0|                1|               0|                      0|\n",
            "|  Male|        175|      73.48|23.92|                  0|                2|                           8|                     30| 77|              4|                     1|               0|                    1|                  1|                   0|                 0|                0|               1|                      0|\n",
            "|Female|        168|      83.91|29.86|                  8|                8|                           0|                      2| 52|              4|                     3|               0|                    0|                  0|                   0|                 1|                0|               0|                      0|\n",
            "|  Male|        178|      113.4|35.87|                  4|                2|                           3|                      4| 67|              4|                     1|               0|                    0|                  1|                   0|                 0|                0|               0|                      1|\n",
            "|Female|        152|      52.16|22.46|                  0|               30|                           4|                      0| 72|              3|                     4|               1|                    0|                  0|                   0|                 0|                0|               0|                      0|\n",
            "|Female|        163|     116.12|43.94|                  0|                8|                           8|                      4| 72|              4|                     1|               0|                    0|                  0|                   0|                 0|                1|               1|                      0|\n",
            "|  Male|        183|      99.79|29.84|                  0|                1|                           4|                     20| 80|              4|                     2|               0|                    0|                  0|                   0|                 0|                0|               0|                      0|\n",
            "|  Male|        168|      81.65|29.05|                 30|               30|                          12|                      8| 80|              4|                     3|               1|                    0|                  0|                   0|                 0|                1|               0|                      0|\n",
            "|  Male|        178|     104.33| 33.0|                  2|               16|                          12|                      8| 47|              4|                     1|               1|                    0|                  0|                   0|                 0|                0|               1|                      1|\n",
            "|Female|        163|      79.38|30.04|                  0|               12|                           8|                      4| 72|              4|                     2|               0|                    0|                  1|                   1|                 0|                1|               1|                      0|\n",
            "+------+-----------+-----------+-----+-------------------+-----------------+----------------------------+-----------------------+---+---------------+----------------------+----------------+---------------------+-------------------+--------------------+------------------+-----------------+----------------+-----------------------+\n",
            "only showing top 20 rows\n",
            "\n"
          ]
        }
      ],
      "source": [
        "df.show()"
      ]
    },
    {
      "cell_type": "markdown",
      "metadata": {
        "id": "gMHrNCOzxu2J"
      },
      "source": [
        "## One Hot Encoding\n",
        "-- Gender Column"
      ]
    },
    {
      "cell_type": "code",
      "execution_count": null,
      "metadata": {
        "colab": {
          "base_uri": "https://localhost:8080/"
        },
        "id": "1b5d90e8",
        "outputId": "7d8225ff-9f0b-49eb-fb71-de4c74247fb3"
      },
      "outputs": [
        {
          "name": "stdout",
          "output_type": "stream",
          "text": [
            "+------+------+----+\n",
            "|   Sex|Female|Male|\n",
            "+------+------+----+\n",
            "|Female|     1|   0|\n",
            "|Female|     1|   0|\n",
            "|Female|     1|   0|\n",
            "|  Male|     0|   1|\n",
            "|  Male|     0|   1|\n",
            "|  Male|     0|   1|\n",
            "|  Male|     0|   1|\n",
            "|Female|     1|   0|\n",
            "|Female|     1|   0|\n",
            "|Female|     1|   0|\n",
            "+------+------+----+\n",
            "only showing top 10 rows\n",
            "\n"
          ]
        }
      ],
      "source": [
        "# Create 'Male' and 'Female' columns based on the original 'Sex' column\n",
        "df = df.withColumn(\"Female\", when(col(\"Sex\") == \"Female\", 1).otherwise(0))\n",
        "df = df.withColumn(\"Male\", when(col(\"Sex\") == \"Male\", 1).otherwise(0))\n",
        "\n",
        "\n",
        "# Show the original and new Male and Female columns\n",
        "df.select(\"Sex\", \"Female\", \"Male\").show(10)"
      ]
    },
    {
      "cell_type": "code",
      "execution_count": null,
      "metadata": {
        "colab": {
          "base_uri": "https://localhost:8080/"
        },
        "id": "5096ae1e",
        "outputId": "0cee2e97-8796-4708-a38f-f3a6bc420436"
      },
      "outputs": [
        {
          "name": "stdout",
          "output_type": "stream",
          "text": [
            "root\n",
            " |-- Height_(cm): integer (nullable = true)\n",
            " |-- Weight_(kg): double (nullable = true)\n",
            " |-- BMI: double (nullable = true)\n",
            " |-- Alcohol_Consumption: integer (nullable = true)\n",
            " |-- Fruit_Consumption: integer (nullable = true)\n",
            " |-- Green_Vegetables_Consumption: integer (nullable = true)\n",
            " |-- FriedPotato_Consumption: integer (nullable = true)\n",
            " |-- Age: integer (nullable = true)\n",
            " |-- Checkup_Encoded: integer (nullable = true)\n",
            " |-- General_Health_Encoded: integer (nullable = true)\n",
            " |-- Exercise_Encoded: integer (nullable = true)\n",
            " |-- Heart_Disease_Encoded: integer (nullable = true)\n",
            " |-- Skin_Cancer_Encoded: integer (nullable = true)\n",
            " |-- Other_Cancer_Encoded: integer (nullable = true)\n",
            " |-- Depression_Encoded: integer (nullable = true)\n",
            " |-- Arthritis_Encoded: integer (nullable = true)\n",
            " |-- Diabetes_Encoded: integer (nullable = true)\n",
            " |-- Smoking_History_Encoded: integer (nullable = true)\n",
            " |-- Female: integer (nullable = false)\n",
            " |-- Male: integer (nullable = false)\n",
            "\n"
          ]
        }
      ],
      "source": [
        "df = df.drop('Sex')\n",
        "df.printSchema()"
      ]
    },
    {
      "cell_type": "code",
      "execution_count": null,
      "metadata": {
        "colab": {
          "base_uri": "https://localhost:8080/"
        },
        "id": "cO1_hA8e50Lp",
        "outputId": "a2aacff1-677c-4661-8b82-fbf50b941e3a"
      },
      "outputs": [
        {
          "name": "stdout",
          "output_type": "stream",
          "text": [
            "+-----------+-----------+-----+-------------------+-----------------+----------------------------+-----------------------+---+---------------+----------------------+----------------+---------------------+-------------------+--------------------+------------------+-----------------+----------------+-----------------------+------+----+\n",
            "|Height_(cm)|Weight_(kg)|  BMI|Alcohol_Consumption|Fruit_Consumption|Green_Vegetables_Consumption|FriedPotato_Consumption|Age|Checkup_Encoded|General_Health_Encoded|Exercise_Encoded|Heart_Disease_Encoded|Skin_Cancer_Encoded|Other_Cancer_Encoded|Depression_Encoded|Arthritis_Encoded|Diabetes_Encoded|Smoking_History_Encoded|Female|Male|\n",
            "+-----------+-----------+-----+-------------------+-----------------+----------------------------+-----------------------+---+---------------+----------------------+----------------+---------------------+-------------------+--------------------+------------------+-----------------+----------------+-----------------------+------+----+\n",
            "|        150|      32.66|14.54|                  0|               30|                          16|                     12| 72|              3|                     0|               0|                    0|                  0|                   0|                 0|                1|               0|                      1|     1|   0|\n",
            "|        165|      77.11|28.29|                  0|               30|                           0|                      4| 72|              4|                     3|               0|                    1|                  0|                   0|                 0|                0|               1|                      0|     1|   0|\n",
            "|        163|      88.45|33.47|                  4|               12|                           3|                     16| 62|              4|                     3|               1|                    0|                  0|                   0|                 0|                0|               1|                      0|     1|   0|\n",
            "|        180|      93.44|28.73|                  0|               30|                          30|                      8| 77|              4|                     0|               1|                    1|                  0|                   0|                 0|                0|               1|                      0|     0|   1|\n",
            "|        191|      88.45|24.37|                  0|                8|                           4|                      0| 80|              4|                     2|               0|                    0|                  0|                   0|                 0|                0|               0|                      1|     0|   1|\n",
            "|        183|     154.22|46.11|                  0|               12|                          12|                     12| 62|              4|                     2|               0|                    0|                  0|                   0|                 1|                1|               0|                      0|     0|   1|\n",
            "|        175|      69.85|22.74|                  0|               16|                           8|                      0| 62|              4|                     1|               1|                    1|                  0|                   0|                 0|                1|               0|                      1|     0|   1|\n",
            "|        165|     108.86|39.94|                  3|               30|                           8|                      8| 67|              4|                     2|               1|                    0|                  0|                   0|                 0|                1|               0|                      1|     1|   0|\n",
            "|        163|      72.57|27.46|                  0|               12|                          12|                      4| 67|              4|                     1|               0|                    0|                  0|                   0|                 1|                0|               0|                      1|     1|   0|\n",
            "|        163|      91.63|34.67|                  0|               12|                          12|                      1| 72|              4|                     1|               0|                    0|                  0|                   0|                 0|                1|               1|                      0|     1|   0|\n",
            "|        160|      74.84|29.23|                  0|               30|                          20|                      2| 77|              4|                     1|               1|                    1|                  0|                   0|                 0|                1|               0|                      0|     1|   0|\n",
            "|        175|      73.48|23.92|                  0|                2|                           8|                     30| 77|              4|                     1|               0|                    1|                  1|                   0|                 0|                0|               1|                      0|     0|   1|\n",
            "|        168|      83.91|29.86|                  8|                8|                           0|                      2| 52|              4|                     3|               0|                    0|                  0|                   0|                 1|                0|               0|                      0|     1|   0|\n",
            "|        178|      113.4|35.87|                  4|                2|                           3|                      4| 67|              4|                     1|               0|                    0|                  1|                   0|                 0|                0|               0|                      1|     0|   1|\n",
            "|        152|      52.16|22.46|                  0|               30|                           4|                      0| 72|              3|                     4|               1|                    0|                  0|                   0|                 0|                0|               0|                      0|     1|   0|\n",
            "|        163|     116.12|43.94|                  0|                8|                           8|                      4| 72|              4|                     1|               0|                    0|                  0|                   0|                 0|                1|               1|                      0|     1|   0|\n",
            "|        183|      99.79|29.84|                  0|                1|                           4|                     20| 80|              4|                     2|               0|                    0|                  0|                   0|                 0|                0|               0|                      0|     0|   1|\n",
            "|        168|      81.65|29.05|                 30|               30|                          12|                      8| 80|              4|                     3|               1|                    0|                  0|                   0|                 0|                1|               0|                      0|     0|   1|\n",
            "|        178|     104.33| 33.0|                  2|               16|                          12|                      8| 47|              4|                     1|               1|                    0|                  0|                   0|                 0|                0|               1|                      1|     0|   1|\n",
            "|        163|      79.38|30.04|                  0|               12|                           8|                      4| 72|              4|                     2|               0|                    0|                  1|                   1|                 0|                1|               1|                      0|     1|   0|\n",
            "+-----------+-----------+-----+-------------------+-----------------+----------------------------+-----------------------+---+---------------+----------------------+----------------+---------------------+-------------------+--------------------+------------------+-----------------+----------------+-----------------------+------+----+\n",
            "only showing top 20 rows\n",
            "\n"
          ]
        }
      ],
      "source": [
        "df.show()"
      ]
    },
    {
      "cell_type": "code",
      "execution_count": null,
      "metadata": {
        "colab": {
          "base_uri": "https://localhost:8080/"
        },
        "id": "oYUnDerk6kgb",
        "outputId": "33ab10f9-087e-4556-93aa-066d2850e970"
      },
      "outputs": [
        {
          "name": "stdout",
          "output_type": "stream",
          "text": [
            "+-----------+-----------+-----+-------------------+-----------------+----------------------------+-----------------------+---+---------------+----------------------+----------------+---------------------+-------------------+--------------------+------------------+-----------------+----------------+-----------------------+------+----+\n",
            "|Height_(cm)|Weight_(kg)|  BMI|Alcohol_Consumption|Fruit_Consumption|Green_Vegetables_Consumption|FriedPotato_Consumption|Age|Checkup_Encoded|General_Health_Encoded|Exercise_Encoded|Heart_Disease_Encoded|Skin_Cancer_Encoded|Other_Cancer_Encoded|Depression_Encoded|Arthritis_Encoded|Diabetes_Encoded|Smoking_History_Encoded|Female|Male|\n",
            "+-----------+-----------+-----+-------------------+-----------------+----------------------------+-----------------------+---+---------------+----------------------+----------------+---------------------+-------------------+--------------------+------------------+-----------------+----------------+-----------------------+------+----+\n",
            "|        150|      32.66|14.54|                  0|               30|                          16|                     12| 72|              3|                     0|               0|                    0|                  0|                   0|                 0|                1|               0|                      1|     1|   0|\n",
            "|        165|      77.11|28.29|                  0|               30|                           0|                      4| 72|              4|                     3|               0|                    1|                  0|                   0|                 0|                0|               1|                      0|     1|   0|\n",
            "|        163|      88.45|33.47|                  4|               12|                           3|                     16| 62|              4|                     3|               1|                    0|                  0|                   0|                 0|                0|               1|                      0|     1|   0|\n",
            "|        180|      93.44|28.73|                  0|               30|                          30|                      8| 77|              4|                     0|               1|                    1|                  0|                   0|                 0|                0|               1|                      0|     0|   1|\n",
            "|        191|      88.45|24.37|                  0|                8|                           4|                      0| 80|              4|                     2|               0|                    0|                  0|                   0|                 0|                0|               0|                      1|     0|   1|\n",
            "|        183|     154.22|46.11|                  0|               12|                          12|                     12| 62|              4|                     2|               0|                    0|                  0|                   0|                 1|                1|               0|                      0|     0|   1|\n",
            "|        175|      69.85|22.74|                  0|               16|                           8|                      0| 62|              4|                     1|               1|                    1|                  0|                   0|                 0|                1|               0|                      1|     0|   1|\n",
            "|        165|     108.86|39.94|                  3|               30|                           8|                      8| 67|              4|                     2|               1|                    0|                  0|                   0|                 0|                1|               0|                      1|     1|   0|\n",
            "|        163|      72.57|27.46|                  0|               12|                          12|                      4| 67|              4|                     1|               0|                    0|                  0|                   0|                 1|                0|               0|                      1|     1|   0|\n",
            "|        163|      91.63|34.67|                  0|               12|                          12|                      1| 72|              4|                     1|               0|                    0|                  0|                   0|                 0|                1|               1|                      0|     1|   0|\n",
            "|        160|      74.84|29.23|                  0|               30|                          20|                      2| 77|              4|                     1|               1|                    1|                  0|                   0|                 0|                1|               0|                      0|     1|   0|\n",
            "|        175|      73.48|23.92|                  0|                2|                           8|                     30| 77|              4|                     1|               0|                    1|                  1|                   0|                 0|                0|               1|                      0|     0|   1|\n",
            "|        168|      83.91|29.86|                  8|                8|                           0|                      2| 52|              4|                     3|               0|                    0|                  0|                   0|                 1|                0|               0|                      0|     1|   0|\n",
            "|        178|      113.4|35.87|                  4|                2|                           3|                      4| 67|              4|                     1|               0|                    0|                  1|                   0|                 0|                0|               0|                      1|     0|   1|\n",
            "|        152|      52.16|22.46|                  0|               30|                           4|                      0| 72|              3|                     4|               1|                    0|                  0|                   0|                 0|                0|               0|                      0|     1|   0|\n",
            "|        163|     116.12|43.94|                  0|                8|                           8|                      4| 72|              4|                     1|               0|                    0|                  0|                   0|                 0|                1|               1|                      0|     1|   0|\n",
            "|        183|      99.79|29.84|                  0|                1|                           4|                     20| 80|              4|                     2|               0|                    0|                  0|                   0|                 0|                0|               0|                      0|     0|   1|\n",
            "|        168|      81.65|29.05|                 30|               30|                          12|                      8| 80|              4|                     3|               1|                    0|                  0|                   0|                 0|                1|               0|                      0|     0|   1|\n",
            "|        178|     104.33| 33.0|                  2|               16|                          12|                      8| 47|              4|                     1|               1|                    0|                  0|                   0|                 0|                0|               1|                      1|     0|   1|\n",
            "|        163|      79.38|30.04|                  0|               12|                           8|                      4| 72|              4|                     2|               0|                    0|                  1|                   1|                 0|                1|               1|                      0|     1|   0|\n",
            "+-----------+-----------+-----+-------------------+-----------------+----------------------------+-----------------------+---+---------------+----------------------+----------------+---------------------+-------------------+--------------------+------------------+-----------------+----------------+-----------------------+------+----+\n",
            "only showing top 20 rows\n",
            "\n"
          ]
        }
      ],
      "source": [
        "df.show()"
      ]
    },
    {
      "cell_type": "code",
      "execution_count": null,
      "metadata": {
        "colab": {
          "base_uri": "https://localhost:8080/"
        },
        "id": "JV6zobyFyScy",
        "outputId": "298a3e07-53f8-4dc4-ea04-c1e4b2ec337a"
      },
      "outputs": [
        {
          "data": {
            "text/plain": [
              "[StructField('Height_(cm)', IntegerType(), True),\n",
              " StructField('Weight_(kg)', DoubleType(), True),\n",
              " StructField('BMI', DoubleType(), True),\n",
              " StructField('Alcohol_Consumption', IntegerType(), True),\n",
              " StructField('Fruit_Consumption', IntegerType(), True),\n",
              " StructField('Green_Vegetables_Consumption', IntegerType(), True),\n",
              " StructField('FriedPotato_Consumption', IntegerType(), True),\n",
              " StructField('Age', IntegerType(), True),\n",
              " StructField('Checkup_Encoded', IntegerType(), True),\n",
              " StructField('General_Health_Encoded', IntegerType(), True),\n",
              " StructField('Exercise_Encoded', IntegerType(), True),\n",
              " StructField('Heart_Disease_Encoded', IntegerType(), True),\n",
              " StructField('Skin_Cancer_Encoded', IntegerType(), True),\n",
              " StructField('Other_Cancer_Encoded', IntegerType(), True),\n",
              " StructField('Depression_Encoded', IntegerType(), True),\n",
              " StructField('Arthritis_Encoded', IntegerType(), True),\n",
              " StructField('Diabetes_Encoded', IntegerType(), True),\n",
              " StructField('Smoking_History_Encoded', IntegerType(), True),\n",
              " StructField('Female', IntegerType(), False),\n",
              " StructField('Male', IntegerType(), False)]"
            ]
          },
          "execution_count": 223,
          "metadata": {},
          "output_type": "execute_result"
        }
      ],
      "source": [
        "df.schema.fields"
      ]
    },
    {
      "cell_type": "code",
      "execution_count": null,
      "metadata": {
        "colab": {
          "base_uri": "https://localhost:8080/"
        },
        "id": "29e092a7",
        "outputId": "50180cb1-4c4b-40b7-f304-2d7aba4a285c"
      },
      "outputs": [
        {
          "name": "stdout",
          "output_type": "stream",
          "text": [
            "Numerical columns: ['Height_(cm)', 'Weight_(kg)', 'BMI', 'Alcohol_Consumption', 'Fruit_Consumption', 'Green_Vegetables_Consumption', 'FriedPotato_Consumption', 'Age', 'Checkup_Encoded', 'General_Health_Encoded', 'Exercise_Encoded', 'Heart_Disease_Encoded', 'Skin_Cancer_Encoded', 'Other_Cancer_Encoded', 'Depression_Encoded', 'Arthritis_Encoded', 'Diabetes_Encoded', 'Smoking_History_Encoded', 'Female', 'Male']\n",
            "Number of Cols: 20\n"
          ]
        }
      ],
      "source": [
        "numerical_cols = [field.name for field in df.schema.fields if field.dataType.typeName() in [\"integer\", \"double\", \"float\"]]\n",
        "print(\"Numerical columns:\", numerical_cols)\n",
        "print(\"Number of Cols:\", len(numerical_cols))"
      ]
    },
    {
      "cell_type": "code",
      "execution_count": null,
      "metadata": {
        "colab": {
          "base_uri": "https://localhost:8080/"
        },
        "id": "011bcf07",
        "outputId": "407b11e4-2906-4699-dfc6-9c10e041987c"
      },
      "outputs": [
        {
          "name": "stdout",
          "output_type": "stream",
          "text": [
            "+-----+-------------+\n",
            "|  BMI| BMI_Category|\n",
            "+-----+-------------+\n",
            "|14.54|  Underweight|\n",
            "|28.29|   Overweight|\n",
            "|33.47|      Obesity|\n",
            "|28.73|   Overweight|\n",
            "|24.37|Normal weight|\n",
            "|46.11|      Obesity|\n",
            "|22.74|Normal weight|\n",
            "|39.94|      Obesity|\n",
            "|27.46|   Overweight|\n",
            "|34.67|      Obesity|\n",
            "+-----+-------------+\n",
            "only showing top 10 rows\n",
            "\n"
          ]
        }
      ],
      "source": [
        "from pyspark.sql.functions import col, when\n",
        "\n",
        "df = df.withColumn(\n",
        "    \"BMI_Category\",\n",
        "    when(col(\"BMI\") < 18.5, \"Underweight\")\n",
        "    .when((col(\"BMI\") >= 18.5) & (col(\"BMI\") < 25), \"Normal weight\")\n",
        "    .when((col(\"BMI\") >= 25) & (col(\"BMI\") < 30), \"Overweight\")\n",
        "    .when(col(\"BMI\") >= 30, \"Obesity\")\n",
        "    .otherwise(\"Unknown\") # Handle any unexpected values\n",
        ")\n",
        "\n",
        "df.select(\"BMI\", \"BMI_Category\").show(10)"
      ]
    },
    {
      "cell_type": "code",
      "execution_count": null,
      "metadata": {
        "colab": {
          "base_uri": "https://localhost:8080/"
        },
        "id": "sat05dO-9Kox",
        "outputId": "05b3cda3-dc18-44bc-9988-6e0433f389fe"
      },
      "outputs": [
        {
          "name": "stdout",
          "output_type": "stream",
          "text": [
            "+-----------+-----------+-----+-------------------+-----------------+----------------------------+-----------------------+---+---------------+----------------------+----------------+---------------------+-------------------+--------------------+------------------+-----------------+----------------+-----------------------+------+----+-------------+\n",
            "|Height_(cm)|Weight_(kg)|  BMI|Alcohol_Consumption|Fruit_Consumption|Green_Vegetables_Consumption|FriedPotato_Consumption|Age|Checkup_Encoded|General_Health_Encoded|Exercise_Encoded|Heart_Disease_Encoded|Skin_Cancer_Encoded|Other_Cancer_Encoded|Depression_Encoded|Arthritis_Encoded|Diabetes_Encoded|Smoking_History_Encoded|Female|Male| BMI_Category|\n",
            "+-----------+-----------+-----+-------------------+-----------------+----------------------------+-----------------------+---+---------------+----------------------+----------------+---------------------+-------------------+--------------------+------------------+-----------------+----------------+-----------------------+------+----+-------------+\n",
            "|        150|      32.66|14.54|                  0|               30|                          16|                     12| 72|              3|                     0|               0|                    0|                  0|                   0|                 0|                1|               0|                      1|     1|   0|  Underweight|\n",
            "|        165|      77.11|28.29|                  0|               30|                           0|                      4| 72|              4|                     3|               0|                    1|                  0|                   0|                 0|                0|               1|                      0|     1|   0|   Overweight|\n",
            "|        163|      88.45|33.47|                  4|               12|                           3|                     16| 62|              4|                     3|               1|                    0|                  0|                   0|                 0|                0|               1|                      0|     1|   0|      Obesity|\n",
            "|        180|      93.44|28.73|                  0|               30|                          30|                      8| 77|              4|                     0|               1|                    1|                  0|                   0|                 0|                0|               1|                      0|     0|   1|   Overweight|\n",
            "|        191|      88.45|24.37|                  0|                8|                           4|                      0| 80|              4|                     2|               0|                    0|                  0|                   0|                 0|                0|               0|                      1|     0|   1|Normal weight|\n",
            "|        183|     154.22|46.11|                  0|               12|                          12|                     12| 62|              4|                     2|               0|                    0|                  0|                   0|                 1|                1|               0|                      0|     0|   1|      Obesity|\n",
            "|        175|      69.85|22.74|                  0|               16|                           8|                      0| 62|              4|                     1|               1|                    1|                  0|                   0|                 0|                1|               0|                      1|     0|   1|Normal weight|\n",
            "|        165|     108.86|39.94|                  3|               30|                           8|                      8| 67|              4|                     2|               1|                    0|                  0|                   0|                 0|                1|               0|                      1|     1|   0|      Obesity|\n",
            "|        163|      72.57|27.46|                  0|               12|                          12|                      4| 67|              4|                     1|               0|                    0|                  0|                   0|                 1|                0|               0|                      1|     1|   0|   Overweight|\n",
            "|        163|      91.63|34.67|                  0|               12|                          12|                      1| 72|              4|                     1|               0|                    0|                  0|                   0|                 0|                1|               1|                      0|     1|   0|      Obesity|\n",
            "|        160|      74.84|29.23|                  0|               30|                          20|                      2| 77|              4|                     1|               1|                    1|                  0|                   0|                 0|                1|               0|                      0|     1|   0|   Overweight|\n",
            "|        175|      73.48|23.92|                  0|                2|                           8|                     30| 77|              4|                     1|               0|                    1|                  1|                   0|                 0|                0|               1|                      0|     0|   1|Normal weight|\n",
            "|        168|      83.91|29.86|                  8|                8|                           0|                      2| 52|              4|                     3|               0|                    0|                  0|                   0|                 1|                0|               0|                      0|     1|   0|   Overweight|\n",
            "|        178|      113.4|35.87|                  4|                2|                           3|                      4| 67|              4|                     1|               0|                    0|                  1|                   0|                 0|                0|               0|                      1|     0|   1|      Obesity|\n",
            "|        152|      52.16|22.46|                  0|               30|                           4|                      0| 72|              3|                     4|               1|                    0|                  0|                   0|                 0|                0|               0|                      0|     1|   0|Normal weight|\n",
            "|        163|     116.12|43.94|                  0|                8|                           8|                      4| 72|              4|                     1|               0|                    0|                  0|                   0|                 0|                1|               1|                      0|     1|   0|      Obesity|\n",
            "|        183|      99.79|29.84|                  0|                1|                           4|                     20| 80|              4|                     2|               0|                    0|                  0|                   0|                 0|                0|               0|                      0|     0|   1|   Overweight|\n",
            "|        168|      81.65|29.05|                 30|               30|                          12|                      8| 80|              4|                     3|               1|                    0|                  0|                   0|                 0|                1|               0|                      0|     0|   1|   Overweight|\n",
            "|        178|     104.33| 33.0|                  2|               16|                          12|                      8| 47|              4|                     1|               1|                    0|                  0|                   0|                 0|                0|               1|                      1|     0|   1|      Obesity|\n",
            "|        163|      79.38|30.04|                  0|               12|                           8|                      4| 72|              4|                     2|               0|                    0|                  1|                   1|                 0|                1|               1|                      0|     1|   0|      Obesity|\n",
            "+-----------+-----------+-----+-------------------+-----------------+----------------------------+-----------------------+---+---------------+----------------------+----------------+---------------------+-------------------+--------------------+------------------+-----------------+----------------+-----------------------+------+----+-------------+\n",
            "only showing top 20 rows\n",
            "\n"
          ]
        }
      ],
      "source": [
        "df.show()"
      ]
    },
    {
      "cell_type": "code",
      "execution_count": null,
      "metadata": {
        "colab": {
          "base_uri": "https://localhost:8080/"
        },
        "id": "I3lcOibW9Lhn",
        "outputId": "22097192-bcdf-486b-8565-3008acedf778"
      },
      "outputs": [
        {
          "name": "stdout",
          "output_type": "stream",
          "text": [
            "+-------------+--------------------+\n",
            "| BMI_Category|BMI_Category_Encoded|\n",
            "+-------------+--------------------+\n",
            "|  Underweight|                   0|\n",
            "|   Overweight|                   1|\n",
            "|      Obesity|                   0|\n",
            "|   Overweight|                   1|\n",
            "|Normal weight|                   2|\n",
            "|      Obesity|                   0|\n",
            "|Normal weight|                   2|\n",
            "|      Obesity|                   0|\n",
            "|   Overweight|                   1|\n",
            "|      Obesity|                   0|\n",
            "+-------------+--------------------+\n",
            "only showing top 10 rows\n",
            "\n"
          ]
        }
      ],
      "source": [
        "from pyspark.sql.functions import col, when\n",
        "\n",
        "df = df.withColumn(\n",
        "    \"BMI_Category_Encoded\",  # Create a new column for the encoded values\n",
        "    when(col(\"BMI_Category\") == \"Obesity\", 0)\n",
        "    .when(col(\"BMI_Category\") == \"Overweight\", 1)\n",
        "    .when(col(\"BMI_Category\") == \"Normal weight\", 2)\n",
        "    .when(col(\"BMI_Category\") == \"Underweight\", 0) # Note: Underweight is also mapped to 0\n",
        "    .otherwise(None) # Handle any unexpected values\n",
        ")\n",
        "\n",
        "df.select(\"BMI_Category\", \"BMI_Category_Encoded\").show(10)"
      ]
    },
    {
      "cell_type": "code",
      "execution_count": null,
      "metadata": {
        "colab": {
          "base_uri": "https://localhost:8080/"
        },
        "id": "n2MvnWXi9-px",
        "outputId": "e6b1d35e-040f-447d-c0b3-17eaffdaad29"
      },
      "outputs": [
        {
          "name": "stdout",
          "output_type": "stream",
          "text": [
            "+-----------+-----------+-----+-------------------+-----------------+----------------------------+-----------------------+---+---------------+----------------------+----------------+---------------------+-------------------+--------------------+------------------+-----------------+----------------+-----------------------+------+----+-------------+--------------------+\n",
            "|Height_(cm)|Weight_(kg)|  BMI|Alcohol_Consumption|Fruit_Consumption|Green_Vegetables_Consumption|FriedPotato_Consumption|Age|Checkup_Encoded|General_Health_Encoded|Exercise_Encoded|Heart_Disease_Encoded|Skin_Cancer_Encoded|Other_Cancer_Encoded|Depression_Encoded|Arthritis_Encoded|Diabetes_Encoded|Smoking_History_Encoded|Female|Male| BMI_Category|BMI_Category_Encoded|\n",
            "+-----------+-----------+-----+-------------------+-----------------+----------------------------+-----------------------+---+---------------+----------------------+----------------+---------------------+-------------------+--------------------+------------------+-----------------+----------------+-----------------------+------+----+-------------+--------------------+\n",
            "|        150|      32.66|14.54|                  0|               30|                          16|                     12| 72|              3|                     0|               0|                    0|                  0|                   0|                 0|                1|               0|                      1|     1|   0|  Underweight|                   0|\n",
            "|        165|      77.11|28.29|                  0|               30|                           0|                      4| 72|              4|                     3|               0|                    1|                  0|                   0|                 0|                0|               1|                      0|     1|   0|   Overweight|                   1|\n",
            "|        163|      88.45|33.47|                  4|               12|                           3|                     16| 62|              4|                     3|               1|                    0|                  0|                   0|                 0|                0|               1|                      0|     1|   0|      Obesity|                   0|\n",
            "|        180|      93.44|28.73|                  0|               30|                          30|                      8| 77|              4|                     0|               1|                    1|                  0|                   0|                 0|                0|               1|                      0|     0|   1|   Overweight|                   1|\n",
            "|        191|      88.45|24.37|                  0|                8|                           4|                      0| 80|              4|                     2|               0|                    0|                  0|                   0|                 0|                0|               0|                      1|     0|   1|Normal weight|                   2|\n",
            "|        183|     154.22|46.11|                  0|               12|                          12|                     12| 62|              4|                     2|               0|                    0|                  0|                   0|                 1|                1|               0|                      0|     0|   1|      Obesity|                   0|\n",
            "|        175|      69.85|22.74|                  0|               16|                           8|                      0| 62|              4|                     1|               1|                    1|                  0|                   0|                 0|                1|               0|                      1|     0|   1|Normal weight|                   2|\n",
            "|        165|     108.86|39.94|                  3|               30|                           8|                      8| 67|              4|                     2|               1|                    0|                  0|                   0|                 0|                1|               0|                      1|     1|   0|      Obesity|                   0|\n",
            "|        163|      72.57|27.46|                  0|               12|                          12|                      4| 67|              4|                     1|               0|                    0|                  0|                   0|                 1|                0|               0|                      1|     1|   0|   Overweight|                   1|\n",
            "|        163|      91.63|34.67|                  0|               12|                          12|                      1| 72|              4|                     1|               0|                    0|                  0|                   0|                 0|                1|               1|                      0|     1|   0|      Obesity|                   0|\n",
            "+-----------+-----------+-----+-------------------+-----------------+----------------------------+-----------------------+---+---------------+----------------------+----------------+---------------------+-------------------+--------------------+------------------+-----------------+----------------+-----------------------+------+----+-------------+--------------------+\n",
            "only showing top 10 rows\n",
            "\n"
          ]
        },
        {
          "data": {
            "text/plain": [
              "(None, 22)"
            ]
          },
          "execution_count": 228,
          "metadata": {},
          "output_type": "execute_result"
        }
      ],
      "source": [
        "df.show(10), len(df.columns)"
      ]
    },
    {
      "cell_type": "code",
      "execution_count": null,
      "metadata": {
        "id": "QNFtqNhp11bL"
      },
      "outputs": [],
      "source": [
        "df=df.drop('BMI_Category')"
      ]
    },
    {
      "cell_type": "code",
      "execution_count": null,
      "metadata": {
        "colab": {
          "base_uri": "https://localhost:8080/"
        },
        "id": "jFDgnXGe2e1b",
        "outputId": "940b1e7f-67fb-4353-ff79-98fc83fd0d31"
      },
      "outputs": [
        {
          "name": "stdout",
          "output_type": "stream",
          "text": [
            "+-----------+-----------+-----+-------------------+-----------------+----------------------------+-----------------------+---+---------------+----------------------+----------------+---------------------+-------------------+--------------------+------------------+-----------------+----------------+-----------------------+------+----+--------------------+\n",
            "|Height_(cm)|Weight_(kg)|  BMI|Alcohol_Consumption|Fruit_Consumption|Green_Vegetables_Consumption|FriedPotato_Consumption|Age|Checkup_Encoded|General_Health_Encoded|Exercise_Encoded|Heart_Disease_Encoded|Skin_Cancer_Encoded|Other_Cancer_Encoded|Depression_Encoded|Arthritis_Encoded|Diabetes_Encoded|Smoking_History_Encoded|Female|Male|BMI_Category_Encoded|\n",
            "+-----------+-----------+-----+-------------------+-----------------+----------------------------+-----------------------+---+---------------+----------------------+----------------+---------------------+-------------------+--------------------+------------------+-----------------+----------------+-----------------------+------+----+--------------------+\n",
            "|        150|      32.66|14.54|                  0|               30|                          16|                     12| 72|              3|                     0|               0|                    0|                  0|                   0|                 0|                1|               0|                      1|     1|   0|                   0|\n",
            "|        165|      77.11|28.29|                  0|               30|                           0|                      4| 72|              4|                     3|               0|                    1|                  0|                   0|                 0|                0|               1|                      0|     1|   0|                   1|\n",
            "|        163|      88.45|33.47|                  4|               12|                           3|                     16| 62|              4|                     3|               1|                    0|                  0|                   0|                 0|                0|               1|                      0|     1|   0|                   0|\n",
            "|        180|      93.44|28.73|                  0|               30|                          30|                      8| 77|              4|                     0|               1|                    1|                  0|                   0|                 0|                0|               1|                      0|     0|   1|                   1|\n",
            "|        191|      88.45|24.37|                  0|                8|                           4|                      0| 80|              4|                     2|               0|                    0|                  0|                   0|                 0|                0|               0|                      1|     0|   1|                   2|\n",
            "|        183|     154.22|46.11|                  0|               12|                          12|                     12| 62|              4|                     2|               0|                    0|                  0|                   0|                 1|                1|               0|                      0|     0|   1|                   0|\n",
            "|        175|      69.85|22.74|                  0|               16|                           8|                      0| 62|              4|                     1|               1|                    1|                  0|                   0|                 0|                1|               0|                      1|     0|   1|                   2|\n",
            "|        165|     108.86|39.94|                  3|               30|                           8|                      8| 67|              4|                     2|               1|                    0|                  0|                   0|                 0|                1|               0|                      1|     1|   0|                   0|\n",
            "|        163|      72.57|27.46|                  0|               12|                          12|                      4| 67|              4|                     1|               0|                    0|                  0|                   0|                 1|                0|               0|                      1|     1|   0|                   1|\n",
            "|        163|      91.63|34.67|                  0|               12|                          12|                      1| 72|              4|                     1|               0|                    0|                  0|                   0|                 0|                1|               1|                      0|     1|   0|                   0|\n",
            "+-----------+-----------+-----+-------------------+-----------------+----------------------------+-----------------------+---+---------------+----------------------+----------------+---------------------+-------------------+--------------------+------------------+-----------------+----------------+-----------------------+------+----+--------------------+\n",
            "only showing top 10 rows\n",
            "\n"
          ]
        },
        {
          "data": {
            "text/plain": [
              "(None, 21)"
            ]
          },
          "execution_count": 230,
          "metadata": {},
          "output_type": "execute_result"
        }
      ],
      "source": [
        "df.show(10), len(df.columns)"
      ]
    },
    {
      "cell_type": "code",
      "execution_count": null,
      "metadata": {
        "id": "TF4akdIU2mh4"
      },
      "outputs": [],
      "source": [
        "pdf = df.toPandas()\n",
        "import matplotlib.pyplot as plt\n",
        "import seaborn as sns"
      ]
    },
    {
      "cell_type": "code",
      "execution_count": null,
      "metadata": {
        "colab": {
          "base_uri": "https://localhost:8080/",
          "height": 366
        },
        "id": "Ri33ZtNn4Sk5",
        "outputId": "76093dff-560c-4dd9-96bf-fec107fd674b"
      },
      "outputs": [
        {
          "data": {
            "image/png": "[encoded data removed]",
            "text/plain": [
              "<Figure size 5000x2000 with 1 Axes>"
            ]
          },
          "metadata": {},
          "output_type": "display_data"
        }
      ],
      "source": [
        "plt.figure(figsize=(50, 20))\n",
        "sns.boxplot(data=pdf)\n",
        "plt.title(\"Side-by-Side Boxplots for All Columns\")\n",
        "plt.show()"
      ]
    },
    {
      "cell_type": "markdown",
      "metadata": {
        "id": "031e3cf2"
      },
      "source": [
        "## outlier detection (IQR Method)"
      ]
    },
    {
      "cell_type": "code",
      "execution_count": null,
      "metadata": {
        "colab": {
          "base_uri": "https://localhost:8080/"
        },
        "id": "z7c4bTTP-aGq",
        "outputId": "d47079a9-d052-4d2f-d4a5-d9880ab6cf44"
      },
      "outputs": [
        {
          "data": {
            "text/plain": [
              "['Height_(cm)',\n",
              " 'Weight_(kg)',\n",
              " 'BMI',\n",
              " 'Alcohol_Consumption',\n",
              " 'Fruit_Consumption',\n",
              " 'Green_Vegetables_Consumption',\n",
              " 'FriedPotato_Consumption',\n",
              " 'Age',\n",
              " 'Checkup_Encoded',\n",
              " 'General_Health_Encoded',\n",
              " 'Exercise_Encoded',\n",
              " 'Heart_Disease_Encoded',\n",
              " 'Skin_Cancer_Encoded',\n",
              " 'Other_Cancer_Encoded',\n",
              " 'Depression_Encoded',\n",
              " 'Arthritis_Encoded',\n",
              " 'Diabetes_Encoded',\n",
              " 'Smoking_History_Encoded',\n",
              " 'Female',\n",
              " 'Male']"
            ]
          },
          "execution_count": 233,
          "metadata": {},
          "output_type": "execute_result"
        }
      ],
      "source": [
        "numerical_cols"
      ]
    },
    {
      "cell_type": "code",
      "execution_count": null,
      "metadata": {
        "colab": {
          "base_uri": "https://localhost:8080/"
        },
        "id": "2f2fb15a",
        "outputId": "7c46303c-6a70-410e-8ce3-e21081b1dc67"
      },
      "outputs": [
        {
          "name": "stdout",
          "output_type": "stream",
          "text": [
            "Outliers in Height_(cm): Before\n",
            "1055\n",
            "Outliers in Height_(cm): After\n",
            "0\n",
            "Outliers in Weight_(kg): Before\n",
            "9477\n",
            "Outliers in Weight_(kg): After\n",
            "0\n",
            "Outliers in BMI: Before\n",
            "12783\n",
            "Outliers in BMI: After\n",
            "0\n",
            "Outliers in Alcohol_Consumption: Before\n",
            "36147\n",
            "Outliers in Alcohol_Consumption: After\n",
            "0\n",
            "Outliers in Fruit_Consumption: Before\n",
            "68225\n",
            "Outliers in Fruit_Consumption: After\n",
            "0\n",
            "Outliers in Green_Vegetables_Consumption: Before\n",
            "11878\n",
            "Outliers in Green_Vegetables_Consumption: After\n",
            "0\n",
            "Outliers in FriedPotato_Consumption: Before\n",
            "19456\n",
            "Outliers in FriedPotato_Consumption: After\n",
            "0\n"
          ]
        }
      ],
      "source": [
        "from pyspark.sql.functions import col, expr\n",
        "\n",
        "# Calculate Q1 and Q3 for each numerical column\n",
        "cols_to_handle=['Height_(cm)','Weight_(kg)','BMI','Alcohol_Consumption','Fruit_Consumption','Green_Vegetables_Consumption','FriedPotato_Consumption']\n",
        "\n",
        "quantiles = df.stat.approxQuantile(cols_to_handle, [0.25, 0.75], 0.05)\n",
        "\n",
        "# Identify outliers using IQR for each numerical column\n",
        "for i, col_name in enumerate(cols_to_handle):\n",
        "    q1 = quantiles[i][0]\n",
        "    q3 = quantiles[i][1]\n",
        "    iqr = q3 - q1\n",
        "    lower_bound = q1 - 1.5 * iqr\n",
        "    upper_bound = q3 + 1.5 * iqr\n",
        "\n",
        "    print(f\"Outliers in {col_name}: Before\")\n",
        "    print(df.filter((col(col_name) < lower_bound) | (col(col_name) > upper_bound)).count())\n",
        "    df = df.withColumn(\n",
        "        col_name,\n",
        "        when(col(col_name) < lower_bound, lower_bound)\n",
        "        .when(col(col_name) > upper_bound, upper_bound)\n",
        "        .otherwise(col(col_name))\n",
        "    )\n",
        "    print(f\"Outliers in {col_name}: After\")\n",
        "    print(df.filter((col(col_name) < lower_bound) | (col(col_name) > upper_bound)).count())"
      ]
    },
    {
      "cell_type": "code",
      "execution_count": null,
      "metadata": {
        "colab": {
          "base_uri": "https://localhost:8080/"
        },
        "id": "l5vNGafs-m_e",
        "outputId": "4a7fb795-27f4-4c96-d992-71d152e5e51b"
      },
      "outputs": [
        {
          "name": "stdout",
          "output_type": "stream",
          "text": [
            "308854\n",
            "+-----------+------------------+------+-------------------+-----------------+----------------------------+-----------------------+---+---------------+----------------------+----------------+---------------------+-------------------+--------------------+------------------+-----------------+----------------+-----------------------+------+----+--------------------+\n",
            "|Height_(cm)|       Weight_(kg)|   BMI|Alcohol_Consumption|Fruit_Consumption|Green_Vegetables_Consumption|FriedPotato_Consumption|Age|Checkup_Encoded|General_Health_Encoded|Exercise_Encoded|Heart_Disease_Encoded|Skin_Cancer_Encoded|Other_Cancer_Encoded|Depression_Encoded|Arthritis_Encoded|Diabetes_Encoded|Smoking_History_Encoded|Female|Male|BMI_Category_Encoded|\n",
            "+-----------+------------------+------+-------------------+-----------------+----------------------------+-----------------------+---+---------------+----------------------+----------------+---------------------+-------------------+--------------------+------------------+-----------------+----------------+-----------------------+------+----+--------------------+\n",
            "|      150.0|             32.66| 14.54|                0.0|             30.0|                        16.0|                   12.0| 72|              3|                     0|               0|                    0|                  0|                   0|                 0|                1|               0|                      1|     1|   0|                   0|\n",
            "|      165.0|             77.11| 28.29|                0.0|             30.0|                         0.0|                    4.0| 72|              4|                     3|               0|                    1|                  0|                   0|                 0|                0|               1|                      0|     1|   0|                   1|\n",
            "|      163.0|             88.45| 33.47|                4.0|             12.0|                         3.0|                   16.0| 62|              4|                     3|               1|                    0|                  0|                   0|                 0|                0|               1|                      0|     1|   0|                   0|\n",
            "|      180.0|             93.44| 28.73|                0.0|             30.0|                        30.0|                    8.0| 77|              4|                     0|               1|                    1|                  0|                   0|                 0|                0|               1|                      0|     0|   1|                   1|\n",
            "|      191.0|             88.45| 24.37|                0.0|              8.0|                         4.0|                    0.0| 80|              4|                     2|               0|                    0|                  0|                   0|                 0|                0|               0|                      1|     0|   1|                   2|\n",
            "|      183.0|130.41499999999996|41.755|                0.0|             12.0|                        12.0|                   12.0| 62|              4|                     2|               0|                    0|                  0|                   0|                 1|                1|               0|                      0|     0|   1|                   0|\n",
            "|      175.0|             69.85| 22.74|                0.0|             16.0|                         8.0|                    0.0| 62|              4|                     1|               1|                    1|                  0|                   0|                 0|                1|               0|                      1|     0|   1|                   2|\n",
            "|      165.0|            108.86| 39.94|                3.0|             30.0|                         8.0|                    8.0| 67|              4|                     2|               1|                    0|                  0|                   0|                 0|                1|               0|                      1|     1|   0|                   0|\n",
            "|      163.0|             72.57| 27.46|                0.0|             12.0|                        12.0|                    4.0| 67|              4|                     1|               0|                    0|                  0|                   0|                 1|                0|               0|                      1|     1|   0|                   1|\n",
            "|      163.0|             91.63| 34.67|                0.0|             12.0|                        12.0|                    1.0| 72|              4|                     1|               0|                    0|                  0|                   0|                 0|                1|               1|                      0|     1|   0|                   0|\n",
            "|      160.0|             74.84| 29.23|                0.0|             30.0|                        20.0|                    2.0| 77|              4|                     1|               1|                    1|                  0|                   0|                 0|                1|               0|                      0|     1|   0|                   1|\n",
            "|      175.0|             73.48| 23.92|                0.0|              2.0|                         8.0|                   17.0| 77|              4|                     1|               0|                    1|                  1|                   0|                 0|                0|               1|                      0|     0|   1|                   2|\n",
            "|      168.0|             83.91| 29.86|                8.0|              8.0|                         0.0|                    2.0| 52|              4|                     3|               0|                    0|                  0|                   0|                 1|                0|               0|                      0|     1|   0|                   1|\n",
            "|      178.0|             113.4| 35.87|                4.0|              2.0|                         3.0|                    4.0| 67|              4|                     1|               0|                    0|                  1|                   0|                 0|                0|               0|                      1|     0|   1|                   0|\n",
            "|      152.0|             52.16| 22.46|                0.0|             30.0|                         4.0|                    0.0| 72|              3|                     4|               1|                    0|                  0|                   0|                 0|                0|               0|                      0|     1|   0|                   2|\n",
            "|      163.0|            116.12|41.755|                0.0|              8.0|                         8.0|                    4.0| 72|              4|                     1|               0|                    0|                  0|                   0|                 0|                1|               1|                      0|     1|   0|                   0|\n",
            "|      183.0|             99.79| 29.84|                0.0|              1.0|                         4.0|                   17.0| 80|              4|                     2|               0|                    0|                  0|                   0|                 0|                0|               0|                      0|     0|   1|                   1|\n",
            "|      168.0|             81.65| 29.05|               15.0|             30.0|                        12.0|                    8.0| 80|              4|                     3|               1|                    0|                  0|                   0|                 0|                1|               0|                      0|     0|   1|                   1|\n",
            "|      178.0|            104.33|  33.0|                2.0|             16.0|                        12.0|                    8.0| 47|              4|                     1|               1|                    0|                  0|                   0|                 0|                0|               1|                      1|     0|   1|                   0|\n",
            "|      163.0|             79.38| 30.04|                0.0|             12.0|                         8.0|                    4.0| 72|              4|                     2|               0|                    0|                  1|                   1|                 0|                1|               1|                      0|     1|   0|                   0|\n",
            "+-----------+------------------+------+-------------------+-----------------+----------------------------+-----------------------+---+---------------+----------------------+----------------+---------------------+-------------------+--------------------+------------------+-----------------+----------------+-----------------------+------+----+--------------------+\n",
            "only showing top 20 rows\n",
            "\n"
          ]
        }
      ],
      "source": [
        "print(df.select().count())\n",
        "df.show()"
      ]
    },
    {
      "cell_type": "code",
      "execution_count": null,
      "metadata": {
        "colab": {
          "base_uri": "https://localhost:8080/"
        },
        "id": "UxKt4wkMFbL9",
        "outputId": "f528d2a6-20d9-4693-b1b5-451ade2160f0"
      },
      "outputs": [
        {
          "name": "stdout",
          "output_type": "stream",
          "text": [
            "Class percentages for column: Height_(cm)\n",
            "+-----------+----------+\n",
            "|Height_(cm)|percentage|\n",
            "+-----------+----------+\n",
            "|      168.0|      8.78|\n",
            "|      163.0|      8.35|\n",
            "|      170.0|      8.01|\n",
            "|      178.0|      7.99|\n",
            "|      173.0|      7.64|\n",
            "|      165.0|      7.63|\n",
            "|      175.0|      7.14|\n",
            "|      183.0|      7.13|\n",
            "|      160.0|      6.74|\n",
            "|      157.0|      6.27|\n",
            "|      180.0|       6.2|\n",
            "|      185.0|      3.59|\n",
            "|      155.0|       3.2|\n",
            "|      152.0|      2.99|\n",
            "|      188.0|      2.94|\n",
            "|      191.0|      1.66|\n",
            "|      193.0|      1.03|\n",
            "|      150.0|      0.94|\n",
            "|      196.0|      0.44|\n",
            "|      147.0|      0.32|\n",
            "+-----------+----------+\n",
            "only showing top 20 rows\n",
            "\n",
            "Class percentages for column: Weight_(kg)\n",
            "+-----------+----------+\n",
            "|Weight_(kg)|percentage|\n",
            "+-----------+----------+\n",
            "|      90.72|      5.38|\n",
            "|      81.65|      4.89|\n",
            "|      68.04|      4.29|\n",
            "|      72.57|      4.29|\n",
            "|      77.11|      3.96|\n",
            "|      86.18|      3.59|\n",
            "|       63.5|       3.1|\n",
            "|     130.41|      3.07|\n",
            "|      79.38|      2.94|\n",
            "|      74.84|      2.77|\n",
            "|      99.79|      2.74|\n",
            "|      83.91|      2.58|\n",
            "|      95.25|      2.46|\n",
            "|      58.97|      2.36|\n",
            "|     104.33|      2.15|\n",
            "|      65.77|      2.15|\n",
            "|      113.4|      2.06|\n",
            "|      70.31|      2.06|\n",
            "|      61.23|      2.02|\n",
            "|     108.86|      1.79|\n",
            "+-----------+----------+\n",
            "only showing top 20 rows\n",
            "\n",
            "Class percentages for column: BMI\n",
            "+------+----------+\n",
            "|   BMI|percentage|\n",
            "+------+----------+\n",
            "|41.755|      4.12|\n",
            "| 26.63|      1.08|\n",
            "| 27.46|      0.86|\n",
            "| 24.41|      0.84|\n",
            "| 27.44|      0.83|\n",
            "| 27.12|      0.73|\n",
            "|  25.1|      0.67|\n",
            "| 32.28|      0.63|\n",
            "|  28.7|      0.61|\n",
            "| 29.53|      0.61|\n",
            "| 29.29|       0.6|\n",
            "| 25.84|      0.59|\n",
            "| 25.09|      0.54|\n",
            "| 24.21|      0.52|\n",
            "| 28.34|      0.52|\n",
            "| 25.75|       0.5|\n",
            "| 29.05|       0.5|\n",
            "| 25.06|       0.5|\n",
            "| 26.61|       0.5|\n",
            "| 24.96|      0.49|\n",
            "+------+----------+\n",
            "only showing top 20 rows\n",
            "\n",
            "Class percentages for column: Alcohol_Consumption\n",
            "+-------------------+----------+\n",
            "|Alcohol_Consumption|percentage|\n",
            "+-------------------+----------+\n",
            "|                0.0|     45.41|\n",
            "|               15.0|      13.7|\n",
            "|                1.0|      8.09|\n",
            "|                4.0|      7.57|\n",
            "|                2.0|      6.39|\n",
            "|                8.0|      4.35|\n",
            "|                3.0|      3.72|\n",
            "|                5.0|      3.12|\n",
            "|               12.0|      2.86|\n",
            "|               10.0|      2.55|\n",
            "|                6.0|      1.14|\n",
            "|                7.0|      0.83|\n",
            "|               14.0|      0.16|\n",
            "|                9.0|      0.08|\n",
            "|               13.0|      0.02|\n",
            "|               11.0|      0.01|\n",
            "+-------------------+----------+\n",
            "\n",
            "Class percentages for column: Fruit_Consumption\n",
            "+-----------------+----------+\n",
            "|Fruit_Consumption|percentage|\n",
            "+-----------------+----------+\n",
            "|             30.0|     29.23|\n",
            "|             57.0|     22.09|\n",
            "|             12.0|       9.8|\n",
            "|              8.0|      7.21|\n",
            "|             20.0|      5.66|\n",
            "|             16.0|      5.65|\n",
            "|              4.0|      4.43|\n",
            "|              0.0|       2.7|\n",
            "|              2.0|      1.88|\n",
            "|              5.0|      1.69|\n",
            "|              3.0|       1.5|\n",
            "|             10.0|      1.45|\n",
            "|             15.0|      1.32|\n",
            "|             28.0|      1.09|\n",
            "|              1.0|      1.08|\n",
            "|             24.0|      0.78|\n",
            "|             40.0|      0.65|\n",
            "|              6.0|      0.55|\n",
            "|             25.0|      0.37|\n",
            "|              7.0|      0.31|\n",
            "+-----------------+----------+\n",
            "only showing top 20 rows\n",
            "\n",
            "Class percentages for column: Green_Vegetables_Consumption\n",
            "+----------------------------+----------+\n",
            "|Green_Vegetables_Consumption|percentage|\n",
            "+----------------------------+----------+\n",
            "|                        30.0|     16.57|\n",
            "|                        12.0|     13.59|\n",
            "|                         8.0|     13.06|\n",
            "|                         4.0|     12.21|\n",
            "|                        16.0|      7.56|\n",
            "|                         0.0|      6.93|\n",
            "|                        20.0|      6.89|\n",
            "|                        44.0|      3.85|\n",
            "|                         2.0|      3.67|\n",
            "|                         1.0|      2.76|\n",
            "|                        15.0|      2.27|\n",
            "|                         3.0|      2.09|\n",
            "|                         5.0|      2.03|\n",
            "|                        10.0|      2.02|\n",
            "|                        24.0|       0.9|\n",
            "|                        28.0|      0.87|\n",
            "|                         6.0|      0.74|\n",
            "|                        25.0|      0.71|\n",
            "|                         7.0|      0.48|\n",
            "|                        40.0|      0.31|\n",
            "+----------------------------+----------+\n",
            "only showing top 20 rows\n",
            "\n",
            "Class percentages for column: FriedPotato_Consumption\n",
            "+-----------------------+----------+\n",
            "|FriedPotato_Consumption|percentage|\n",
            "+-----------------------+----------+\n",
            "|                    4.0|     21.96|\n",
            "|                    0.0|     14.32|\n",
            "|                    8.0|     12.42|\n",
            "|                    2.0|     11.69|\n",
            "|                    1.0|      9.67|\n",
            "|                   12.0|       7.1|\n",
            "|                   17.0|      6.32|\n",
            "|                    3.0|      4.97|\n",
            "|                    5.0|      3.28|\n",
            "|                   16.0|       2.6|\n",
            "|                   10.0|      2.44|\n",
            "|                   15.0|      1.48|\n",
            "|                    6.0|      0.97|\n",
            "|                    7.0|      0.61|\n",
            "|                   14.0|      0.08|\n",
            "|                    9.0|      0.05|\n",
            "|                   13.0|      0.02|\n",
            "|                   11.0|      0.01|\n",
            "+-----------------------+----------+\n",
            "\n",
            "Class percentages for column: Age\n",
            "+---+----------+\n",
            "|Age|percentage|\n",
            "+---+----------+\n",
            "| 67|     10.83|\n",
            "| 62|      10.5|\n",
            "| 72|     10.07|\n",
            "| 57|      9.08|\n",
            "| 52|      8.13|\n",
            "| 80|      7.21|\n",
            "| 42|      6.99|\n",
            "| 47|      6.79|\n",
            "| 77|       6.7|\n",
            "| 37|      6.67|\n",
            "| 21|      6.05|\n",
            "| 32|      5.97|\n",
            "| 27|      5.02|\n",
            "+---+----------+\n",
            "\n",
            "Class percentages for column: Checkup_Encoded\n",
            "+---------------+----------+\n",
            "|Checkup_Encoded|percentage|\n",
            "+---------------+----------+\n",
            "|              4|      77.5|\n",
            "|              3|     12.05|\n",
            "|              2|      5.65|\n",
            "|              1|      4.35|\n",
            "|              0|      0.46|\n",
            "+---------------+----------+\n",
            "\n",
            "Class percentages for column: General_Health_Encoded\n",
            "+----------------------+----------+\n",
            "|General_Health_Encoded|percentage|\n",
            "+----------------------+----------+\n",
            "|                     3|     35.74|\n",
            "|                     2|     30.88|\n",
            "|                     4|     18.12|\n",
            "|                     1|     11.59|\n",
            "|                     0|      3.67|\n",
            "+----------------------+----------+\n",
            "\n",
            "Class percentages for column: Exercise_Encoded\n",
            "+----------------+----------+\n",
            "|Exercise_Encoded|percentage|\n",
            "+----------------+----------+\n",
            "|               1|     77.51|\n",
            "|               0|     22.49|\n",
            "+----------------+----------+\n",
            "\n",
            "Class percentages for column: Heart_Disease_Encoded\n",
            "+---------------------+----------+\n",
            "|Heart_Disease_Encoded|percentage|\n",
            "+---------------------+----------+\n",
            "|                    0|     91.91|\n",
            "|                    1|      8.09|\n",
            "+---------------------+----------+\n",
            "\n",
            "Class percentages for column: Skin_Cancer_Encoded\n",
            "+-------------------+----------+\n",
            "|Skin_Cancer_Encoded|percentage|\n",
            "+-------------------+----------+\n",
            "|                  0|     90.29|\n",
            "|                  1|      9.71|\n",
            "+-------------------+----------+\n",
            "\n",
            "Class percentages for column: Other_Cancer_Encoded\n",
            "+--------------------+----------+\n",
            "|Other_Cancer_Encoded|percentage|\n",
            "+--------------------+----------+\n",
            "|                   0|     90.33|\n",
            "|                   1|      9.67|\n",
            "+--------------------+----------+\n",
            "\n",
            "Class percentages for column: Depression_Encoded\n",
            "+------------------+----------+\n",
            "|Depression_Encoded|percentage|\n",
            "+------------------+----------+\n",
            "|                 0|     79.96|\n",
            "|                 1|     20.04|\n",
            "+------------------+----------+\n",
            "\n",
            "Class percentages for column: Arthritis_Encoded\n",
            "+-----------------+----------+\n",
            "|Arthritis_Encoded|percentage|\n",
            "+-----------------+----------+\n",
            "|                0|     67.28|\n",
            "|                1|     32.72|\n",
            "+-----------------+----------+\n",
            "\n",
            "Class percentages for column: Diabetes_Encoded\n",
            "+----------------+----------+\n",
            "|Diabetes_Encoded|percentage|\n",
            "+----------------+----------+\n",
            "|               0|     86.99|\n",
            "|               1|     13.01|\n",
            "+----------------+----------+\n",
            "\n",
            "Class percentages for column: Smoking_History_Encoded\n",
            "+-----------------------+----------+\n",
            "|Smoking_History_Encoded|percentage|\n",
            "+-----------------------+----------+\n",
            "|                      0|     59.44|\n",
            "|                      1|     40.56|\n",
            "+-----------------------+----------+\n",
            "\n",
            "Class percentages for column: Female\n",
            "+------+----------+\n",
            "|Female|percentage|\n",
            "+------+----------+\n",
            "|     1|     51.87|\n",
            "|     0|     48.13|\n",
            "+------+----------+\n",
            "\n",
            "Class percentages for column: Male\n",
            "+----+----------+\n",
            "|Male|percentage|\n",
            "+----+----------+\n",
            "|   0|     51.87|\n",
            "|   1|     48.13|\n",
            "+----+----------+\n",
            "\n",
            "Class percentages for column: BMI_Category_Encoded\n",
            "+--------------------+----------+\n",
            "|BMI_Category_Encoded|percentage|\n",
            "+--------------------+----------+\n",
            "|                   1|     35.52|\n",
            "|                   0|     35.42|\n",
            "|                   2|     29.06|\n",
            "+--------------------+----------+\n",
            "\n"
          ]
        }
      ],
      "source": [
        "from pyspark.sql.functions import col, count, lit, round\n",
        "\n",
        "total_rows = df.count()  # total number of rows in the DataFrame\n",
        "\n",
        "for column in df.columns:\n",
        "    print(f\"Class percentages for column: {column}\")\n",
        "    df.groupBy(column) \\\n",
        "      .agg(round((count(column) / total_rows) * 100, 2).alias(\"percentage\")) \\\n",
        "      .orderBy(\"percentage\", ascending=False) \\\n",
        "      .show()\n"
      ]
    },
    {
      "cell_type": "code",
      "execution_count": null,
      "metadata": {
        "colab": {
          "base_uri": "https://localhost:8080/"
        },
        "id": "45dHZV9KINyO",
        "outputId": "94facd6e-eebb-4a85-8628-440c1cae6982"
      },
      "outputs": [
        {
          "name": "stdout",
          "output_type": "stream",
          "text": [
            "+-----------+-----------+---+-------------------+-----------------+----------------------------+-----------------------+---+---------------+----------------------+----------------+---------------------+-------------------+--------------------+------------------+-----------------+----------------+-----------------------+------+----+--------------------+\n",
            "|Height_(cm)|Weight_(kg)|BMI|Alcohol_Consumption|Fruit_Consumption|Green_Vegetables_Consumption|FriedPotato_Consumption|Age|Checkup_Encoded|General_Health_Encoded|Exercise_Encoded|Heart_Disease_Encoded|Skin_Cancer_Encoded|Other_Cancer_Encoded|Depression_Encoded|Arthritis_Encoded|Diabetes_Encoded|Smoking_History_Encoded|Female|Male|BMI_Category_Encoded|\n",
            "+-----------+-----------+---+-------------------+-----------------+----------------------------+-----------------------+---+---------------+----------------------+----------------+---------------------+-------------------+--------------------+------------------+-----------------+----------------+-----------------------+------+----+--------------------+\n",
            "|          0|          0|  0|                  0|                0|                           0|                      0|  0|              0|                     0|               0|                    0|                  0|                   0|                 0|                0|            9542|                      0|     0|   0|                   0|\n",
            "+-----------+-----------+---+-------------------+-----------------+----------------------------+-----------------------+---+---------------+----------------------+----------------+---------------------+-------------------+--------------------+------------------+-----------------+----------------+-----------------------+------+----+--------------------+\n",
            "\n"
          ]
        }
      ],
      "source": [
        "df.select([sum(col(c).isNull().cast(\"int\")).alias(c) for c in df.columns]).show()"
      ]
    },
    {
      "cell_type": "code",
      "execution_count": null,
      "metadata": {
        "id": "3Rb6mF8-IWR-"
      },
      "outputs": [],
      "source": [
        "df = df.fillna({\"Diabetes_Encoded\": 0})"
      ]
    },
    {
      "cell_type": "code",
      "execution_count": null,
      "metadata": {
        "colab": {
          "base_uri": "https://localhost:8080/"
        },
        "id": "cv86MxLnIaBl",
        "outputId": "2c0ce4be-a2b4-4c08-a8f4-fd5726bfa2a1"
      },
      "outputs": [
        {
          "data": {
            "text/plain": [
              "0"
            ]
          },
          "execution_count": 239,
          "metadata": {},
          "output_type": "execute_result"
        }
      ],
      "source": [
        "df.filter(col(\"Diabetes_Encoded\").isNull()).count()"
      ]
    },
    {
      "cell_type": "code",
      "execution_count": null,
      "metadata": {
        "id": "7-_lCkHCZD0i"
      },
      "outputs": [],
      "source": [
        "from pyspark.sql.functions import when, col\n",
        "\n",
        "df = df.withColumn(\n",
        "    \"Weight_(kg)\",\n",
        "    when(col(\"Weight_(kg)\") == 130.41499999999996, 130.41)\n",
        "    .otherwise(col(\"Weight_(kg)\"))\n",
        ")"
      ]
    },
    {
      "cell_type": "code",
      "execution_count": null,
      "metadata": {
        "colab": {
          "base_uri": "https://localhost:8080/",
          "height": 187
        },
        "id": "IJl-Jv2xbd4u",
        "outputId": "5b3850d1-02b0-4cca-c22b-a5f7a94e828c"
      },
      "outputs": [
        {
          "data": {
            "text/html": [
              "<div style=\"max-width:800px; border: 1px solid var(--colab-border-color);\"><style>\n",
              "      pre.function-repr-contents {\n",
              "        overflow-x: auto;\n",
              "        padding: 8px 12px;\n",
              "        max-height: 500px;\n",
              "      }\n",
              "\n",
              "      pre.function-repr-contents.function-repr-contents-collapsed {\n",
              "        cursor: pointer;\n",
              "        max-height: 100px;\n",
              "      }\n",
              "    </style>\n",
              "    <pre style=\"white-space: initial; background:\n",
              "         var(--colab-secondary-surface-color); padding: 8px 12px;\n",
              "         border-bottom: 1px solid var(--colab-border-color);\"><b>pyspark.sql.dataframe.DataFrame</b><br/>def __init__(jdf: JavaObject, sql_ctx: Union[&#x27;SQLContext&#x27;, &#x27;SparkSession&#x27;])</pre><pre class=\"function-repr-contents function-repr-contents-collapsed\" style=\"\"><a class=\"filepath\" style=\"display:none\" href=\"#\">/usr/local/lib/python3.11/dist-packages/pyspark/sql/dataframe.py</a>A distributed collection of data grouped into named columns.\n",
              "\n",
              ".. versionadded:: 1.3.0\n",
              "\n",
              ".. versionchanged:: 3.4.0\n",
              "    Supports Spark Connect.\n",
              "\n",
              "Examples\n",
              "--------\n",
              "A :class:`DataFrame` is equivalent to a relational table in Spark SQL,\n",
              "and can be created using various functions in :class:`SparkSession`:\n",
              "\n",
              "&gt;&gt;&gt; people = spark.createDataFrame([\n",
              "...     {&quot;deptId&quot;: 1, &quot;age&quot;: 40, &quot;name&quot;: &quot;Hyukjin Kwon&quot;, &quot;gender&quot;: &quot;M&quot;, &quot;salary&quot;: 50},\n",
              "...     {&quot;deptId&quot;: 1, &quot;age&quot;: 50, &quot;name&quot;: &quot;Takuya Ueshin&quot;, &quot;gender&quot;: &quot;M&quot;, &quot;salary&quot;: 100},\n",
              "...     {&quot;deptId&quot;: 2, &quot;age&quot;: 60, &quot;name&quot;: &quot;Xinrong Meng&quot;, &quot;gender&quot;: &quot;F&quot;, &quot;salary&quot;: 150},\n",
              "...     {&quot;deptId&quot;: 3, &quot;age&quot;: 20, &quot;name&quot;: &quot;Haejoon Lee&quot;, &quot;gender&quot;: &quot;M&quot;, &quot;salary&quot;: 200}\n",
              "... ])\n",
              "\n",
              "Once created, it can be manipulated using the various domain-specific-language\n",
              "(DSL) functions defined in: :class:`DataFrame`, :class:`Column`.\n",
              "\n",
              "To select a column from the :class:`DataFrame`, use the apply method:\n",
              "\n",
              "&gt;&gt;&gt; age_col = people.age\n",
              "\n",
              "A more concrete example:\n",
              "\n",
              "&gt;&gt;&gt; # To create DataFrame using SparkSession\n",
              "... department = spark.createDataFrame([\n",
              "...     {&quot;id&quot;: 1, &quot;name&quot;: &quot;PySpark&quot;},\n",
              "...     {&quot;id&quot;: 2, &quot;name&quot;: &quot;ML&quot;},\n",
              "...     {&quot;id&quot;: 3, &quot;name&quot;: &quot;Spark SQL&quot;}\n",
              "... ])\n",
              "\n",
              "&gt;&gt;&gt; people.filter(people.age &gt; 30).join(\n",
              "...     department, people.deptId == department.id).groupBy(\n",
              "...     department.name, &quot;gender&quot;).agg({&quot;salary&quot;: &quot;avg&quot;, &quot;age&quot;: &quot;max&quot;}).show()\n",
              "+-------+------+-----------+--------+\n",
              "|   name|gender|avg(salary)|max(age)|\n",
              "+-------+------+-----------+--------+\n",
              "|     ML|     F|      150.0|      60|\n",
              "|PySpark|     M|       75.0|      50|\n",
              "+-------+------+-----------+--------+\n",
              "\n",
              "Notes\n",
              "-----\n",
              "A DataFrame should only be created as described above. It should not be directly\n",
              "created via using the constructor.</pre>\n",
              "      <script>\n",
              "      if (google.colab.kernel.accessAllowed && google.colab.files && google.colab.files.view) {\n",
              "        for (const element of document.querySelectorAll('.filepath')) {\n",
              "          element.style.display = 'block'\n",
              "          element.onclick = (event) => {\n",
              "            event.preventDefault();\n",
              "            event.stopPropagation();\n",
              "            google.colab.files.view(element.textContent, 80);\n",
              "          };\n",
              "        }\n",
              "      }\n",
              "      for (const element of document.querySelectorAll('.function-repr-contents')) {\n",
              "        element.onclick = (event) => {\n",
              "          event.preventDefault();\n",
              "          event.stopPropagation();\n",
              "          element.classList.toggle('function-repr-contents-collapsed');\n",
              "        };\n",
              "      }\n",
              "      </script>\n",
              "      </div>"
            ],
            "text/plain": [
              "pyspark.sql.dataframe.DataFrame"
            ]
          },
          "execution_count": 241,
          "metadata": {},
          "output_type": "execute_result"
        }
      ],
      "source": [
        "type(df)"
      ]
    },
    {
      "cell_type": "markdown",
      "metadata": {
        "id": "32076d70"
      },
      "source": [
        "## Export DataFrame to CSV\n",
        "\n",
        "### Subtask:\n",
        "Export the current PySpark DataFrame to a CSV file."
      ]
    },
    {
      "cell_type": "code",
      "execution_count": null,
      "metadata": {
        "colab": {
          "base_uri": "https://localhost:8080/"
        },
        "id": "4ce22fa3",
        "outputId": "a6d571ce-efb8-41ca-deee-4debfada99d8"
      },
      "outputs": [
        {
          "name": "stdout",
          "output_type": "stream",
          "text": [
            "DataFrame successfully exported to a single file in output_csv_single_file\n"
          ]
        }
      ],
      "source": [
        "# Specify the output path\n",
        "output_path = \"output_csv_single_file\"\n",
        "\n",
        "# Repartition the DataFrame to a single partition and write to CSV\n",
        "df.repartition(1).write.csv(output_path, header=True, mode=\"overwrite\")\n",
        "\n",
        "print(f\"DataFrame successfully exported to a single file in {output_path}\")"
      ]
    }
  ],
  "metadata": {
    "colab": {
      "provenance": []
    },
    "kernelspec": {
      "display_name": "Python 3",
      "name": "python3"
    },
    "language_info": {
      "name": "python"
    }
  },
  "nbformat": 4,
  "nbformat_minor": 0
}
